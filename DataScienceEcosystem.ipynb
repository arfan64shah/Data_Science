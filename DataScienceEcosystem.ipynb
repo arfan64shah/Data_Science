{
 "cells": [
  {
   "cell_type": "markdown",
   "id": "2b00c89e-8118-4bb4-ae60-bdc63000a321",
   "metadata": {},
   "source": [
    "# Data Science Tools and Ecosystem\n",
    "\n",
    "This notebook shows the summary of the Data Science Tools and Ecosystem"
   ]
  },
  {
   "cell_type": "markdown",
   "id": "3a643189-0399-49f0-800a-5a2f79bf1039",
   "metadata": {},
   "source": [
    "**Objectives:**\n",
    "* Python\n",
    "* R\n",
    "* SQL\n",
    "* Java\n",
    "* C++\n",
    "* JavaScript\n",
    "* Scala"
   ]
  },
  {
   "cell_type": "markdown",
   "id": "93d499b3-2ac8-444e-8fdc-3ca8ada6b550",
   "metadata": {},
   "source": [
    "Some of the popular Data Science languages are:\n",
    "1. Python\n",
    "2. R\n",
    "3. SQL\n",
    "4. Java\n",
    "5. C++"
   ]
  },
  {
   "cell_type": "markdown",
   "id": "b55f0b66-daf3-47e3-ad94-bdcff5d7c306",
   "metadata": {},
   "source": [
    "Some of the common libraries used by Data Scientists are:\n",
    "1. Numpy\n",
    "2. Pandas\n",
    "3. Matplot\n",
    "4. seaborn\n",
    "5. Scikitlearn\n",
    "6. Keras\n",
    "7. Tensorflow"
   ]
  },
  {
   "cell_type": "markdown",
   "id": "000245d7-6fb0-4220-bfcd-fc4fb43ecad6",
   "metadata": {},
   "source": [
    "| Data Science Tools |\n",
    "| --- |\n",
    "| Python |\n",
    "| Jupyternotebook |\n",
    "| Apache Spark |"
   ]
  },
  {
   "cell_type": "code",
   "execution_count": 1,
   "id": "776f4fc3-fc35-4461-ac3a-347b01dbee67",
   "metadata": {},
   "outputs": [
    {
     "data": {
      "text/plain": [
       "17"
      ]
     },
     "execution_count": 1,
     "metadata": {},
     "output_type": "execute_result"
    }
   ],
   "source": [
    "# This is a simple arithmatic operation\n",
    "(4*3) + 5"
   ]
  },
  {
   "cell_type": "markdown",
   "id": "74818a1f-2dcf-4d49-a8aa-e7849446e1a1",
   "metadata": {},
   "source": [
    "# Below are a few examples of evaluating arithmetic expressions in Python."
   ]
  },
  {
   "cell_type": "code",
   "execution_count": 4,
   "id": "796165b4-6a94-4d0e-84bf-fdca947e4cef",
   "metadata": {},
   "outputs": [
    {
     "name": "stdout",
     "output_type": "stream",
     "text": [
      "Hours are 3.3333333333333335\n"
     ]
    }
   ],
   "source": [
    "# This will convert 200 minutes into hours in Python\n",
    "\n",
    "mins = 200\n",
    "hours = 200/60\n",
    "\n",
    "print(\"Hours are\", hours)"
   ]
  },
  {
   "cell_type": "markdown",
   "id": "ba1e53c8-5c27-4648-8549-87135bbfec08",
   "metadata": {},
   "source": [
    "## Author\n",
    "**Arfan Shah**"
   ]
  },
  {
   "cell_type": "code",
   "execution_count": null,
   "id": "df0e74e3-c9a3-4eda-9b74-a071611a5cf6",
   "metadata": {},
   "outputs": [],
   "source": []
  }
 ],
 "metadata": {
  "kernelspec": {
   "display_name": "Python 3 (ipykernel)",
   "language": "python",
   "name": "python3"
  },
  "language_info": {
   "codemirror_mode": {
    "name": "ipython",
    "version": 3
   },
   "file_extension": ".py",
   "mimetype": "text/x-python",
   "name": "python",
   "nbconvert_exporter": "python",
   "pygments_lexer": "ipython3",
   "version": "3.11.4"
  }
 },
 "nbformat": 4,
 "nbformat_minor": 5
}
