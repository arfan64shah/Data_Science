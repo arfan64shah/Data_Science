{
 "cells": [
  {
   "cell_type": "code",
   "execution_count": 1,
   "id": "8f9dbe23-9437-4ad3-949d-75f024c9c292",
   "metadata": {},
   "outputs": [],
   "source": [
    "# import required libraries\n",
    "import numpy as np\n",
    "import pandas as pd\n",
    "import plotly.graph_objects as go"
   ]
  },
  {
   "cell_type": "code",
   "execution_count": 2,
   "id": "d3670f12-3829-4074-984a-4558dd9fc242",
   "metadata": {},
   "outputs": [
    {
     "data": {
      "text/plain": [
       "[10, 7, 14, 23, 15, 7, 32]"
      ]
     },
     "execution_count": 2,
     "metadata": {},
     "output_type": "execute_result"
    }
   ],
   "source": [
    "# create a dummy dataset\n",
    "dataset = [10, 7, 14, 23, 15, 7, 32]\n",
    "\n",
    "dataset"
   ]
  },
  {
   "cell_type": "code",
   "execution_count": 5,
   "id": "5e2bb2a4-95a5-488a-a2b5-d5dc0e8861c4",
   "metadata": {},
   "outputs": [
    {
     "data": {
      "text/plain": [
       "array([ 7,  7, 10, 14, 15, 23, 32])"
      ]
     },
     "execution_count": 5,
     "metadata": {},
     "output_type": "execute_result"
    }
   ],
   "source": [
    "# sort these  values in ascending order\n",
    "ascending_dataset = np.sort(dataset)\n",
    "ascending_dataset"
   ]
  },
  {
   "cell_type": "code",
   "execution_count": 7,
   "id": "3d1b1c34-f7d1-48ad-9686-1d65955e77af",
   "metadata": {},
   "outputs": [
    {
     "data": {
      "text/plain": [
       "15.428571428571429"
      ]
     },
     "execution_count": 7,
     "metadata": {},
     "output_type": "execute_result"
    }
   ],
   "source": [
    "# find mean\n",
    "mean = np.mean(ascending_dataset)\n",
    "mean"
   ]
  },
  {
   "cell_type": "code",
   "execution_count": 9,
   "id": "c956111b-8cbd-401e-8d7d-3c543c5959d4",
   "metadata": {},
   "outputs": [
    {
     "data": {
      "text/plain": [
       "14.0"
      ]
     },
     "execution_count": 9,
     "metadata": {},
     "output_type": "execute_result"
    }
   ],
   "source": [
    "# find median\n",
    "median = np.median(ascending_dataset)\n",
    "median"
   ]
  },
  {
   "cell_type": "code",
   "execution_count": 25,
   "id": "b9e3a9b3-8cac-4823-a69b-39b26e1a7c66",
   "metadata": {},
   "outputs": [],
   "source": [
    "# find mode manually\n",
    "\n",
    "# define a function\n",
    "def mode_manually(ascending_dataset):\n",
    "\n",
    "    # declare a dicationary\n",
    "    dic = {}\n",
    "    for i in ascending_dataset:\n",
    "        if (i not in dic):\n",
    "            dic[i] = 1\n",
    "        else:\n",
    "            dic[i] = dic[i] + 1\n",
    "    maxx = max(dic, key = dic.get)\n",
    "    return maxx"
   ]
  },
  {
   "cell_type": "code",
   "execution_count": 27,
   "id": "f7fba988-75e5-42f0-bebf-dffc81f45cc0",
   "metadata": {},
   "outputs": [],
   "source": [
    "mode = mode_manually(ascending_dataset)"
   ]
  },
  {
   "cell_type": "code",
   "execution_count": 29,
   "id": "5e7aed11-4ac2-4aa3-bfb8-df7f8fc81ff9",
   "metadata": {},
   "outputs": [
    {
     "name": "stdout",
     "output_type": "stream",
     "text": [
      "Mode is 7\n"
     ]
    }
   ],
   "source": [
    "print(\"Mode is\", mode)"
   ]
  },
  {
   "cell_type": "code",
   "execution_count": null,
   "id": "f23f113f-ca66-4206-8a1f-ffeca76b4f4f",
   "metadata": {},
   "outputs": [],
   "source": []
  }
 ],
 "metadata": {
  "kernelspec": {
   "display_name": "Python 3 (ipykernel)",
   "language": "python",
   "name": "python3"
  },
  "language_info": {
   "codemirror_mode": {
    "name": "ipython",
    "version": 3
   },
   "file_extension": ".py",
   "mimetype": "text/x-python",
   "name": "python",
   "nbconvert_exporter": "python",
   "pygments_lexer": "ipython3",
   "version": "3.11.4"
  }
 },
 "nbformat": 4,
 "nbformat_minor": 5
}
