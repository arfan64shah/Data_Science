{
 "cells": [
  {
   "cell_type": "code",
   "execution_count": 25,
   "id": "6901382d-c400-4985-87e7-5f22728f47c3",
   "metadata": {},
   "outputs": [],
   "source": [
    "# import required libraries\n",
    "import pandas as pd\n",
    "import numpy as np\n",
    "import plotly.graph_objects as go\n",
    "import tensorflow\n",
    "from tensorflow import keras\n",
    "from keras import Sequential\n",
    "from keras.layers import Dense\n",
    "from sklearn.model_selection import train_test_split\n",
    "from sklearn.preprocessing import StandardScaler\n",
    "import keras_tuner as kt"
   ]
  },
  {
   "cell_type": "code",
   "execution_count": 3,
   "id": "e1979502-79ff-49a3-9e24-f007812618b3",
   "metadata": {},
   "outputs": [
    {
     "data": {
      "text/html": [
       "<div>\n",
       "<style scoped>\n",
       "    .dataframe tbody tr th:only-of-type {\n",
       "        vertical-align: middle;\n",
       "    }\n",
       "\n",
       "    .dataframe tbody tr th {\n",
       "        vertical-align: top;\n",
       "    }\n",
       "\n",
       "    .dataframe thead th {\n",
       "        text-align: right;\n",
       "    }\n",
       "</style>\n",
       "<table border=\"1\" class=\"dataframe\">\n",
       "  <thead>\n",
       "    <tr style=\"text-align: right;\">\n",
       "      <th></th>\n",
       "      <th>Red_Mean</th>\n",
       "      <th>Red_Median</th>\n",
       "      <th>Red_Variance</th>\n",
       "      <th>Red_Std</th>\n",
       "      <th>Green_Mean</th>\n",
       "      <th>Green_Median</th>\n",
       "      <th>Green_Variance</th>\n",
       "      <th>Green_Std</th>\n",
       "      <th>Blue_Mean</th>\n",
       "      <th>Blue_Median</th>\n",
       "      <th>Blue_Variance</th>\n",
       "      <th>Blue_Std</th>\n",
       "      <th>label</th>\n",
       "    </tr>\n",
       "  </thead>\n",
       "  <tbody>\n",
       "    <tr>\n",
       "      <th>0</th>\n",
       "      <td>121.849594</td>\n",
       "      <td>145.0</td>\n",
       "      <td>3304.497718</td>\n",
       "      <td>57.484761</td>\n",
       "      <td>125.967102</td>\n",
       "      <td>135.0</td>\n",
       "      <td>1763.033006</td>\n",
       "      <td>41.988487</td>\n",
       "      <td>111.251572</td>\n",
       "      <td>134.0</td>\n",
       "      <td>3330.577657</td>\n",
       "      <td>57.711157</td>\n",
       "      <td>0</td>\n",
       "    </tr>\n",
       "    <tr>\n",
       "      <th>1</th>\n",
       "      <td>103.830032</td>\n",
       "      <td>102.0</td>\n",
       "      <td>2152.241390</td>\n",
       "      <td>46.392256</td>\n",
       "      <td>114.606018</td>\n",
       "      <td>121.0</td>\n",
       "      <td>1838.561514</td>\n",
       "      <td>42.878450</td>\n",
       "      <td>95.103455</td>\n",
       "      <td>88.0</td>\n",
       "      <td>3073.705972</td>\n",
       "      <td>55.441013</td>\n",
       "      <td>1</td>\n",
       "    </tr>\n",
       "    <tr>\n",
       "      <th>2</th>\n",
       "      <td>116.047089</td>\n",
       "      <td>134.0</td>\n",
       "      <td>2488.556041</td>\n",
       "      <td>49.885429</td>\n",
       "      <td>119.544250</td>\n",
       "      <td>125.0</td>\n",
       "      <td>1193.293666</td>\n",
       "      <td>34.544083</td>\n",
       "      <td>100.909332</td>\n",
       "      <td>119.0</td>\n",
       "      <td>2621.018971</td>\n",
       "      <td>51.195888</td>\n",
       "      <td>0</td>\n",
       "    </tr>\n",
       "    <tr>\n",
       "      <th>3</th>\n",
       "      <td>136.331741</td>\n",
       "      <td>139.0</td>\n",
       "      <td>1649.347666</td>\n",
       "      <td>40.612162</td>\n",
       "      <td>147.529755</td>\n",
       "      <td>151.0</td>\n",
       "      <td>1412.353454</td>\n",
       "      <td>37.581291</td>\n",
       "      <td>126.857681</td>\n",
       "      <td>129.0</td>\n",
       "      <td>2512.158838</td>\n",
       "      <td>50.121441</td>\n",
       "      <td>1</td>\n",
       "    </tr>\n",
       "    <tr>\n",
       "      <th>4</th>\n",
       "      <td>129.850250</td>\n",
       "      <td>134.0</td>\n",
       "      <td>1940.935613</td>\n",
       "      <td>44.056051</td>\n",
       "      <td>131.718399</td>\n",
       "      <td>139.0</td>\n",
       "      <td>1782.426972</td>\n",
       "      <td>42.218799</td>\n",
       "      <td>101.312119</td>\n",
       "      <td>94.0</td>\n",
       "      <td>2798.758005</td>\n",
       "      <td>52.903289</td>\n",
       "      <td>1</td>\n",
       "    </tr>\n",
       "  </tbody>\n",
       "</table>\n",
       "</div>"
      ],
      "text/plain": [
       "     Red_Mean  Red_Median  Red_Variance    Red_Std  ...  Blue_Median  Blue_Variance   Blue_Std  label\n",
       "0  121.849594       145.0   3304.497718  57.484761  ...        134.0    3330.577657  57.711157      0\n",
       "1  103.830032       102.0   2152.241390  46.392256  ...         88.0    3073.705972  55.441013      1\n",
       "2  116.047089       134.0   2488.556041  49.885429  ...        119.0    2621.018971  51.195888      0\n",
       "3  136.331741       139.0   1649.347666  40.612162  ...        129.0    2512.158838  50.121441      1\n",
       "4  129.850250       134.0   1940.935613  44.056051  ...         94.0    2798.758005  52.903289      1\n",
       "\n",
       "[5 rows x 13 columns]"
      ]
     },
     "execution_count": 3,
     "metadata": {},
     "output_type": "execute_result"
    }
   ],
   "source": [
    "# load and read dataset\n",
    "dataset = pd.read_excel('final_dataset.xlsx')\n",
    "dataset.head()"
   ]
  },
  {
   "cell_type": "code",
   "execution_count": 6,
   "id": "07f01f1a-91e1-4ef8-b83e-91c3b63c8ec9",
   "metadata": {},
   "outputs": [
    {
     "data": {
      "text/html": [
       "<div>\n",
       "<style scoped>\n",
       "    .dataframe tbody tr th:only-of-type {\n",
       "        vertical-align: middle;\n",
       "    }\n",
       "\n",
       "    .dataframe tbody tr th {\n",
       "        vertical-align: top;\n",
       "    }\n",
       "\n",
       "    .dataframe thead th {\n",
       "        text-align: right;\n",
       "    }\n",
       "</style>\n",
       "<table border=\"1\" class=\"dataframe\">\n",
       "  <thead>\n",
       "    <tr style=\"text-align: right;\">\n",
       "      <th></th>\n",
       "      <th>Red_Mean</th>\n",
       "      <th>Red_Median</th>\n",
       "      <th>Red_Variance</th>\n",
       "      <th>Red_Std</th>\n",
       "      <th>Green_Mean</th>\n",
       "      <th>Green_Median</th>\n",
       "      <th>Green_Variance</th>\n",
       "      <th>Green_Std</th>\n",
       "      <th>Blue_Mean</th>\n",
       "      <th>Blue_Median</th>\n",
       "      <th>Blue_Variance</th>\n",
       "      <th>Blue_Std</th>\n",
       "      <th>label</th>\n",
       "    </tr>\n",
       "  </thead>\n",
       "  <tbody>\n",
       "    <tr>\n",
       "      <th>count</th>\n",
       "      <td>5702.000000</td>\n",
       "      <td>5702.000000</td>\n",
       "      <td>5702.000000</td>\n",
       "      <td>5702.000000</td>\n",
       "      <td>5702.000000</td>\n",
       "      <td>5702.000000</td>\n",
       "      <td>5702.000000</td>\n",
       "      <td>5702.000000</td>\n",
       "      <td>5702.000000</td>\n",
       "      <td>5702.000000</td>\n",
       "      <td>5702.000000</td>\n",
       "      <td>5702.000000</td>\n",
       "      <td>5702.000000</td>\n",
       "    </tr>\n",
       "    <tr>\n",
       "      <th>mean</th>\n",
       "      <td>126.866256</td>\n",
       "      <td>134.084707</td>\n",
       "      <td>2354.106217</td>\n",
       "      <td>47.866691</td>\n",
       "      <td>131.394668</td>\n",
       "      <td>139.512539</td>\n",
       "      <td>1892.401002</td>\n",
       "      <td>42.468821</td>\n",
       "      <td>111.773510</td>\n",
       "      <td>116.321905</td>\n",
       "      <td>2898.407095</td>\n",
       "      <td>53.288393</td>\n",
       "      <td>1.020168</td>\n",
       "    </tr>\n",
       "    <tr>\n",
       "      <th>std</th>\n",
       "      <td>21.349339</td>\n",
       "      <td>25.988085</td>\n",
       "      <td>776.792043</td>\n",
       "      <td>7.930773</td>\n",
       "      <td>22.146187</td>\n",
       "      <td>24.043098</td>\n",
       "      <td>807.389979</td>\n",
       "      <td>9.424215</td>\n",
       "      <td>19.837836</td>\n",
       "      <td>25.417473</td>\n",
       "      <td>816.039576</td>\n",
       "      <td>7.665804</td>\n",
       "      <td>0.812190</td>\n",
       "    </tr>\n",
       "    <tr>\n",
       "      <th>min</th>\n",
       "      <td>72.897812</td>\n",
       "      <td>56.000000</td>\n",
       "      <td>518.185390</td>\n",
       "      <td>22.763686</td>\n",
       "      <td>78.858002</td>\n",
       "      <td>82.000000</td>\n",
       "      <td>259.989089</td>\n",
       "      <td>16.124177</td>\n",
       "      <td>58.766464</td>\n",
       "      <td>37.000000</td>\n",
       "      <td>517.141674</td>\n",
       "      <td>22.740749</td>\n",
       "      <td>0.000000</td>\n",
       "    </tr>\n",
       "    <tr>\n",
       "      <th>25%</th>\n",
       "      <td>114.593369</td>\n",
       "      <td>119.000000</td>\n",
       "      <td>1798.977901</td>\n",
       "      <td>42.414360</td>\n",
       "      <td>118.017010</td>\n",
       "      <td>125.000000</td>\n",
       "      <td>1284.345478</td>\n",
       "      <td>35.837766</td>\n",
       "      <td>100.909451</td>\n",
       "      <td>102.000000</td>\n",
       "      <td>2304.471245</td>\n",
       "      <td>48.004909</td>\n",
       "      <td>0.000000</td>\n",
       "    </tr>\n",
       "    <tr>\n",
       "      <th>50%</th>\n",
       "      <td>125.856995</td>\n",
       "      <td>134.000000</td>\n",
       "      <td>2282.452842</td>\n",
       "      <td>47.775023</td>\n",
       "      <td>128.989677</td>\n",
       "      <td>137.000000</td>\n",
       "      <td>1792.696035</td>\n",
       "      <td>42.340241</td>\n",
       "      <td>110.126236</td>\n",
       "      <td>114.000000</td>\n",
       "      <td>2882.111371</td>\n",
       "      <td>53.685299</td>\n",
       "      <td>1.000000</td>\n",
       "    </tr>\n",
       "    <tr>\n",
       "      <th>75%</th>\n",
       "      <td>136.507111</td>\n",
       "      <td>146.000000</td>\n",
       "      <td>2776.939211</td>\n",
       "      <td>52.696672</td>\n",
       "      <td>141.508694</td>\n",
       "      <td>151.000000</td>\n",
       "      <td>2423.053734</td>\n",
       "      <td>49.224523</td>\n",
       "      <td>119.115005</td>\n",
       "      <td>126.000000</td>\n",
       "      <td>3438.022143</td>\n",
       "      <td>58.634650</td>\n",
       "      <td>2.000000</td>\n",
       "    </tr>\n",
       "    <tr>\n",
       "      <th>max</th>\n",
       "      <td>246.597122</td>\n",
       "      <td>255.000000</td>\n",
       "      <td>5933.460280</td>\n",
       "      <td>77.028957</td>\n",
       "      <td>251.254089</td>\n",
       "      <td>255.000000</td>\n",
       "      <td>4775.445991</td>\n",
       "      <td>69.104602</td>\n",
       "      <td>235.422943</td>\n",
       "      <td>255.000000</td>\n",
       "      <td>9020.131135</td>\n",
       "      <td>94.974371</td>\n",
       "      <td>2.000000</td>\n",
       "    </tr>\n",
       "  </tbody>\n",
       "</table>\n",
       "</div>"
      ],
      "text/plain": [
       "          Red_Mean   Red_Median  Red_Variance      Red_Std  ...  Blue_Median  Blue_Variance     Blue_Std        label\n",
       "count  5702.000000  5702.000000   5702.000000  5702.000000  ...  5702.000000    5702.000000  5702.000000  5702.000000\n",
       "mean    126.866256   134.084707   2354.106217    47.866691  ...   116.321905    2898.407095    53.288393     1.020168\n",
       "std      21.349339    25.988085    776.792043     7.930773  ...    25.417473     816.039576     7.665804     0.812190\n",
       "min      72.897812    56.000000    518.185390    22.763686  ...    37.000000     517.141674    22.740749     0.000000\n",
       "25%     114.593369   119.000000   1798.977901    42.414360  ...   102.000000    2304.471245    48.004909     0.000000\n",
       "50%     125.856995   134.000000   2282.452842    47.775023  ...   114.000000    2882.111371    53.685299     1.000000\n",
       "75%     136.507111   146.000000   2776.939211    52.696672  ...   126.000000    3438.022143    58.634650     2.000000\n",
       "max     246.597122   255.000000   5933.460280    77.028957  ...   255.000000    9020.131135    94.974371     2.000000\n",
       "\n",
       "[8 rows x 13 columns]"
      ]
     },
     "execution_count": 6,
     "metadata": {},
     "output_type": "execute_result"
    }
   ],
   "source": [
    "# check for discriptive statistics\n",
    "dataset.describe()"
   ]
  },
  {
   "cell_type": "code",
   "execution_count": 7,
   "id": "79ebba3f-85b2-4f48-81b6-525ce1312eaf",
   "metadata": {},
   "outputs": [
    {
     "data": {
      "text/plain": [
       "Red_Mean          0\n",
       "Red_Median        0\n",
       "Red_Variance      0\n",
       "Red_Std           0\n",
       "Green_Mean        0\n",
       "Green_Median      0\n",
       "Green_Variance    0\n",
       "Green_Std         0\n",
       "Blue_Mean         0\n",
       "Blue_Median       0\n",
       "Blue_Variance     0\n",
       "Blue_Std          0\n",
       "label             0\n",
       "dtype: int64"
      ]
     },
     "execution_count": 7,
     "metadata": {},
     "output_type": "execute_result"
    }
   ],
   "source": [
    "# check for null values if any\n",
    "dataset.isnull().sum()"
   ]
  },
  {
   "cell_type": "code",
   "execution_count": 10,
   "id": "85c5a606-75d7-4651-81b6-1abbd1d2d183",
   "metadata": {},
   "outputs": [
    {
     "data": {
      "text/plain": [
       "Red_Mean          float64\n",
       "Red_Median        float64\n",
       "Red_Variance      float64\n",
       "Red_Std           float64\n",
       "Green_Mean        float64\n",
       "Green_Median      float64\n",
       "Green_Variance    float64\n",
       "Green_Std         float64\n",
       "Blue_Mean         float64\n",
       "Blue_Median       float64\n",
       "Blue_Variance     float64\n",
       "Blue_Std          float64\n",
       "label               int64\n",
       "dtype: object"
      ]
     },
     "execution_count": 10,
     "metadata": {},
     "output_type": "execute_result"
    }
   ],
   "source": [
    "# find data types of each column\n",
    "dataset.dtypes"
   ]
  },
  {
   "cell_type": "markdown",
   "id": "d8cdea7a-6a33-4483-aea1-4110cd6a0b4e",
   "metadata": {},
   "source": [
    "# ANN Implementation"
   ]
  },
  {
   "cell_type": "code",
   "execution_count": 9,
   "id": "817a617d-d4e0-4cef-9801-cfdb4a278fd8",
   "metadata": {},
   "outputs": [
    {
     "data": {
      "text/plain": [
       "0    0\n",
       "1    1\n",
       "2    0\n",
       "3    1\n",
       "4    1\n",
       "Name: label, dtype: int64"
      ]
     },
     "execution_count": 9,
     "metadata": {},
     "output_type": "execute_result"
    }
   ],
   "source": [
    "# separate dataset into independent and dependent sets\n",
    "x = dataset.iloc[:, : -1]\n",
    "y = dataset.iloc[:, -1]\n",
    "y.head()"
   ]
  },
  {
   "cell_type": "code",
   "execution_count": 17,
   "id": "a58eb6d8-fb1c-4097-8637-8fbcbbcae123",
   "metadata": {},
   "outputs": [],
   "source": [
    "# scale values in independent set\n",
    "scaler = StandardScaler()\n",
    "x = scaler.fit_transform(x)"
   ]
  },
  {
   "cell_type": "code",
   "execution_count": 18,
   "id": "fe3f637c-1f69-44dc-95c8-e2464802af06",
   "metadata": {},
   "outputs": [],
   "source": [
    "# now classify dataset into training and testing\n",
    "x_train, x_test, y_train, y_test = train_test_split(x, y, test_size = 0.1, random_state = 1)"
   ]
  },
  {
   "cell_type": "code",
   "execution_count": 19,
   "id": "caa0cfce-f816-4795-b8bc-df202527fc8c",
   "metadata": {},
   "outputs": [
    {
     "name": "stdout",
     "output_type": "stream",
     "text": [
      "Model: \"sequential_1\"\n",
      "_________________________________________________________________\n",
      " Layer (type)                Output Shape              Param #   \n",
      "=================================================================\n",
      " dense_5 (Dense)             (None, 12)                156       \n",
      "                                                                 \n",
      " dense_6 (Dense)             (None, 128)               1664      \n",
      "                                                                 \n",
      " dense_7 (Dense)             (None, 128)               16512     \n",
      "                                                                 \n",
      " dense_8 (Dense)             (None, 128)               16512     \n",
      "                                                                 \n",
      " dense_9 (Dense)             (None, 3)                 387       \n",
      "                                                                 \n",
      "=================================================================\n",
      "Total params: 35231 (137.62 KB)\n",
      "Trainable params: 35231 (137.62 KB)\n",
      "Non-trainable params: 0 (0.00 Byte)\n",
      "_________________________________________________________________\n"
     ]
    }
   ],
   "source": [
    "# prepare and build model\n",
    "model = Sequential()\n",
    "\n",
    "# input layer\n",
    "model.add(Dense(units = 12, input_dim = 12, input_shape = (12, ), kernel_initializer = 'uniform'))\n",
    "\n",
    "# first hidden layer\n",
    "model.add(Dense(units = 128, activation = 'relu', kernel_initializer = 'uniform'))\n",
    "\n",
    "# second hidden layer\n",
    "model.add(Dense(units = 128, activation = 'tanh', kernel_initializer = 'uniform'))\n",
    "\n",
    "# third hidden layer\n",
    "model.add(Dense(units = 128, activation = 'relu', kernel_initializer = 'uniform'))\n",
    "\n",
    "# output layer\n",
    "model.add(Dense(units = 3, activation = 'softmax', kernel_initializer = 'uniform'))\n",
    "\n",
    "# summarize model's performance\n",
    "model.summary()"
   ]
  },
  {
   "cell_type": "code",
   "execution_count": 20,
   "id": "e40d718f-9799-4f3c-825b-13f374a74397",
   "metadata": {},
   "outputs": [],
   "source": [
    "# compile model\n",
    "model.compile(optimizer = 'adam', loss = 'SparseCategoricalCrossentropy', metrics = ['accuracy'])"
   ]
  },
  {
   "cell_type": "code",
   "execution_count": 21,
   "id": "c73dff0d-ab8f-4107-aa45-5c49e61560de",
   "metadata": {},
   "outputs": [
    {
     "name": "stdout",
     "output_type": "stream",
     "text": [
      "Epoch 1/5\n",
      "257/257 [==============================] - 3s 5ms/step - loss: 0.5149 - accuracy: 0.8141 - val_loss: 0.2132 - val_accuracy: 0.9370\n",
      "Epoch 2/5\n",
      "257/257 [==============================] - 1s 4ms/step - loss: 0.1843 - accuracy: 0.9306 - val_loss: 0.1519 - val_accuracy: 0.9370\n",
      "Epoch 3/5\n",
      "257/257 [==============================] - 1s 4ms/step - loss: 0.1509 - accuracy: 0.9406 - val_loss: 0.1232 - val_accuracy: 0.9527\n",
      "Epoch 4/5\n",
      "257/257 [==============================] - 1s 4ms/step - loss: 0.1396 - accuracy: 0.9445 - val_loss: 0.1351 - val_accuracy: 0.9457\n",
      "Epoch 5/5\n",
      "257/257 [==============================] - 1s 3ms/step - loss: 0.1291 - accuracy: 0.9487 - val_loss: 0.1645 - val_accuracy: 0.9282\n"
     ]
    },
    {
     "data": {
      "text/plain": [
       "<keras.src.callbacks.History at 0x257befd60d0>"
      ]
     },
     "execution_count": 21,
     "metadata": {},
     "output_type": "execute_result"
    }
   ],
   "source": [
    "# fit model on the data\n",
    "model.fit(x_train, y_train, epochs = 5, batch_size = 20, validation_data = (x_test, y_test))"
   ]
  },
  {
   "cell_type": "code",
   "execution_count": 22,
   "id": "e78e86ff-83e1-4e1e-a2e0-4e4f2bb573d1",
   "metadata": {},
   "outputs": [
    {
     "name": "stdout",
     "output_type": "stream",
     "text": [
      "161/161 [==============================] - 0s 3ms/step - loss: 0.1628 - accuracy: 0.9396\n"
     ]
    },
    {
     "data": {
      "text/plain": [
       "[0.16282901167869568, 0.9395829439163208]"
      ]
     },
     "execution_count": 22,
     "metadata": {},
     "output_type": "execute_result"
    }
   ],
   "source": [
    "# evaluate model for training dataset\n",
    "model.evaluate(x_train, y_train)"
   ]
  },
  {
   "cell_type": "code",
   "execution_count": 23,
   "id": "95f248c1-38f8-40cb-98b4-ef0af77ff1b2",
   "metadata": {},
   "outputs": [
    {
     "name": "stdout",
     "output_type": "stream",
     "text": [
      "18/18 [==============================] - 0s 3ms/step - loss: 0.1645 - accuracy: 0.9282\n"
     ]
    },
    {
     "data": {
      "text/plain": [
       "[0.16450949013233185, 0.928196132183075]"
      ]
     },
     "execution_count": 23,
     "metadata": {},
     "output_type": "execute_result"
    }
   ],
   "source": [
    "# evaluate test set\n",
    "model.evaluate(x_test, y_test)"
   ]
  },
  {
   "cell_type": "markdown",
   "id": "db7822d6-63e9-4b17-8b95-faf24f7ff50c",
   "metadata": {},
   "source": [
    "# Hyperparameter Tuning"
   ]
  },
  {
   "cell_type": "markdown",
   "id": "88683b20-7638-417d-a655-f991055e2f18",
   "metadata": {},
   "source": [
    "### Tuning Optimizer"
   ]
  },
  {
   "cell_type": "code",
   "execution_count": 35,
   "id": "a56d348c-48a9-4c05-926c-d0bedb615e58",
   "metadata": {},
   "outputs": [],
   "source": [
    "# define a function to loop among different optimizers\n",
    "def mydef(hp):\n",
    "\n",
    "    model1 = Sequential()\n",
    "\n",
    "    # input layer\n",
    "    model1.add(Dense(units = 12, input_dim = 12, input_shape = (12, ), kernel_initializer = 'uniform'))\n",
    "\n",
    "    # first hidden layer\n",
    "    model1.add(Dense(units = 128, activation = 'relu', kernel_initializer = 'uniform'))\n",
    "\n",
    "    # second hidden layer\n",
    "    model1.add(Dense(units = 128, activation = 'tanh', kernel_initializer = 'uniform'))\n",
    "\n",
    "    # third hidden layer\n",
    "    model1.add(Dense(units = 128, activation = 'relu', kernel_initializer = 'uniform'))\n",
    "\n",
    "    # declare all the optimizers\n",
    "    optimizers = hp.Choice('optimizer', values = ['adadelta', 'SDG', 'adagrad'])\n",
    "\n",
    "    # compile\n",
    "    model1.compile(optimizer = optimizers, loss = 'SparseCategoricalCrossentropy', metrics = ['accuracy'])\n",
    "\n",
    "    return model1"
   ]
  },
  {
   "cell_type": "code",
   "execution_count": 36,
   "id": "097b307e-82b2-4b9e-8844-304716710119",
   "metadata": {},
   "outputs": [],
   "source": [
    "# prepare tuner\n",
    "tuner = kt.RandomSearch(mydef, objective = 'val_accuracy', max_trials = 5)"
   ]
  },
  {
   "cell_type": "code",
   "execution_count": 37,
   "id": "884b7851-66f0-4b5a-97c3-edbc5415f49c",
   "metadata": {},
   "outputs": [
    {
     "name": "stdout",
     "output_type": "stream",
     "text": [
      "Trial 3 Complete [00h 00m 03s]\n",
      "val_accuracy: 0.9474605917930603\n",
      "\n",
      "Best val_accuracy So Far: 0.9474605917930603\n",
      "Total elapsed time: 00h 00m 07s\n"
     ]
    }
   ],
   "source": [
    "tuner.search(x_train, y_train, epochs = 5, validation_data = (x_test, y_test))"
   ]
  },
  {
   "cell_type": "code",
   "execution_count": 38,
   "id": "6842cfee-a2d9-447e-a84f-10d5ee88711c",
   "metadata": {},
   "outputs": [
    {
     "data": {
      "text/plain": [
       "{'optimizer': 'adagrad'}"
      ]
     },
     "execution_count": 38,
     "metadata": {},
     "output_type": "execute_result"
    }
   ],
   "source": [
    "# get the best optimizer\n",
    "tuner.get_best_hyperparameters()[0].values"
   ]
  },
  {
   "cell_type": "code",
   "execution_count": 39,
   "id": "0995a6d7-e7e5-4ba6-86ed-b1d5a1cd2a04",
   "metadata": {},
   "outputs": [
    {
     "name": "stdout",
     "output_type": "stream",
     "text": [
      "WARNING:tensorflow:Detecting that an object or model or tf.train.Checkpoint is being deleted with unrestored values. See the following logs for the specific values in question. To silence these warnings, use `status.expect_partial()`. See https://www.tensorflow.org/api_docs/python/tf/train/Checkpoint#restorefor details about the status object returned by the restore function.\n",
      "WARNING:tensorflow:Value in checkpoint could not be found in the restored object: (root).optimizer._variables.1\n",
      "WARNING:tensorflow:Value in checkpoint could not be found in the restored object: (root).optimizer._variables.2\n",
      "WARNING:tensorflow:Value in checkpoint could not be found in the restored object: (root).optimizer._variables.3\n",
      "WARNING:tensorflow:Value in checkpoint could not be found in the restored object: (root).optimizer._variables.4\n",
      "WARNING:tensorflow:Value in checkpoint could not be found in the restored object: (root).optimizer._variables.5\n",
      "WARNING:tensorflow:Value in checkpoint could not be found in the restored object: (root).optimizer._variables.6\n",
      "WARNING:tensorflow:Value in checkpoint could not be found in the restored object: (root).optimizer._variables.7\n",
      "WARNING:tensorflow:Value in checkpoint could not be found in the restored object: (root).optimizer._variables.8\n",
      "WARNING:tensorflow:Value in checkpoint could not be found in the restored object: (root).optimizer._variables.9\n",
      "WARNING:tensorflow:Value in checkpoint could not be found in the restored object: (root).optimizer._variables.10\n",
      "WARNING:tensorflow:Value in checkpoint could not be found in the restored object: (root).optimizer._variables.11\n",
      "WARNING:tensorflow:Value in checkpoint could not be found in the restored object: (root).optimizer._variables.12\n",
      "WARNING:tensorflow:Value in checkpoint could not be found in the restored object: (root).optimizer._variables.13\n",
      "WARNING:tensorflow:Value in checkpoint could not be found in the restored object: (root).optimizer._variables.14\n",
      "WARNING:tensorflow:Value in checkpoint could not be found in the restored object: (root).optimizer._variables.15\n",
      "WARNING:tensorflow:Value in checkpoint could not be found in the restored object: (root).optimizer._variables.16\n",
      "Model: \"sequential\"\n",
      "_________________________________________________________________\n",
      " Layer (type)                Output Shape              Param #   \n",
      "=================================================================\n",
      " dense (Dense)               (None, 12)                156       \n",
      "                                                                 \n",
      " dense_1 (Dense)             (None, 128)               1664      \n",
      "                                                                 \n",
      " dense_2 (Dense)             (None, 128)               16512     \n",
      "                                                                 \n",
      " dense_3 (Dense)             (None, 128)               16512     \n",
      "                                                                 \n",
      "=================================================================\n",
      "Total params: 34844 (136.11 KB)\n",
      "Trainable params: 34844 (136.11 KB)\n",
      "Non-trainable params: 0 (0.00 Byte)\n",
      "_________________________________________________________________\n"
     ]
    }
   ],
   "source": [
    "# get the best model\n",
    "model2 = tuner.get_best_models(num_models = 1)[0]\n",
    "model2.summary()"
   ]
  },
  {
   "cell_type": "code",
   "execution_count": null,
   "id": "757af647-cfd5-4ebf-8309-b833683e2fc1",
   "metadata": {},
   "outputs": [],
   "source": []
  }
 ],
 "metadata": {
  "kernelspec": {
   "display_name": "Python 3 (ipykernel)",
   "language": "python",
   "name": "python3"
  },
  "language_info": {
   "codemirror_mode": {
    "name": "ipython",
    "version": 3
   },
   "file_extension": ".py",
   "mimetype": "text/x-python",
   "name": "python",
   "nbconvert_exporter": "python",
   "pygments_lexer": "ipython3",
   "version": "3.11.4"
  }
 },
 "nbformat": 4,
 "nbformat_minor": 5
}
