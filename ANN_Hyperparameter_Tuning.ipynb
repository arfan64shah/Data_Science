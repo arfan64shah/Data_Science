{
 "cells": [
  {
   "cell_type": "code",
   "execution_count": 1,
   "id": "6901382d-c400-4985-87e7-5f22728f47c3",
   "metadata": {},
   "outputs": [],
   "source": [
    "# import required libraries\n",
    "import pandas as pd\n",
    "import numpy as np\n",
    "import plotly.graph_objects as go\n",
    "import tensorflow\n",
    "from tensorflow import keras\n",
    "from keras import Sequential\n",
    "from keras.layers import Dense\n",
    "from sklearn.model_selection import train_test_split\n",
    "from sklearn.preprocessing import StandardScaler\n",
    "import keras_tuner as kt"
   ]
  },
  {
   "cell_type": "code",
   "execution_count": 2,
   "id": "e1979502-79ff-49a3-9e24-f007812618b3",
   "metadata": {},
   "outputs": [
    {
     "data": {
      "text/html": [
       "<div>\n",
       "<style scoped>\n",
       "    .dataframe tbody tr th:only-of-type {\n",
       "        vertical-align: middle;\n",
       "    }\n",
       "\n",
       "    .dataframe tbody tr th {\n",
       "        vertical-align: top;\n",
       "    }\n",
       "\n",
       "    .dataframe thead th {\n",
       "        text-align: right;\n",
       "    }\n",
       "</style>\n",
       "<table border=\"1\" class=\"dataframe\">\n",
       "  <thead>\n",
       "    <tr style=\"text-align: right;\">\n",
       "      <th></th>\n",
       "      <th>Red_Mean</th>\n",
       "      <th>Red_Median</th>\n",
       "      <th>Red_Variance</th>\n",
       "      <th>Red_Std</th>\n",
       "      <th>Green_Mean</th>\n",
       "      <th>Green_Median</th>\n",
       "      <th>Green_Variance</th>\n",
       "      <th>Green_Std</th>\n",
       "      <th>Blue_Mean</th>\n",
       "      <th>Blue_Median</th>\n",
       "      <th>Blue_Variance</th>\n",
       "      <th>Blue_Std</th>\n",
       "      <th>label</th>\n",
       "    </tr>\n",
       "  </thead>\n",
       "  <tbody>\n",
       "    <tr>\n",
       "      <th>0</th>\n",
       "      <td>121.849594</td>\n",
       "      <td>145.0</td>\n",
       "      <td>3304.497718</td>\n",
       "      <td>57.484761</td>\n",
       "      <td>125.967102</td>\n",
       "      <td>135.0</td>\n",
       "      <td>1763.033006</td>\n",
       "      <td>41.988487</td>\n",
       "      <td>111.251572</td>\n",
       "      <td>134.0</td>\n",
       "      <td>3330.577657</td>\n",
       "      <td>57.711157</td>\n",
       "      <td>0</td>\n",
       "    </tr>\n",
       "    <tr>\n",
       "      <th>1</th>\n",
       "      <td>103.830032</td>\n",
       "      <td>102.0</td>\n",
       "      <td>2152.241390</td>\n",
       "      <td>46.392256</td>\n",
       "      <td>114.606018</td>\n",
       "      <td>121.0</td>\n",
       "      <td>1838.561514</td>\n",
       "      <td>42.878450</td>\n",
       "      <td>95.103455</td>\n",
       "      <td>88.0</td>\n",
       "      <td>3073.705972</td>\n",
       "      <td>55.441013</td>\n",
       "      <td>1</td>\n",
       "    </tr>\n",
       "    <tr>\n",
       "      <th>2</th>\n",
       "      <td>116.047089</td>\n",
       "      <td>134.0</td>\n",
       "      <td>2488.556041</td>\n",
       "      <td>49.885429</td>\n",
       "      <td>119.544250</td>\n",
       "      <td>125.0</td>\n",
       "      <td>1193.293666</td>\n",
       "      <td>34.544083</td>\n",
       "      <td>100.909332</td>\n",
       "      <td>119.0</td>\n",
       "      <td>2621.018971</td>\n",
       "      <td>51.195888</td>\n",
       "      <td>0</td>\n",
       "    </tr>\n",
       "    <tr>\n",
       "      <th>3</th>\n",
       "      <td>136.331741</td>\n",
       "      <td>139.0</td>\n",
       "      <td>1649.347666</td>\n",
       "      <td>40.612162</td>\n",
       "      <td>147.529755</td>\n",
       "      <td>151.0</td>\n",
       "      <td>1412.353454</td>\n",
       "      <td>37.581291</td>\n",
       "      <td>126.857681</td>\n",
       "      <td>129.0</td>\n",
       "      <td>2512.158838</td>\n",
       "      <td>50.121441</td>\n",
       "      <td>1</td>\n",
       "    </tr>\n",
       "    <tr>\n",
       "      <th>4</th>\n",
       "      <td>129.850250</td>\n",
       "      <td>134.0</td>\n",
       "      <td>1940.935613</td>\n",
       "      <td>44.056051</td>\n",
       "      <td>131.718399</td>\n",
       "      <td>139.0</td>\n",
       "      <td>1782.426972</td>\n",
       "      <td>42.218799</td>\n",
       "      <td>101.312119</td>\n",
       "      <td>94.0</td>\n",
       "      <td>2798.758005</td>\n",
       "      <td>52.903289</td>\n",
       "      <td>1</td>\n",
       "    </tr>\n",
       "  </tbody>\n",
       "</table>\n",
       "</div>"
      ],
      "text/plain": [
       "     Red_Mean  Red_Median  Red_Variance    Red_Std  Green_Mean  Green_Median  \\\n",
       "0  121.849594       145.0   3304.497718  57.484761  125.967102         135.0   \n",
       "1  103.830032       102.0   2152.241390  46.392256  114.606018         121.0   \n",
       "2  116.047089       134.0   2488.556041  49.885429  119.544250         125.0   \n",
       "3  136.331741       139.0   1649.347666  40.612162  147.529755         151.0   \n",
       "4  129.850250       134.0   1940.935613  44.056051  131.718399         139.0   \n",
       "\n",
       "   Green_Variance  Green_Std   Blue_Mean  Blue_Median  Blue_Variance  \\\n",
       "0     1763.033006  41.988487  111.251572        134.0    3330.577657   \n",
       "1     1838.561514  42.878450   95.103455         88.0    3073.705972   \n",
       "2     1193.293666  34.544083  100.909332        119.0    2621.018971   \n",
       "3     1412.353454  37.581291  126.857681        129.0    2512.158838   \n",
       "4     1782.426972  42.218799  101.312119         94.0    2798.758005   \n",
       "\n",
       "    Blue_Std  label  \n",
       "0  57.711157      0  \n",
       "1  55.441013      1  \n",
       "2  51.195888      0  \n",
       "3  50.121441      1  \n",
       "4  52.903289      1  "
      ]
     },
     "execution_count": 2,
     "metadata": {},
     "output_type": "execute_result"
    }
   ],
   "source": [
    "# load and read dataset\n",
    "dataset = pd.read_excel('final_dataset.xlsx')\n",
    "dataset.head()"
   ]
  },
  {
   "cell_type": "code",
   "execution_count": 3,
   "id": "07f01f1a-91e1-4ef8-b83e-91c3b63c8ec9",
   "metadata": {},
   "outputs": [
    {
     "data": {
      "text/html": [
       "<div>\n",
       "<style scoped>\n",
       "    .dataframe tbody tr th:only-of-type {\n",
       "        vertical-align: middle;\n",
       "    }\n",
       "\n",
       "    .dataframe tbody tr th {\n",
       "        vertical-align: top;\n",
       "    }\n",
       "\n",
       "    .dataframe thead th {\n",
       "        text-align: right;\n",
       "    }\n",
       "</style>\n",
       "<table border=\"1\" class=\"dataframe\">\n",
       "  <thead>\n",
       "    <tr style=\"text-align: right;\">\n",
       "      <th></th>\n",
       "      <th>Red_Mean</th>\n",
       "      <th>Red_Median</th>\n",
       "      <th>Red_Variance</th>\n",
       "      <th>Red_Std</th>\n",
       "      <th>Green_Mean</th>\n",
       "      <th>Green_Median</th>\n",
       "      <th>Green_Variance</th>\n",
       "      <th>Green_Std</th>\n",
       "      <th>Blue_Mean</th>\n",
       "      <th>Blue_Median</th>\n",
       "      <th>Blue_Variance</th>\n",
       "      <th>Blue_Std</th>\n",
       "      <th>label</th>\n",
       "    </tr>\n",
       "  </thead>\n",
       "  <tbody>\n",
       "    <tr>\n",
       "      <th>count</th>\n",
       "      <td>5702.000000</td>\n",
       "      <td>5702.000000</td>\n",
       "      <td>5702.000000</td>\n",
       "      <td>5702.000000</td>\n",
       "      <td>5702.000000</td>\n",
       "      <td>5702.000000</td>\n",
       "      <td>5702.000000</td>\n",
       "      <td>5702.000000</td>\n",
       "      <td>5702.000000</td>\n",
       "      <td>5702.000000</td>\n",
       "      <td>5702.000000</td>\n",
       "      <td>5702.000000</td>\n",
       "      <td>5702.000000</td>\n",
       "    </tr>\n",
       "    <tr>\n",
       "      <th>mean</th>\n",
       "      <td>126.866256</td>\n",
       "      <td>134.084707</td>\n",
       "      <td>2354.106217</td>\n",
       "      <td>47.866691</td>\n",
       "      <td>131.394668</td>\n",
       "      <td>139.512539</td>\n",
       "      <td>1892.401002</td>\n",
       "      <td>42.468821</td>\n",
       "      <td>111.773510</td>\n",
       "      <td>116.321905</td>\n",
       "      <td>2898.407095</td>\n",
       "      <td>53.288393</td>\n",
       "      <td>1.020168</td>\n",
       "    </tr>\n",
       "    <tr>\n",
       "      <th>std</th>\n",
       "      <td>21.349339</td>\n",
       "      <td>25.988085</td>\n",
       "      <td>776.792043</td>\n",
       "      <td>7.930773</td>\n",
       "      <td>22.146187</td>\n",
       "      <td>24.043098</td>\n",
       "      <td>807.389979</td>\n",
       "      <td>9.424215</td>\n",
       "      <td>19.837836</td>\n",
       "      <td>25.417473</td>\n",
       "      <td>816.039576</td>\n",
       "      <td>7.665804</td>\n",
       "      <td>0.812190</td>\n",
       "    </tr>\n",
       "    <tr>\n",
       "      <th>min</th>\n",
       "      <td>72.897812</td>\n",
       "      <td>56.000000</td>\n",
       "      <td>518.185390</td>\n",
       "      <td>22.763686</td>\n",
       "      <td>78.858002</td>\n",
       "      <td>82.000000</td>\n",
       "      <td>259.989089</td>\n",
       "      <td>16.124177</td>\n",
       "      <td>58.766464</td>\n",
       "      <td>37.000000</td>\n",
       "      <td>517.141674</td>\n",
       "      <td>22.740749</td>\n",
       "      <td>0.000000</td>\n",
       "    </tr>\n",
       "    <tr>\n",
       "      <th>25%</th>\n",
       "      <td>114.593369</td>\n",
       "      <td>119.000000</td>\n",
       "      <td>1798.977901</td>\n",
       "      <td>42.414360</td>\n",
       "      <td>118.017010</td>\n",
       "      <td>125.000000</td>\n",
       "      <td>1284.345478</td>\n",
       "      <td>35.837766</td>\n",
       "      <td>100.909451</td>\n",
       "      <td>102.000000</td>\n",
       "      <td>2304.471245</td>\n",
       "      <td>48.004909</td>\n",
       "      <td>0.000000</td>\n",
       "    </tr>\n",
       "    <tr>\n",
       "      <th>50%</th>\n",
       "      <td>125.856995</td>\n",
       "      <td>134.000000</td>\n",
       "      <td>2282.452842</td>\n",
       "      <td>47.775023</td>\n",
       "      <td>128.989677</td>\n",
       "      <td>137.000000</td>\n",
       "      <td>1792.696035</td>\n",
       "      <td>42.340241</td>\n",
       "      <td>110.126236</td>\n",
       "      <td>114.000000</td>\n",
       "      <td>2882.111371</td>\n",
       "      <td>53.685299</td>\n",
       "      <td>1.000000</td>\n",
       "    </tr>\n",
       "    <tr>\n",
       "      <th>75%</th>\n",
       "      <td>136.507111</td>\n",
       "      <td>146.000000</td>\n",
       "      <td>2776.939211</td>\n",
       "      <td>52.696672</td>\n",
       "      <td>141.508694</td>\n",
       "      <td>151.000000</td>\n",
       "      <td>2423.053734</td>\n",
       "      <td>49.224523</td>\n",
       "      <td>119.115005</td>\n",
       "      <td>126.000000</td>\n",
       "      <td>3438.022143</td>\n",
       "      <td>58.634650</td>\n",
       "      <td>2.000000</td>\n",
       "    </tr>\n",
       "    <tr>\n",
       "      <th>max</th>\n",
       "      <td>246.597122</td>\n",
       "      <td>255.000000</td>\n",
       "      <td>5933.460280</td>\n",
       "      <td>77.028957</td>\n",
       "      <td>251.254089</td>\n",
       "      <td>255.000000</td>\n",
       "      <td>4775.445991</td>\n",
       "      <td>69.104602</td>\n",
       "      <td>235.422943</td>\n",
       "      <td>255.000000</td>\n",
       "      <td>9020.131135</td>\n",
       "      <td>94.974371</td>\n",
       "      <td>2.000000</td>\n",
       "    </tr>\n",
       "  </tbody>\n",
       "</table>\n",
       "</div>"
      ],
      "text/plain": [
       "          Red_Mean   Red_Median  Red_Variance      Red_Std   Green_Mean  \\\n",
       "count  5702.000000  5702.000000   5702.000000  5702.000000  5702.000000   \n",
       "mean    126.866256   134.084707   2354.106217    47.866691   131.394668   \n",
       "std      21.349339    25.988085    776.792043     7.930773    22.146187   \n",
       "min      72.897812    56.000000    518.185390    22.763686    78.858002   \n",
       "25%     114.593369   119.000000   1798.977901    42.414360   118.017010   \n",
       "50%     125.856995   134.000000   2282.452842    47.775023   128.989677   \n",
       "75%     136.507111   146.000000   2776.939211    52.696672   141.508694   \n",
       "max     246.597122   255.000000   5933.460280    77.028957   251.254089   \n",
       "\n",
       "       Green_Median  Green_Variance    Green_Std    Blue_Mean  Blue_Median  \\\n",
       "count   5702.000000     5702.000000  5702.000000  5702.000000  5702.000000   \n",
       "mean     139.512539     1892.401002    42.468821   111.773510   116.321905   \n",
       "std       24.043098      807.389979     9.424215    19.837836    25.417473   \n",
       "min       82.000000      259.989089    16.124177    58.766464    37.000000   \n",
       "25%      125.000000     1284.345478    35.837766   100.909451   102.000000   \n",
       "50%      137.000000     1792.696035    42.340241   110.126236   114.000000   \n",
       "75%      151.000000     2423.053734    49.224523   119.115005   126.000000   \n",
       "max      255.000000     4775.445991    69.104602   235.422943   255.000000   \n",
       "\n",
       "       Blue_Variance     Blue_Std        label  \n",
       "count    5702.000000  5702.000000  5702.000000  \n",
       "mean     2898.407095    53.288393     1.020168  \n",
       "std       816.039576     7.665804     0.812190  \n",
       "min       517.141674    22.740749     0.000000  \n",
       "25%      2304.471245    48.004909     0.000000  \n",
       "50%      2882.111371    53.685299     1.000000  \n",
       "75%      3438.022143    58.634650     2.000000  \n",
       "max      9020.131135    94.974371     2.000000  "
      ]
     },
     "execution_count": 3,
     "metadata": {},
     "output_type": "execute_result"
    }
   ],
   "source": [
    "# check for discriptive statistics\n",
    "dataset.describe()"
   ]
  },
  {
   "cell_type": "code",
   "execution_count": 4,
   "id": "79ebba3f-85b2-4f48-81b6-525ce1312eaf",
   "metadata": {},
   "outputs": [
    {
     "data": {
      "text/plain": [
       "Red_Mean          0\n",
       "Red_Median        0\n",
       "Red_Variance      0\n",
       "Red_Std           0\n",
       "Green_Mean        0\n",
       "Green_Median      0\n",
       "Green_Variance    0\n",
       "Green_Std         0\n",
       "Blue_Mean         0\n",
       "Blue_Median       0\n",
       "Blue_Variance     0\n",
       "Blue_Std          0\n",
       "label             0\n",
       "dtype: int64"
      ]
     },
     "execution_count": 4,
     "metadata": {},
     "output_type": "execute_result"
    }
   ],
   "source": [
    "# check for null values if any\n",
    "dataset.isnull().sum()"
   ]
  },
  {
   "cell_type": "code",
   "execution_count": 5,
   "id": "85c5a606-75d7-4651-81b6-1abbd1d2d183",
   "metadata": {},
   "outputs": [
    {
     "data": {
      "text/plain": [
       "Red_Mean          float64\n",
       "Red_Median        float64\n",
       "Red_Variance      float64\n",
       "Red_Std           float64\n",
       "Green_Mean        float64\n",
       "Green_Median      float64\n",
       "Green_Variance    float64\n",
       "Green_Std         float64\n",
       "Blue_Mean         float64\n",
       "Blue_Median       float64\n",
       "Blue_Variance     float64\n",
       "Blue_Std          float64\n",
       "label               int64\n",
       "dtype: object"
      ]
     },
     "execution_count": 5,
     "metadata": {},
     "output_type": "execute_result"
    }
   ],
   "source": [
    "# find data types of each column\n",
    "dataset.dtypes"
   ]
  },
  {
   "cell_type": "markdown",
   "id": "d8cdea7a-6a33-4483-aea1-4110cd6a0b4e",
   "metadata": {},
   "source": [
    "# ANN Implementation"
   ]
  },
  {
   "cell_type": "code",
   "execution_count": 6,
   "id": "817a617d-d4e0-4cef-9801-cfdb4a278fd8",
   "metadata": {},
   "outputs": [
    {
     "data": {
      "text/plain": [
       "0    0\n",
       "1    1\n",
       "2    0\n",
       "3    1\n",
       "4    1\n",
       "Name: label, dtype: int64"
      ]
     },
     "execution_count": 6,
     "metadata": {},
     "output_type": "execute_result"
    }
   ],
   "source": [
    "# separate dataset into independent and dependent sets\n",
    "x = dataset.iloc[:, : -1]\n",
    "y = dataset.iloc[:, -1]\n",
    "y.head()"
   ]
  },
  {
   "cell_type": "code",
   "execution_count": 7,
   "id": "a58eb6d8-fb1c-4097-8637-8fbcbbcae123",
   "metadata": {},
   "outputs": [],
   "source": [
    "# scale values in independent set\n",
    "scaler = StandardScaler()\n",
    "x = scaler.fit_transform(x)"
   ]
  },
  {
   "cell_type": "code",
   "execution_count": 8,
   "id": "fe3f637c-1f69-44dc-95c8-e2464802af06",
   "metadata": {},
   "outputs": [],
   "source": [
    "# now classify dataset into training and testing\n",
    "x_train, x_test, y_train, y_test = train_test_split(x, y, test_size = 0.1, random_state = 1)"
   ]
  },
  {
   "cell_type": "code",
   "execution_count": 9,
   "id": "caa0cfce-f816-4795-b8bc-df202527fc8c",
   "metadata": {},
   "outputs": [
    {
     "name": "stdout",
     "output_type": "stream",
     "text": [
      "Model: \"sequential\"\n",
      "_________________________________________________________________\n",
      " Layer (type)                Output Shape              Param #   \n",
      "=================================================================\n",
      " dense (Dense)               (None, 12)                156       \n",
      "                                                                 \n",
      " dense_1 (Dense)             (None, 128)               1664      \n",
      "                                                                 \n",
      " dense_2 (Dense)             (None, 128)               16512     \n",
      "                                                                 \n",
      " dense_3 (Dense)             (None, 128)               16512     \n",
      "                                                                 \n",
      " dense_4 (Dense)             (None, 3)                 387       \n",
      "                                                                 \n",
      "=================================================================\n",
      "Total params: 35231 (137.62 KB)\n",
      "Trainable params: 35231 (137.62 KB)\n",
      "Non-trainable params: 0 (0.00 Byte)\n",
      "_________________________________________________________________\n"
     ]
    }
   ],
   "source": [
    "# prepare and build model\n",
    "model = Sequential()\n",
    "\n",
    "# input layer\n",
    "model.add(Dense(units = 12, input_dim = 12, input_shape = (12, ), kernel_initializer = 'uniform'))\n",
    "\n",
    "# first hidden layer\n",
    "model.add(Dense(units = 128, activation = 'relu', kernel_initializer = 'uniform'))\n",
    "\n",
    "# second hidden layer\n",
    "model.add(Dense(units = 128, activation = 'tanh', kernel_initializer = 'uniform'))\n",
    "\n",
    "# third hidden layer\n",
    "model.add(Dense(units = 128, activation = 'relu', kernel_initializer = 'uniform'))\n",
    "\n",
    "# output layer\n",
    "model.add(Dense(units = 3, activation = 'softmax', kernel_initializer = 'uniform'))\n",
    "\n",
    "# summarize model's performance\n",
    "model.summary()"
   ]
  },
  {
   "cell_type": "code",
   "execution_count": 10,
   "id": "e40d718f-9799-4f3c-825b-13f374a74397",
   "metadata": {},
   "outputs": [],
   "source": [
    "# compile model\n",
    "model.compile(optimizer = 'adam', loss = 'SparseCategoricalCrossentropy', metrics = ['accuracy'])"
   ]
  },
  {
   "cell_type": "code",
   "execution_count": 11,
   "id": "c73dff0d-ab8f-4107-aa45-5c49e61560de",
   "metadata": {},
   "outputs": [
    {
     "name": "stdout",
     "output_type": "stream",
     "text": [
      "Epoch 1/5\n",
      "257/257 [==============================] - 5s 8ms/step - loss: 0.5835 - accuracy: 0.7562 - val_loss: 0.2272 - val_accuracy: 0.9247\n",
      "Epoch 2/5\n",
      "257/257 [==============================] - 1s 4ms/step - loss: 0.2542 - accuracy: 0.9123 - val_loss: 0.2062 - val_accuracy: 0.9264\n",
      "Epoch 3/5\n",
      "257/257 [==============================] - 1s 4ms/step - loss: 0.1865 - accuracy: 0.9333 - val_loss: 0.1243 - val_accuracy: 0.9545\n",
      "Epoch 4/5\n",
      "257/257 [==============================] - 1s 4ms/step - loss: 0.1364 - accuracy: 0.9513 - val_loss: 0.1272 - val_accuracy: 0.9457\n",
      "Epoch 5/5\n",
      "257/257 [==============================] - 1s 4ms/step - loss: 0.1192 - accuracy: 0.9552 - val_loss: 0.0945 - val_accuracy: 0.9667\n"
     ]
    },
    {
     "data": {
      "text/plain": [
       "<keras.src.callbacks.History at 0x20e9375c810>"
      ]
     },
     "execution_count": 11,
     "metadata": {},
     "output_type": "execute_result"
    }
   ],
   "source": [
    "# fit model on the data\n",
    "model.fit(x_train, y_train, epochs = 5, batch_size = 20, validation_data = (x_test, y_test))"
   ]
  },
  {
   "cell_type": "code",
   "execution_count": 12,
   "id": "e78e86ff-83e1-4e1e-a2e0-4e4f2bb573d1",
   "metadata": {},
   "outputs": [
    {
     "name": "stdout",
     "output_type": "stream",
     "text": [
      "161/161 [==============================] - 0s 3ms/step - loss: 0.0965 - accuracy: 0.9647\n"
     ]
    },
    {
     "data": {
      "text/plain": [
       "[0.0964641273021698, 0.9647242426872253]"
      ]
     },
     "execution_count": 12,
     "metadata": {},
     "output_type": "execute_result"
    }
   ],
   "source": [
    "# evaluate model for training dataset\n",
    "model.evaluate(x_train, y_train)"
   ]
  },
  {
   "cell_type": "code",
   "execution_count": 13,
   "id": "95f248c1-38f8-40cb-98b4-ef0af77ff1b2",
   "metadata": {},
   "outputs": [
    {
     "name": "stdout",
     "output_type": "stream",
     "text": [
      "18/18 [==============================] - 0s 3ms/step - loss: 0.0945 - accuracy: 0.9667\n"
     ]
    },
    {
     "data": {
      "text/plain": [
       "[0.09451629966497421, 0.9667250514030457]"
      ]
     },
     "execution_count": 13,
     "metadata": {},
     "output_type": "execute_result"
    }
   ],
   "source": [
    "# evaluate test set\n",
    "model.evaluate(x_test, y_test)"
   ]
  },
  {
   "cell_type": "markdown",
   "id": "db7822d6-63e9-4b17-8b95-faf24f7ff50c",
   "metadata": {},
   "source": [
    "# Hyperparameter Tuning"
   ]
  },
  {
   "cell_type": "markdown",
   "id": "88683b20-7638-417d-a655-f991055e2f18",
   "metadata": {},
   "source": [
    "### Tuning Optimizer"
   ]
  },
  {
   "cell_type": "code",
   "execution_count": 35,
   "id": "a56d348c-48a9-4c05-926c-d0bedb615e58",
   "metadata": {},
   "outputs": [],
   "source": [
    "# define a function to loop among different optimizers\n",
    "def mydef(hp):\n",
    "\n",
    "    model1 = Sequential()\n",
    "\n",
    "    # input layer\n",
    "    model1.add(Dense(units = 12, input_dim = 12, input_shape = (12, ), kernel_initializer = 'uniform'))\n",
    "\n",
    "    # first hidden layer\n",
    "    model1.add(Dense(units = 128, activation = 'relu', kernel_initializer = 'uniform'))\n",
    "\n",
    "    # second hidden layer\n",
    "    model1.add(Dense(units = 128, activation = 'tanh', kernel_initializer = 'uniform'))\n",
    "\n",
    "    # third hidden layer\n",
    "    model1.add(Dense(units = 128, activation = 'relu', kernel_initializer = 'uniform'))\n",
    "\n",
    "    # declare all the optimizers\n",
    "    optimizers = hp.Choice('optimizer', values = ['adadelta', 'SDG', 'adagrad'])\n",
    "\n",
    "    # compile\n",
    "    model1.compile(optimizer = optimizers, loss = 'SparseCategoricalCrossentropy', metrics = ['accuracy'])\n",
    "\n",
    "    return model1"
   ]
  },
  {
   "cell_type": "code",
   "execution_count": 36,
   "id": "097b307e-82b2-4b9e-8844-304716710119",
   "metadata": {},
   "outputs": [],
   "source": [
    "# prepare tuner\n",
    "tuner = kt.RandomSearch(mydef, objective = 'val_accuracy', max_trials = 5)"
   ]
  },
  {
   "cell_type": "code",
   "execution_count": 37,
   "id": "884b7851-66f0-4b5a-97c3-edbc5415f49c",
   "metadata": {},
   "outputs": [
    {
     "name": "stdout",
     "output_type": "stream",
     "text": [
      "Trial 3 Complete [00h 00m 03s]\n",
      "val_accuracy: 0.9474605917930603\n",
      "\n",
      "Best val_accuracy So Far: 0.9474605917930603\n",
      "Total elapsed time: 00h 00m 07s\n"
     ]
    }
   ],
   "source": [
    "tuner.search(x_train, y_train, epochs = 5, validation_data = (x_test, y_test))"
   ]
  },
  {
   "cell_type": "code",
   "execution_count": 38,
   "id": "6842cfee-a2d9-447e-a84f-10d5ee88711c",
   "metadata": {},
   "outputs": [
    {
     "data": {
      "text/plain": [
       "{'optimizer': 'adagrad'}"
      ]
     },
     "execution_count": 38,
     "metadata": {},
     "output_type": "execute_result"
    }
   ],
   "source": [
    "# get the best optimizer\n",
    "tuner.get_best_hyperparameters()[0].values"
   ]
  },
  {
   "cell_type": "code",
   "execution_count": 39,
   "id": "0995a6d7-e7e5-4ba6-86ed-b1d5a1cd2a04",
   "metadata": {},
   "outputs": [
    {
     "name": "stdout",
     "output_type": "stream",
     "text": [
      "WARNING:tensorflow:Detecting that an object or model or tf.train.Checkpoint is being deleted with unrestored values. See the following logs for the specific values in question. To silence these warnings, use `status.expect_partial()`. See https://www.tensorflow.org/api_docs/python/tf/train/Checkpoint#restorefor details about the status object returned by the restore function.\n",
      "WARNING:tensorflow:Value in checkpoint could not be found in the restored object: (root).optimizer._variables.1\n",
      "WARNING:tensorflow:Value in checkpoint could not be found in the restored object: (root).optimizer._variables.2\n",
      "WARNING:tensorflow:Value in checkpoint could not be found in the restored object: (root).optimizer._variables.3\n",
      "WARNING:tensorflow:Value in checkpoint could not be found in the restored object: (root).optimizer._variables.4\n",
      "WARNING:tensorflow:Value in checkpoint could not be found in the restored object: (root).optimizer._variables.5\n",
      "WARNING:tensorflow:Value in checkpoint could not be found in the restored object: (root).optimizer._variables.6\n",
      "WARNING:tensorflow:Value in checkpoint could not be found in the restored object: (root).optimizer._variables.7\n",
      "WARNING:tensorflow:Value in checkpoint could not be found in the restored object: (root).optimizer._variables.8\n",
      "WARNING:tensorflow:Value in checkpoint could not be found in the restored object: (root).optimizer._variables.9\n",
      "WARNING:tensorflow:Value in checkpoint could not be found in the restored object: (root).optimizer._variables.10\n",
      "WARNING:tensorflow:Value in checkpoint could not be found in the restored object: (root).optimizer._variables.11\n",
      "WARNING:tensorflow:Value in checkpoint could not be found in the restored object: (root).optimizer._variables.12\n",
      "WARNING:tensorflow:Value in checkpoint could not be found in the restored object: (root).optimizer._variables.13\n",
      "WARNING:tensorflow:Value in checkpoint could not be found in the restored object: (root).optimizer._variables.14\n",
      "WARNING:tensorflow:Value in checkpoint could not be found in the restored object: (root).optimizer._variables.15\n",
      "WARNING:tensorflow:Value in checkpoint could not be found in the restored object: (root).optimizer._variables.16\n",
      "Model: \"sequential\"\n",
      "_________________________________________________________________\n",
      " Layer (type)                Output Shape              Param #   \n",
      "=================================================================\n",
      " dense (Dense)               (None, 12)                156       \n",
      "                                                                 \n",
      " dense_1 (Dense)             (None, 128)               1664      \n",
      "                                                                 \n",
      " dense_2 (Dense)             (None, 128)               16512     \n",
      "                                                                 \n",
      " dense_3 (Dense)             (None, 128)               16512     \n",
      "                                                                 \n",
      "=================================================================\n",
      "Total params: 34844 (136.11 KB)\n",
      "Trainable params: 34844 (136.11 KB)\n",
      "Non-trainable params: 0 (0.00 Byte)\n",
      "_________________________________________________________________\n"
     ]
    }
   ],
   "source": [
    "# get the best model\n",
    "model2 = tuner.get_best_models(num_models = 1)[0]\n",
    "model2.summary()"
   ]
  },
  {
   "cell_type": "markdown",
   "id": "d07c6cc3-4c02-4e15-8a6d-a375c54ecbed",
   "metadata": {},
   "source": [
    "### Tuning for Number of Neurons"
   ]
  },
  {
   "cell_type": "code",
   "execution_count": 18,
   "id": "428b27bb-5dad-4284-a9ca-3b08e3a5b5e3",
   "metadata": {},
   "outputs": [],
   "source": [
    "# define function\n",
    "def num_neurons(hp):\n",
    "\n",
    "    # declare the model\n",
    "    model = Sequential()\n",
    "\n",
    "    # declare input layer\n",
    "    model.add(Dense(units = 12, input_dim = 12, input_shape = (12, ), kernel_initializer = 'uniform'))\n",
    "\n",
    "    # now ininitiate how many neurons should be there usibg loop\n",
    "    units = hp.Int('units', min_value = 12, max_value = 128, step = 8)\n",
    "\n",
    "    # first hidden layer\n",
    "    model.add(Dense(units = units, activation = 'relu', kernel_initializer = 'uniform'))\n",
    "\n",
    "    # second hidden layer\n",
    "    model.add(Dense(units = units, activation = 'tanh', kernel_initializer = 'uniform'))\n",
    "\n",
    "    # third hidden layer\n",
    "    model.add(Dense(units = units, activation = 'relu', kernel_initializer = 'uniform'))\n",
    "\n",
    "    # output layer\n",
    "    model.add(Dense(units = 3, activation = 'softmax', kernel_initializer = 'uniform'))\n",
    "\n",
    "    # compile model\n",
    "    model.compile(optimizer = 'adam', loss = 'SparseCategoricalCrossentropy', metrics = ['accuracy'])\n",
    "\n",
    "    return model"
   ]
  },
  {
   "cell_type": "code",
   "execution_count": 19,
   "id": "93413d33-0991-4f6b-8b7d-468e741c51f5",
   "metadata": {},
   "outputs": [],
   "source": [
    "# make a tuner\n",
    "tuner1 = kt.RandomSearch(num_neurons, objective = 'val_accuracy', max_trials = 20, directory = 'Num_Neurons')"
   ]
  },
  {
   "cell_type": "code",
   "execution_count": 20,
   "id": "87dd0a80-77cd-4e2a-9660-908f2c422eb1",
   "metadata": {},
   "outputs": [
    {
     "name": "stdout",
     "output_type": "stream",
     "text": [
      "Trial 13 Complete [00h 00m 07s]\n",
      "val_accuracy: 0.9299474358558655\n",
      "\n",
      "Best val_accuracy So Far: 0.9597197771072388\n",
      "Total elapsed time: 00h 01m 35s\n"
     ]
    }
   ],
   "source": [
    "# now find feed data to select best no of neurons\n",
    "tuner1.search(x_train, y_train, epochs = 5, validation_data = (x_test, y_test))"
   ]
  },
  {
   "cell_type": "code",
   "execution_count": 21,
   "id": "b89052e9-1a88-40bd-b794-36bb3e6c86e8",
   "metadata": {},
   "outputs": [
    {
     "data": {
      "text/plain": [
       "{'units': 52}"
      ]
     },
     "execution_count": 21,
     "metadata": {},
     "output_type": "execute_result"
    }
   ],
   "source": [
    "# find out best no of neurons\n",
    "tuner1.get_best_hyperparameters()[0].values"
   ]
  },
  {
   "cell_type": "markdown",
   "id": "8efc1e06-8b57-498f-8863-f17e0772466b",
   "metadata": {},
   "source": [
    "### Tuning for Number of Layers"
   ]
  },
  {
   "cell_type": "code",
   "execution_count": 26,
   "id": "e6acc1fd-dbbd-4f12-8749-2365ee6cd43b",
   "metadata": {},
   "outputs": [],
   "source": [
    "# define function\n",
    "def num_layers(hp):\n",
    "\n",
    "    # define model\n",
    "    model3 = Sequential()\n",
    "\n",
    "    # input layer\n",
    "    model3.add(Dense(units = 12, input_dim = 12, input_shape = (12, ), kernel_initializer = 'uniform'))\n",
    "\n",
    "    # loop for best number of layers\n",
    "    for i in range(hp.Int('num_layers', min_value = 1, max_value = 10)):\n",
    "        model3.add(Dense(units = 52, activation = 'relu', kernel_initializer = 'uniform'))\n",
    "\n",
    "    # output layer\n",
    "    model3.add(Dense(units = 3, activation = 'softmax', kernel_initializer = 'uniform'))\n",
    "\n",
    "    # compile model\n",
    "    model3.compile(optimizer = 'adam', loss = 'SparseCategoricalCrossentropy', metrics = ['accuracy'])\n",
    "\n",
    "    return model3"
   ]
  },
  {
   "cell_type": "code",
   "execution_count": 27,
   "id": "5e3503b5-50fa-4f2c-b8fd-23e687bb137d",
   "metadata": {},
   "outputs": [],
   "source": [
    "# build a tuner\n",
    "tuner3 = kt.RandomSearch(num_layers, objective = 'val_accuracy', max_trials = 10, directory = 'Num_Layers')"
   ]
  },
  {
   "cell_type": "code",
   "execution_count": 28,
   "id": "680d4332-4ac0-4687-9fff-d0ede4edfe38",
   "metadata": {},
   "outputs": [
    {
     "name": "stdout",
     "output_type": "stream",
     "text": [
      "Trial 10 Complete [00h 00m 07s]\n",
      "val_accuracy: 0.9509631991386414\n",
      "\n",
      "Best val_accuracy So Far: 0.9509631991386414\n",
      "Total elapsed time: 00h 01m 21s\n"
     ]
    }
   ],
   "source": [
    "# now feed data into best selected model\n",
    "tuner3.search(x_train, y_train, epochs = 5, validation_data = (x_test, y_test))"
   ]
  },
  {
   "cell_type": "code",
   "execution_count": 29,
   "id": "51d5379b-a64a-425a-b496-d5b592695255",
   "metadata": {},
   "outputs": [
    {
     "data": {
      "text/plain": [
       "{'num_layers': 2}"
      ]
     },
     "execution_count": 29,
     "metadata": {},
     "output_type": "execute_result"
    }
   ],
   "source": [
    "# find best no of layers\n",
    "tuner3.get_best_hyperparameters()[0].values"
   ]
  }
 ],
 "metadata": {
  "kernelspec": {
   "display_name": "Python 3 (ipykernel)",
   "language": "python",
   "name": "python3"
  },
  "language_info": {
   "codemirror_mode": {
    "name": "ipython",
    "version": 3
   },
   "file_extension": ".py",
   "mimetype": "text/x-python",
   "name": "python",
   "nbconvert_exporter": "python",
   "pygments_lexer": "ipython3",
   "version": "3.11.4"
  }
 },
 "nbformat": 4,
 "nbformat_minor": 5
}
