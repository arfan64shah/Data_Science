{
 "cells": [
  {
   "cell_type": "code",
   "execution_count": 1,
   "id": "b9980b73-1ea6-423a-b2a7-b19196208a28",
   "metadata": {},
   "outputs": [],
   "source": [
    "# import required libraries\n",
    "import numpy as np\n",
    "import pandas as pd\n",
    "from scipy.stats import norm"
   ]
  },
  {
   "cell_type": "code",
   "execution_count": 2,
   "id": "60f700ed-8152-4e1a-b91e-7a098a37a9d7",
   "metadata": {},
   "outputs": [],
   "source": [
    "# define a function to calcuate z score\n",
    "def z_score(x, x_mu, std):\n",
    "\n",
    "    zscore = (x - x_mu)/std\n",
    "    return zscore"
   ]
  },
  {
   "cell_type": "code",
   "execution_count": 6,
   "id": "249324b3-3636-46b5-b2f2-08500836cfcc",
   "metadata": {},
   "outputs": [
    {
     "name": "stdout",
     "output_type": "stream",
     "text": [
      "Mike's z-score is -0.9090909090909092\n"
     ]
    }
   ],
   "source": [
    "# mike's height\n",
    "mike = z_score(67, 70, 3.3)\n",
    "print(\"Mike's z-score is\", mike)"
   ]
  },
  {
   "cell_type": "code",
   "execution_count": 12,
   "id": "663defbf-6d18-4f8f-b4db-99c08523af69",
   "metadata": {},
   "outputs": [
    {
     "name": "stdout",
     "output_type": "stream",
     "text": [
      "Mike's height percentile is 18.165107044344893 %\n"
     ]
    }
   ],
   "source": [
    "# mike's height percentile\n",
    "mike_per = norm.cdf(mike)\n",
    "print(\"Mike's height percentile is\", mike_per*100, \"%\")"
   ]
  },
  {
   "cell_type": "code",
   "execution_count": 15,
   "id": "06d2072e-3686-4162-988e-0c5734653f68",
   "metadata": {},
   "outputs": [
    {
     "name": "stdout",
     "output_type": "stream",
     "text": [
      "Jose's z-score is 1.8181818181818183\n"
     ]
    }
   ],
   "source": [
    "# jose's height\n",
    "jose = z_score(76, 70, 3.3)\n",
    "print(\"Jose's z-score is\", jose)"
   ]
  },
  {
   "cell_type": "code",
   "execution_count": 16,
   "id": "517f3bcb-62bb-42df-8415-f356317ecf39",
   "metadata": {},
   "outputs": [
    {
     "name": "stdout",
     "output_type": "stream",
     "text": [
      "Jose's height percentile is 96.54818260027925 %\n"
     ]
    }
   ],
   "source": [
    "# jose's height percentile\n",
    "jose_per = norm.cdf(jose)\n",
    "print(\"Jose's height percentile is\", jose_per*100, \"%\")"
   ]
  },
  {
   "cell_type": "code",
   "execution_count": 20,
   "id": "1c542846-94cd-4af8-b250-d23cd4a4defa",
   "metadata": {},
   "outputs": [
    {
     "data": {
      "text/plain": [
       "-0.2533471031357997"
      ]
     },
     "execution_count": 20,
     "metadata": {},
     "output_type": "execute_result"
    }
   ],
   "source": [
    "# find height from given percentile\n",
    "per = 0.4\n",
    "zscore = norm.ppf(per)\n",
    "zscore"
   ]
  },
  {
   "cell_type": "code",
   "execution_count": 21,
   "id": "cd113fe5-4e4f-4adb-9cd1-33a99691b451",
   "metadata": {},
   "outputs": [],
   "source": [
    "# using z score calcuate height\n",
    "def height(zscore, x_mu, std):\n",
    "    height = (zscore*std) + x_mu\n",
    "\n",
    "    return height"
   ]
  },
  {
   "cell_type": "code",
   "execution_count": 22,
   "id": "a9050c9a-8274-4b3e-8c14-c4c076e88aae",
   "metadata": {},
   "outputs": [
    {
     "name": "stdout",
     "output_type": "stream",
     "text": [
      " 69.16395455965186\n"
     ]
    }
   ],
   "source": [
    "print(\"Height of Erik is\", height(zscore, 70, 3.3), \"inches.\")"
   ]
  },
  {
   "cell_type": "code",
   "execution_count": null,
   "id": "df3af6a4-0863-4188-9a1b-a3a0842797fa",
   "metadata": {},
   "outputs": [],
   "source": []
  }
 ],
 "metadata": {
  "kernelspec": {
   "display_name": "Python 3 (ipykernel)",
   "language": "python",
   "name": "python3"
  },
  "language_info": {
   "codemirror_mode": {
    "name": "ipython",
    "version": 3
   },
   "file_extension": ".py",
   "mimetype": "text/x-python",
   "name": "python",
   "nbconvert_exporter": "python",
   "pygments_lexer": "ipython3",
   "version": "3.11.4"
  }
 },
 "nbformat": 4,
 "nbformat_minor": 5
}
