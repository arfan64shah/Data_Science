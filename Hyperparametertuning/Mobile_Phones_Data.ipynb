{
 "cells": [
  {
   "cell_type": "code",
   "execution_count": 1,
   "id": "3afd0fc5-b6d7-4e28-98c0-972b5619d494",
   "metadata": {},
   "outputs": [],
   "source": [
    "# import required libraries\n",
    "import pandas as pd\n",
    "import numpy as np\n",
    "from plotly import graph_objects as go"
   ]
  },
  {
   "cell_type": "code",
   "execution_count": 2,
   "id": "7f2a33cf-36b2-4cac-bbe1-727ccf456357",
   "metadata": {},
   "outputs": [
    {
     "data": {
      "text/html": [
       "<div>\n",
       "<style scoped>\n",
       "    .dataframe tbody tr th:only-of-type {\n",
       "        vertical-align: middle;\n",
       "    }\n",
       "\n",
       "    .dataframe tbody tr th {\n",
       "        vertical-align: top;\n",
       "    }\n",
       "\n",
       "    .dataframe thead th {\n",
       "        text-align: right;\n",
       "    }\n",
       "</style>\n",
       "<table border=\"1\" class=\"dataframe\">\n",
       "  <thead>\n",
       "    <tr style=\"text-align: right;\">\n",
       "      <th></th>\n",
       "      <th>Unnamed: 0</th>\n",
       "      <th>Model</th>\n",
       "      <th>Price</th>\n",
       "      <th>Rating</th>\n",
       "      <th>Specification</th>\n",
       "      <th>Processor</th>\n",
       "      <th>RAM</th>\n",
       "      <th>Battery</th>\n",
       "      <th>Display</th>\n",
       "      <th>Camera</th>\n",
       "      <th>Memory</th>\n",
       "      <th>OperatingSystem</th>\n",
       "    </tr>\n",
       "  </thead>\n",
       "  <tbody>\n",
       "    <tr>\n",
       "      <th>0</th>\n",
       "      <td>0</td>\n",
       "      <td>iQOO Z9 5G</td>\n",
       "      <td>₹19,999</td>\n",
       "      <td>NaN</td>\n",
       "      <td>Dual Sim, 3G, 4G, 5G, VoLTE, Wi-Fi</td>\n",
       "      <td>Dimensity 7200, Octa Core, 2.8 GHz Processor</td>\n",
       "      <td>8 GB RAM, 128 GB inbuilt</td>\n",
       "      <td>5000 mAh Battery with 44W Fast Charging</td>\n",
       "      <td>6.67 inches, 1080 x 2400 px, 120 Hz Display wi...</td>\n",
       "      <td>50 MP + 2 MP Dual Rear &amp; 16 MP Front Camera</td>\n",
       "      <td>Memory Card (Hybrid), upto 1 TB</td>\n",
       "      <td>Android v14</td>\n",
       "    </tr>\n",
       "    <tr>\n",
       "      <th>1</th>\n",
       "      <td>1</td>\n",
       "      <td>Nothing Phone 2a</td>\n",
       "      <td>₹23,999</td>\n",
       "      <td>NaN</td>\n",
       "      <td>Dual Sim, 3G, 4G, 5G, VoLTE, Wi-Fi, NFC</td>\n",
       "      <td>Dimensity 7200 Pro, Octa Core, 2.8 GHz Processor</td>\n",
       "      <td>8 GB RAM, 128 GB inbuilt</td>\n",
       "      <td>5000 mAh Battery with 45W Fast Charging</td>\n",
       "      <td>6.7 inches, 1084 x 2412 px, 120 Hz Display wit...</td>\n",
       "      <td>50 MP + 50 MP Dual Rear &amp; 32 MP Front Camera</td>\n",
       "      <td>Android v14</td>\n",
       "      <td>No FM Radio</td>\n",
       "    </tr>\n",
       "    <tr>\n",
       "      <th>2</th>\n",
       "      <td>2</td>\n",
       "      <td>Vivo V30 Pro 5G</td>\n",
       "      <td>₹41,999</td>\n",
       "      <td>NaN</td>\n",
       "      <td>Dual Sim, 3G, 4G, 5G, VoLTE, Wi-Fi</td>\n",
       "      <td>Dimensity 8200, Octa Core, 3.1 GHz Processor</td>\n",
       "      <td>8 GB RAM, 256 GB inbuilt</td>\n",
       "      <td>5000 mAh Battery with 80W Fast Charging</td>\n",
       "      <td>6.78 inches, 1260 x 2800 px, 120 Hz Display wi...</td>\n",
       "      <td>50 MP + 50 MP + 50 MP Triple Rear &amp; 50 MP Fron...</td>\n",
       "      <td>Memory Card Not Supported</td>\n",
       "      <td>Android v14</td>\n",
       "    </tr>\n",
       "    <tr>\n",
       "      <th>3</th>\n",
       "      <td>3</td>\n",
       "      <td>Vivo V30 5G</td>\n",
       "      <td>₹33,999</td>\n",
       "      <td>NaN</td>\n",
       "      <td>Dual Sim, 3G, 4G, 5G, VoLTE, Wi-Fi</td>\n",
       "      <td>Snapdragon 7 Gen3, Octa Core, 2.63 GHz Processor</td>\n",
       "      <td>8 GB RAM, 128 GB inbuilt</td>\n",
       "      <td>5000 mAh Battery with 80W Fast Charging</td>\n",
       "      <td>6.78 inches, 1260 x 2800 px, 120 Hz Display wi...</td>\n",
       "      <td>50 MP + 50 MP Dual Rear &amp; 50 MP Front Camera</td>\n",
       "      <td>Memory Card Supported</td>\n",
       "      <td>Android v14</td>\n",
       "    </tr>\n",
       "    <tr>\n",
       "      <th>4</th>\n",
       "      <td>4</td>\n",
       "      <td>Realme 12 Plus 5G</td>\n",
       "      <td>₹19,999</td>\n",
       "      <td>NaN</td>\n",
       "      <td>Dual Sim, 3G, 4G, 5G, VoLTE, Wi-Fi</td>\n",
       "      <td>Dimensity 7050, Octa Core, 2.6 GHz Processor</td>\n",
       "      <td>8 GB RAM, 128 GB inbuilt</td>\n",
       "      <td>5000 mAh Battery with 67W Fast Charging</td>\n",
       "      <td>6.67 inches, 1080 x 2400 px, 120 Hz Display wi...</td>\n",
       "      <td>50 MP + 8 MP + 2 MP Triple Rear &amp; 16 MP Front ...</td>\n",
       "      <td>Memory Card (Hybrid), upto 2 TB</td>\n",
       "      <td>Android v14</td>\n",
       "    </tr>\n",
       "  </tbody>\n",
       "</table>\n",
       "</div>"
      ],
      "text/plain": [
       "   Unnamed: 0              Model    Price  Rating  \\\n",
       "0           0         iQOO Z9 5G  ₹19,999     NaN   \n",
       "1           1   Nothing Phone 2a  ₹23,999     NaN   \n",
       "2           2    Vivo V30 Pro 5G  ₹41,999     NaN   \n",
       "3           3        Vivo V30 5G  ₹33,999     NaN   \n",
       "4           4  Realme 12 Plus 5G  ₹19,999     NaN   \n",
       "\n",
       "                             Specification  \\\n",
       "0       Dual Sim, 3G, 4G, 5G, VoLTE, Wi-Fi   \n",
       "1  Dual Sim, 3G, 4G, 5G, VoLTE, Wi-Fi, NFC   \n",
       "2       Dual Sim, 3G, 4G, 5G, VoLTE, Wi-Fi   \n",
       "3       Dual Sim, 3G, 4G, 5G, VoLTE, Wi-Fi   \n",
       "4       Dual Sim, 3G, 4G, 5G, VoLTE, Wi-Fi   \n",
       "\n",
       "                                          Processor                       RAM  \\\n",
       "0      Dimensity 7200, Octa Core, 2.8 GHz Processor  8 GB RAM, 128 GB inbuilt   \n",
       "1  Dimensity 7200 Pro, Octa Core, 2.8 GHz Processor  8 GB RAM, 128 GB inbuilt   \n",
       "2      Dimensity 8200, Octa Core, 3.1 GHz Processor  8 GB RAM, 256 GB inbuilt   \n",
       "3  Snapdragon 7 Gen3, Octa Core, 2.63 GHz Processor  8 GB RAM, 128 GB inbuilt   \n",
       "4      Dimensity 7050, Octa Core, 2.6 GHz Processor  8 GB RAM, 128 GB inbuilt   \n",
       "\n",
       "                                   Battery  \\\n",
       "0  5000 mAh Battery with 44W Fast Charging   \n",
       "1  5000 mAh Battery with 45W Fast Charging   \n",
       "2  5000 mAh Battery with 80W Fast Charging   \n",
       "3  5000 mAh Battery with 80W Fast Charging   \n",
       "4  5000 mAh Battery with 67W Fast Charging   \n",
       "\n",
       "                                             Display  \\\n",
       "0  6.67 inches, 1080 x 2400 px, 120 Hz Display wi...   \n",
       "1  6.7 inches, 1084 x 2412 px, 120 Hz Display wit...   \n",
       "2  6.78 inches, 1260 x 2800 px, 120 Hz Display wi...   \n",
       "3  6.78 inches, 1260 x 2800 px, 120 Hz Display wi...   \n",
       "4  6.67 inches, 1080 x 2400 px, 120 Hz Display wi...   \n",
       "\n",
       "                                              Camera  \\\n",
       "0        50 MP + 2 MP Dual Rear & 16 MP Front Camera   \n",
       "1       50 MP + 50 MP Dual Rear & 32 MP Front Camera   \n",
       "2  50 MP + 50 MP + 50 MP Triple Rear & 50 MP Fron...   \n",
       "3       50 MP + 50 MP Dual Rear & 50 MP Front Camera   \n",
       "4  50 MP + 8 MP + 2 MP Triple Rear & 16 MP Front ...   \n",
       "\n",
       "                            Memory OperatingSystem  \n",
       "0  Memory Card (Hybrid), upto 1 TB     Android v14  \n",
       "1                      Android v14     No FM Radio  \n",
       "2        Memory Card Not Supported     Android v14  \n",
       "3            Memory Card Supported     Android v14  \n",
       "4  Memory Card (Hybrid), upto 2 TB     Android v14  "
      ]
     },
     "execution_count": 2,
     "metadata": {},
     "output_type": "execute_result"
    }
   ],
   "source": [
    "# load and read dataset\n",
    "dataset = pd.read_csv('Smartphone_2024.csv')\n",
    "dataset.head()"
   ]
  },
  {
   "cell_type": "code",
   "execution_count": 3,
   "id": "c47a0f01-7f5a-4263-be86-13edf2eb19c5",
   "metadata": {},
   "outputs": [
    {
     "data": {
      "text/plain": [
       "Index(['Unnamed: 0', 'Model', 'Price', 'Rating', 'Specification', 'Processor',\n",
       "       'RAM', 'Battery', 'Display', 'Camera', 'Memory', 'OperatingSystem'],\n",
       "      dtype='object')"
      ]
     },
     "execution_count": 3,
     "metadata": {},
     "output_type": "execute_result"
    }
   ],
   "source": [
    "# find number of columns\n",
    "dataset.columns"
   ]
  },
  {
   "cell_type": "code",
   "execution_count": 4,
   "id": "bed36762-ef05-4270-897c-8a1099d72173",
   "metadata": {},
   "outputs": [
    {
     "data": {
      "text/html": [
       "<div>\n",
       "<style scoped>\n",
       "    .dataframe tbody tr th:only-of-type {\n",
       "        vertical-align: middle;\n",
       "    }\n",
       "\n",
       "    .dataframe tbody tr th {\n",
       "        vertical-align: top;\n",
       "    }\n",
       "\n",
       "    .dataframe thead th {\n",
       "        text-align: right;\n",
       "    }\n",
       "</style>\n",
       "<table border=\"1\" class=\"dataframe\">\n",
       "  <thead>\n",
       "    <tr style=\"text-align: right;\">\n",
       "      <th></th>\n",
       "      <th>Model</th>\n",
       "      <th>Price</th>\n",
       "      <th>Rating</th>\n",
       "      <th>Specification</th>\n",
       "      <th>Processor</th>\n",
       "      <th>RAM</th>\n",
       "      <th>Battery</th>\n",
       "      <th>Display</th>\n",
       "      <th>Camera</th>\n",
       "      <th>Memory</th>\n",
       "      <th>OperatingSystem</th>\n",
       "    </tr>\n",
       "  </thead>\n",
       "  <tbody>\n",
       "    <tr>\n",
       "      <th>0</th>\n",
       "      <td>iQOO Z9 5G</td>\n",
       "      <td>₹19,999</td>\n",
       "      <td>NaN</td>\n",
       "      <td>Dual Sim, 3G, 4G, 5G, VoLTE, Wi-Fi</td>\n",
       "      <td>Dimensity 7200, Octa Core, 2.8 GHz Processor</td>\n",
       "      <td>8 GB RAM, 128 GB inbuilt</td>\n",
       "      <td>5000 mAh Battery with 44W Fast Charging</td>\n",
       "      <td>6.67 inches, 1080 x 2400 px, 120 Hz Display wi...</td>\n",
       "      <td>50 MP + 2 MP Dual Rear &amp; 16 MP Front Camera</td>\n",
       "      <td>Memory Card (Hybrid), upto 1 TB</td>\n",
       "      <td>Android v14</td>\n",
       "    </tr>\n",
       "    <tr>\n",
       "      <th>1</th>\n",
       "      <td>Nothing Phone 2a</td>\n",
       "      <td>₹23,999</td>\n",
       "      <td>NaN</td>\n",
       "      <td>Dual Sim, 3G, 4G, 5G, VoLTE, Wi-Fi, NFC</td>\n",
       "      <td>Dimensity 7200 Pro, Octa Core, 2.8 GHz Processor</td>\n",
       "      <td>8 GB RAM, 128 GB inbuilt</td>\n",
       "      <td>5000 mAh Battery with 45W Fast Charging</td>\n",
       "      <td>6.7 inches, 1084 x 2412 px, 120 Hz Display wit...</td>\n",
       "      <td>50 MP + 50 MP Dual Rear &amp; 32 MP Front Camera</td>\n",
       "      <td>Android v14</td>\n",
       "      <td>No FM Radio</td>\n",
       "    </tr>\n",
       "    <tr>\n",
       "      <th>2</th>\n",
       "      <td>Vivo V30 Pro 5G</td>\n",
       "      <td>₹41,999</td>\n",
       "      <td>NaN</td>\n",
       "      <td>Dual Sim, 3G, 4G, 5G, VoLTE, Wi-Fi</td>\n",
       "      <td>Dimensity 8200, Octa Core, 3.1 GHz Processor</td>\n",
       "      <td>8 GB RAM, 256 GB inbuilt</td>\n",
       "      <td>5000 mAh Battery with 80W Fast Charging</td>\n",
       "      <td>6.78 inches, 1260 x 2800 px, 120 Hz Display wi...</td>\n",
       "      <td>50 MP + 50 MP + 50 MP Triple Rear &amp; 50 MP Fron...</td>\n",
       "      <td>Memory Card Not Supported</td>\n",
       "      <td>Android v14</td>\n",
       "    </tr>\n",
       "    <tr>\n",
       "      <th>3</th>\n",
       "      <td>Vivo V30 5G</td>\n",
       "      <td>₹33,999</td>\n",
       "      <td>NaN</td>\n",
       "      <td>Dual Sim, 3G, 4G, 5G, VoLTE, Wi-Fi</td>\n",
       "      <td>Snapdragon 7 Gen3, Octa Core, 2.63 GHz Processor</td>\n",
       "      <td>8 GB RAM, 128 GB inbuilt</td>\n",
       "      <td>5000 mAh Battery with 80W Fast Charging</td>\n",
       "      <td>6.78 inches, 1260 x 2800 px, 120 Hz Display wi...</td>\n",
       "      <td>50 MP + 50 MP Dual Rear &amp; 50 MP Front Camera</td>\n",
       "      <td>Memory Card Supported</td>\n",
       "      <td>Android v14</td>\n",
       "    </tr>\n",
       "    <tr>\n",
       "      <th>4</th>\n",
       "      <td>Realme 12 Plus 5G</td>\n",
       "      <td>₹19,999</td>\n",
       "      <td>NaN</td>\n",
       "      <td>Dual Sim, 3G, 4G, 5G, VoLTE, Wi-Fi</td>\n",
       "      <td>Dimensity 7050, Octa Core, 2.6 GHz Processor</td>\n",
       "      <td>8 GB RAM, 128 GB inbuilt</td>\n",
       "      <td>5000 mAh Battery with 67W Fast Charging</td>\n",
       "      <td>6.67 inches, 1080 x 2400 px, 120 Hz Display wi...</td>\n",
       "      <td>50 MP + 8 MP + 2 MP Triple Rear &amp; 16 MP Front ...</td>\n",
       "      <td>Memory Card (Hybrid), upto 2 TB</td>\n",
       "      <td>Android v14</td>\n",
       "    </tr>\n",
       "  </tbody>\n",
       "</table>\n",
       "</div>"
      ],
      "text/plain": [
       "               Model    Price  Rating  \\\n",
       "0         iQOO Z9 5G  ₹19,999     NaN   \n",
       "1   Nothing Phone 2a  ₹23,999     NaN   \n",
       "2    Vivo V30 Pro 5G  ₹41,999     NaN   \n",
       "3        Vivo V30 5G  ₹33,999     NaN   \n",
       "4  Realme 12 Plus 5G  ₹19,999     NaN   \n",
       "\n",
       "                             Specification  \\\n",
       "0       Dual Sim, 3G, 4G, 5G, VoLTE, Wi-Fi   \n",
       "1  Dual Sim, 3G, 4G, 5G, VoLTE, Wi-Fi, NFC   \n",
       "2       Dual Sim, 3G, 4G, 5G, VoLTE, Wi-Fi   \n",
       "3       Dual Sim, 3G, 4G, 5G, VoLTE, Wi-Fi   \n",
       "4       Dual Sim, 3G, 4G, 5G, VoLTE, Wi-Fi   \n",
       "\n",
       "                                          Processor                       RAM  \\\n",
       "0      Dimensity 7200, Octa Core, 2.8 GHz Processor  8 GB RAM, 128 GB inbuilt   \n",
       "1  Dimensity 7200 Pro, Octa Core, 2.8 GHz Processor  8 GB RAM, 128 GB inbuilt   \n",
       "2      Dimensity 8200, Octa Core, 3.1 GHz Processor  8 GB RAM, 256 GB inbuilt   \n",
       "3  Snapdragon 7 Gen3, Octa Core, 2.63 GHz Processor  8 GB RAM, 128 GB inbuilt   \n",
       "4      Dimensity 7050, Octa Core, 2.6 GHz Processor  8 GB RAM, 128 GB inbuilt   \n",
       "\n",
       "                                   Battery  \\\n",
       "0  5000 mAh Battery with 44W Fast Charging   \n",
       "1  5000 mAh Battery with 45W Fast Charging   \n",
       "2  5000 mAh Battery with 80W Fast Charging   \n",
       "3  5000 mAh Battery with 80W Fast Charging   \n",
       "4  5000 mAh Battery with 67W Fast Charging   \n",
       "\n",
       "                                             Display  \\\n",
       "0  6.67 inches, 1080 x 2400 px, 120 Hz Display wi...   \n",
       "1  6.7 inches, 1084 x 2412 px, 120 Hz Display wit...   \n",
       "2  6.78 inches, 1260 x 2800 px, 120 Hz Display wi...   \n",
       "3  6.78 inches, 1260 x 2800 px, 120 Hz Display wi...   \n",
       "4  6.67 inches, 1080 x 2400 px, 120 Hz Display wi...   \n",
       "\n",
       "                                              Camera  \\\n",
       "0        50 MP + 2 MP Dual Rear & 16 MP Front Camera   \n",
       "1       50 MP + 50 MP Dual Rear & 32 MP Front Camera   \n",
       "2  50 MP + 50 MP + 50 MP Triple Rear & 50 MP Fron...   \n",
       "3       50 MP + 50 MP Dual Rear & 50 MP Front Camera   \n",
       "4  50 MP + 8 MP + 2 MP Triple Rear & 16 MP Front ...   \n",
       "\n",
       "                            Memory OperatingSystem  \n",
       "0  Memory Card (Hybrid), upto 1 TB     Android v14  \n",
       "1                      Android v14     No FM Radio  \n",
       "2        Memory Card Not Supported     Android v14  \n",
       "3            Memory Card Supported     Android v14  \n",
       "4  Memory Card (Hybrid), upto 2 TB     Android v14  "
      ]
     },
     "execution_count": 4,
     "metadata": {},
     "output_type": "execute_result"
    }
   ],
   "source": [
    "dataset = dataset.drop(columns = ['Unnamed: 0'], axis = 1)\n",
    "dataset.head()"
   ]
  },
  {
   "cell_type": "code",
   "execution_count": 5,
   "id": "4b628c12-2995-4af6-9273-419ab92d9287",
   "metadata": {},
   "outputs": [
    {
     "data": {
      "text/plain": [
       "Model                0\n",
       "Price                0\n",
       "Rating             577\n",
       "Specification        0\n",
       "Processor            0\n",
       "RAM                  0\n",
       "Battery              0\n",
       "Display              0\n",
       "Camera               0\n",
       "Memory              17\n",
       "OperatingSystem     44\n",
       "dtype: int64"
      ]
     },
     "execution_count": 5,
     "metadata": {},
     "output_type": "execute_result"
    }
   ],
   "source": [
    "# find null values in dataset\n",
    "dataset.isnull().sum()"
   ]
  },
  {
   "cell_type": "code",
   "execution_count": 6,
   "id": "463542e1-9b12-4eb9-8620-d5ce4bcf2c4b",
   "metadata": {},
   "outputs": [
    {
     "data": {
      "text/plain": [
       "Model\n",
       "Realme 12 Pro Plus 5G (12GB RAM + 256GB)    2\n",
       "Samsung Metro 313                           2\n",
       "Samsung Galaxy S23 Ultra 5G                 2\n",
       "iQOO Z9 5G                                  1\n",
       "itel A70 4G (4GB RAM + 64GB)                1\n",
       "                                           ..\n",
       "OnePlus 9RT 5G                              1\n",
       "Samsung Galaxy M51                          1\n",
       "Poco C65 (8GB RAM + 256GB)                  1\n",
       "itel P55 Plus                               1\n",
       "Tryto Neo                                   1\n",
       "Name: count, Length: 1017, dtype: int64"
      ]
     },
     "execution_count": 6,
     "metadata": {},
     "output_type": "execute_result"
    }
   ],
   "source": [
    "# check unique values in Model\n",
    "dataset.Model.value_counts()"
   ]
  },
  {
   "cell_type": "code",
   "execution_count": 10,
   "id": "4bb054b1-bc92-47c7-a850-72c64e1f9f2c",
   "metadata": {},
   "outputs": [
    {
     "data": {
      "text/plain": [
       "32"
      ]
     },
     "execution_count": 10,
     "metadata": {},
     "output_type": "execute_result"
    }
   ],
   "source": [
    "# check unique values in specification\n",
    "len(dataset.Specification.value_counts())"
   ]
  },
  {
   "cell_type": "code",
   "execution_count": 9,
   "id": "1e5997fd-5b40-4e91-8a1c-63068ed636ce",
   "metadata": {},
   "outputs": [
    {
     "data": {
      "text/plain": [
       "277"
      ]
     },
     "execution_count": 9,
     "metadata": {},
     "output_type": "execute_result"
    }
   ],
   "source": [
    "len(dataset.Processor.value_counts())"
   ]
  },
  {
   "cell_type": "code",
   "execution_count": 12,
   "id": "aad08f00-42c6-4b88-aa0b-8d3716ad07e2",
   "metadata": {},
   "outputs": [
    {
     "data": {
      "text/plain": [
       "72"
      ]
     },
     "execution_count": 12,
     "metadata": {},
     "output_type": "execute_result"
    }
   ],
   "source": [
    "# ram\n",
    "len(dataset.RAM.value_counts())"
   ]
  },
  {
   "cell_type": "code",
   "execution_count": 14,
   "id": "42a50b45-f232-4b7b-8a32-72158d0679cc",
   "metadata": {},
   "outputs": [
    {
     "data": {
      "text/plain": [
       "201"
      ]
     },
     "execution_count": 14,
     "metadata": {},
     "output_type": "execute_result"
    }
   ],
   "source": [
    "len(dataset.Battery.value_counts())"
   ]
  },
  {
   "cell_type": "code",
   "execution_count": 15,
   "id": "1245cbe7-2c30-48e8-88e8-1d739e4c8168",
   "metadata": {},
   "outputs": [
    {
     "data": {
      "text/plain": [
       "289"
      ]
     },
     "execution_count": 15,
     "metadata": {},
     "output_type": "execute_result"
    }
   ],
   "source": [
    "len(dataset.Display.value_counts())"
   ]
  },
  {
   "cell_type": "code",
   "execution_count": 16,
   "id": "992652ab-febf-484a-8a61-ce96e84d5690",
   "metadata": {},
   "outputs": [
    {
     "data": {
      "text/plain": [
       "244"
      ]
     },
     "execution_count": 16,
     "metadata": {},
     "output_type": "execute_result"
    }
   ],
   "source": [
    "len(dataset.Camera.value_counts())"
   ]
  },
  {
   "cell_type": "code",
   "execution_count": 17,
   "id": "bdd097c3-99b9-4faa-bae9-80ba75b66cf5",
   "metadata": {},
   "outputs": [
    {
     "data": {
      "text/plain": [
       "55"
      ]
     },
     "execution_count": 17,
     "metadata": {},
     "output_type": "execute_result"
    }
   ],
   "source": [
    "len(dataset.Memory.value_counts())"
   ]
  },
  {
   "cell_type": "code",
   "execution_count": 18,
   "id": "bf081928-47f0-4317-8a35-1a817db18bc6",
   "metadata": {},
   "outputs": [
    {
     "data": {
      "text/plain": [
       "45"
      ]
     },
     "execution_count": 18,
     "metadata": {},
     "output_type": "execute_result"
    }
   ],
   "source": [
    "len(dataset.OperatingSystem.value_counts())"
   ]
  },
  {
   "cell_type": "code",
   "execution_count": null,
   "id": "0d9621de-56e9-4f28-8241-004766e901ef",
   "metadata": {},
   "outputs": [],
   "source": []
  }
 ],
 "metadata": {
  "kernelspec": {
   "display_name": "Python 3 (ipykernel)",
   "language": "python",
   "name": "python3"
  },
  "language_info": {
   "codemirror_mode": {
    "name": "ipython",
    "version": 3
   },
   "file_extension": ".py",
   "mimetype": "text/x-python",
   "name": "python",
   "nbconvert_exporter": "python",
   "pygments_lexer": "ipython3",
   "version": "3.11.7"
  }
 },
 "nbformat": 4,
 "nbformat_minor": 5
}
