{
 "cells": [
  {
   "cell_type": "code",
   "execution_count": 1,
   "id": "4494b252-b6e8-4e9c-a7da-87971da1e5ea",
   "metadata": {},
   "outputs": [],
   "source": [
    "#import required libraries\n",
    "import pandas as pd\n",
    "import numpy as np\n",
    "import plotly.graph_objects as go\n",
    "from tensorflow.keras import layers\n",
    "from keras import Sequential\n",
    "from tensorflow.keras.layers import Dense\n",
    "from sklearn.model_selection import train_test_split\n",
    "from sklearn.metrics import accuracy_score"
   ]
  },
  {
   "cell_type": "code",
   "execution_count": 2,
   "id": "93fac574-2552-4d60-a103-3bbcdcf62bdf",
   "metadata": {},
   "outputs": [
    {
     "data": {
      "text/html": [
       "<div>\n",
       "<style scoped>\n",
       "    .dataframe tbody tr th:only-of-type {\n",
       "        vertical-align: middle;\n",
       "    }\n",
       "\n",
       "    .dataframe tbody tr th {\n",
       "        vertical-align: top;\n",
       "    }\n",
       "\n",
       "    .dataframe thead th {\n",
       "        text-align: right;\n",
       "    }\n",
       "</style>\n",
       "<table border=\"1\" class=\"dataframe\">\n",
       "  <thead>\n",
       "    <tr style=\"text-align: right;\">\n",
       "      <th></th>\n",
       "      <th>Red_Mean</th>\n",
       "      <th>Red_Median</th>\n",
       "      <th>Red_Variance</th>\n",
       "      <th>Red_Std</th>\n",
       "      <th>Green_Mean</th>\n",
       "      <th>Green_Median</th>\n",
       "      <th>Green_Variance</th>\n",
       "      <th>Green_Std</th>\n",
       "      <th>Blue_Mean</th>\n",
       "      <th>Blue_Median</th>\n",
       "      <th>Blue_Variance</th>\n",
       "      <th>Blue_Std</th>\n",
       "      <th>label</th>\n",
       "    </tr>\n",
       "  </thead>\n",
       "  <tbody>\n",
       "    <tr>\n",
       "      <th>0</th>\n",
       "      <td>121.849594</td>\n",
       "      <td>145.0</td>\n",
       "      <td>3304.497718</td>\n",
       "      <td>57.484761</td>\n",
       "      <td>125.967102</td>\n",
       "      <td>135.0</td>\n",
       "      <td>1763.033006</td>\n",
       "      <td>41.988487</td>\n",
       "      <td>111.251572</td>\n",
       "      <td>134.0</td>\n",
       "      <td>3330.577657</td>\n",
       "      <td>57.711157</td>\n",
       "      <td>0</td>\n",
       "    </tr>\n",
       "    <tr>\n",
       "      <th>1</th>\n",
       "      <td>103.830032</td>\n",
       "      <td>102.0</td>\n",
       "      <td>2152.241390</td>\n",
       "      <td>46.392256</td>\n",
       "      <td>114.606018</td>\n",
       "      <td>121.0</td>\n",
       "      <td>1838.561514</td>\n",
       "      <td>42.878450</td>\n",
       "      <td>95.103455</td>\n",
       "      <td>88.0</td>\n",
       "      <td>3073.705972</td>\n",
       "      <td>55.441013</td>\n",
       "      <td>1</td>\n",
       "    </tr>\n",
       "    <tr>\n",
       "      <th>2</th>\n",
       "      <td>116.047089</td>\n",
       "      <td>134.0</td>\n",
       "      <td>2488.556041</td>\n",
       "      <td>49.885429</td>\n",
       "      <td>119.544250</td>\n",
       "      <td>125.0</td>\n",
       "      <td>1193.293666</td>\n",
       "      <td>34.544083</td>\n",
       "      <td>100.909332</td>\n",
       "      <td>119.0</td>\n",
       "      <td>2621.018971</td>\n",
       "      <td>51.195888</td>\n",
       "      <td>0</td>\n",
       "    </tr>\n",
       "    <tr>\n",
       "      <th>3</th>\n",
       "      <td>136.331741</td>\n",
       "      <td>139.0</td>\n",
       "      <td>1649.347666</td>\n",
       "      <td>40.612162</td>\n",
       "      <td>147.529755</td>\n",
       "      <td>151.0</td>\n",
       "      <td>1412.353454</td>\n",
       "      <td>37.581291</td>\n",
       "      <td>126.857681</td>\n",
       "      <td>129.0</td>\n",
       "      <td>2512.158838</td>\n",
       "      <td>50.121441</td>\n",
       "      <td>1</td>\n",
       "    </tr>\n",
       "    <tr>\n",
       "      <th>4</th>\n",
       "      <td>129.850250</td>\n",
       "      <td>134.0</td>\n",
       "      <td>1940.935613</td>\n",
       "      <td>44.056051</td>\n",
       "      <td>131.718399</td>\n",
       "      <td>139.0</td>\n",
       "      <td>1782.426972</td>\n",
       "      <td>42.218799</td>\n",
       "      <td>101.312119</td>\n",
       "      <td>94.0</td>\n",
       "      <td>2798.758005</td>\n",
       "      <td>52.903289</td>\n",
       "      <td>1</td>\n",
       "    </tr>\n",
       "  </tbody>\n",
       "</table>\n",
       "</div>"
      ],
      "text/plain": [
       "     Red_Mean  Red_Median  Red_Variance    Red_Std  Green_Mean  Green_Median  \\\n",
       "0  121.849594       145.0   3304.497718  57.484761  125.967102         135.0   \n",
       "1  103.830032       102.0   2152.241390  46.392256  114.606018         121.0   \n",
       "2  116.047089       134.0   2488.556041  49.885429  119.544250         125.0   \n",
       "3  136.331741       139.0   1649.347666  40.612162  147.529755         151.0   \n",
       "4  129.850250       134.0   1940.935613  44.056051  131.718399         139.0   \n",
       "\n",
       "   Green_Variance  Green_Std   Blue_Mean  Blue_Median  Blue_Variance  \\\n",
       "0     1763.033006  41.988487  111.251572        134.0    3330.577657   \n",
       "1     1838.561514  42.878450   95.103455         88.0    3073.705972   \n",
       "2     1193.293666  34.544083  100.909332        119.0    2621.018971   \n",
       "3     1412.353454  37.581291  126.857681        129.0    2512.158838   \n",
       "4     1782.426972  42.218799  101.312119         94.0    2798.758005   \n",
       "\n",
       "    Blue_Std  label  \n",
       "0  57.711157      0  \n",
       "1  55.441013      1  \n",
       "2  51.195888      0  \n",
       "3  50.121441      1  \n",
       "4  52.903289      1  "
      ]
     },
     "execution_count": 2,
     "metadata": {},
     "output_type": "execute_result"
    }
   ],
   "source": [
    "# load and read dataset\n",
    "dataset = pd.read_excel('final_dataset.xlsx')\n",
    "dataset.head()"
   ]
  },
  {
   "cell_type": "code",
   "execution_count": 3,
   "id": "361eae97-8ec0-4ebf-a55a-9ee7fbe23834",
   "metadata": {},
   "outputs": [
    {
     "data": {
      "text/plain": [
       "0    0\n",
       "1    1\n",
       "2    0\n",
       "3    1\n",
       "4    1\n",
       "Name: label, dtype: int64"
      ]
     },
     "execution_count": 3,
     "metadata": {},
     "output_type": "execute_result"
    }
   ],
   "source": [
    "# classify dataset into sependent and independent sets\n",
    "x = dataset.iloc[:, : -1]\n",
    "y = dataset.iloc[:, -1]\n",
    "\n",
    "y.head()"
   ]
  },
  {
   "cell_type": "code",
   "execution_count": 4,
   "id": "bbfdd1d2-4703-4c61-88f7-dd9a2c9772ee",
   "metadata": {},
   "outputs": [],
   "source": [
    "# now split dataset into training and testing\n",
    "x_train, x_test, y_train, y_test = train_test_split(x, y, test_size = 0.2, random_state = 0)"
   ]
  },
  {
   "cell_type": "code",
   "execution_count": 5,
   "id": "42da9692-066e-46b9-aac9-70ed9b5136e0",
   "metadata": {},
   "outputs": [
    {
     "name": "stdout",
     "output_type": "stream",
     "text": [
      "Model: \"sequential\"\n",
      "_________________________________________________________________\n",
      " Layer (type)                Output Shape              Param #   \n",
      "=================================================================\n",
      " dense (Dense)               (None, 12)                156       \n",
      "                                                                 \n",
      " dense_1 (Dense)             (None, 64)                832       \n",
      "                                                                 \n",
      " dense_2 (Dense)             (None, 64)                4160      \n",
      "                                                                 \n",
      " dense_3 (Dense)             (None, 32)                2080      \n",
      "                                                                 \n",
      " dense_4 (Dense)             (None, 3)                 99        \n",
      "                                                                 \n",
      "=================================================================\n",
      "Total params: 7327 (28.62 KB)\n",
      "Trainable params: 7327 (28.62 KB)\n",
      "Non-trainable params: 0 (0.00 Byte)\n",
      "_________________________________________________________________\n"
     ]
    }
   ],
   "source": [
    "# prepare ANN model\n",
    "model = Sequential()\n",
    "\n",
    "# add input layer\n",
    "model.add(Dense(units = 12, kernel_initializer = 'uniform', input_dim = 12, input_shape = (12, )))\n",
    "\n",
    "# first hidden or dense layer\n",
    "model.add(Dense(units = 64, activation = 'relu', kernel_initializer = 'uniform'))\n",
    "\n",
    "# second hidden layer\n",
    "model.add(Dense(units = 64, activation = 'tanh', kernel_initializer = 'uniform'))\n",
    "\n",
    "# third hidden layer\n",
    "model.add(Dense(units = 32, activation = 'relu', kernel_initializer = 'uniform'))\n",
    "\n",
    "# output layer\n",
    "model.add(Dense(units = 3, activation = 'softmax', kernel_initializer = 'uniform'))\n",
    "\n",
    "model.summary()"
   ]
  },
  {
   "cell_type": "code",
   "execution_count": 6,
   "id": "2e963cea-5f34-4935-8c75-91d1de7af08e",
   "metadata": {},
   "outputs": [],
   "source": [
    "# now compile model\n",
    "model.compile(optimizer = 'adam', loss = 'SparseCategoricalCrossentropy', metrics = ['accuracy'])"
   ]
  },
  {
   "cell_type": "code",
   "execution_count": 7,
   "id": "3fa77a00-44c3-474d-a8cb-8b5c4d2f2c94",
   "metadata": {},
   "outputs": [
    {
     "name": "stdout",
     "output_type": "stream",
     "text": [
      "Epoch 1/30\n",
      "92/92 [==============================] - 3s 5ms/step - loss: 0.7775 - accuracy: 0.6797\n",
      "Epoch 2/30\n",
      "92/92 [==============================] - 0s 3ms/step - loss: 0.4664 - accuracy: 0.8121\n",
      "Epoch 3/30\n",
      "92/92 [==============================] - 0s 3ms/step - loss: 0.4166 - accuracy: 0.8279\n",
      "Epoch 4/30\n",
      "92/92 [==============================] - 0s 3ms/step - loss: 0.3992 - accuracy: 0.8299\n",
      "Epoch 5/30\n",
      "92/92 [==============================] - 0s 3ms/step - loss: 0.3652 - accuracy: 0.8481\n",
      "Epoch 6/30\n",
      "92/92 [==============================] - 0s 3ms/step - loss: 0.3411 - accuracy: 0.8573\n",
      "Epoch 7/30\n",
      "92/92 [==============================] - 0s 3ms/step - loss: 0.3400 - accuracy: 0.8595\n",
      "Epoch 8/30\n",
      "92/92 [==============================] - 0s 3ms/step - loss: 0.3505 - accuracy: 0.8524\n",
      "Epoch 9/30\n",
      "92/92 [==============================] - 0s 3ms/step - loss: 0.3151 - accuracy: 0.8667\n",
      "Epoch 10/30\n",
      "92/92 [==============================] - 0s 3ms/step - loss: 0.3166 - accuracy: 0.8680\n",
      "Epoch 11/30\n",
      "92/92 [==============================] - 0s 3ms/step - loss: 0.3034 - accuracy: 0.8724\n",
      "Epoch 12/30\n",
      "92/92 [==============================] - 0s 3ms/step - loss: 0.2878 - accuracy: 0.8796\n",
      "Epoch 13/30\n",
      "92/92 [==============================] - 0s 3ms/step - loss: 0.2943 - accuracy: 0.8766\n",
      "Epoch 14/30\n",
      "92/92 [==============================] - 0s 3ms/step - loss: 0.2957 - accuracy: 0.8779\n",
      "Epoch 15/30\n",
      "92/92 [==============================] - 0s 3ms/step - loss: 0.2713 - accuracy: 0.8860\n",
      "Epoch 16/30\n",
      "92/92 [==============================] - 0s 3ms/step - loss: 0.2659 - accuracy: 0.8930\n",
      "Epoch 17/30\n",
      "92/92 [==============================] - 0s 3ms/step - loss: 0.2824 - accuracy: 0.8869\n",
      "Epoch 18/30\n",
      "92/92 [==============================] - 0s 3ms/step - loss: 0.2630 - accuracy: 0.8923\n",
      "Epoch 19/30\n",
      "92/92 [==============================] - 0s 3ms/step - loss: 0.2638 - accuracy: 0.8891\n",
      "Epoch 20/30\n",
      "92/92 [==============================] - 0s 3ms/step - loss: 0.2590 - accuracy: 0.8970\n",
      "Epoch 21/30\n",
      "92/92 [==============================] - 0s 3ms/step - loss: 0.2474 - accuracy: 0.8967\n",
      "Epoch 22/30\n",
      "92/92 [==============================] - 0s 3ms/step - loss: 0.2425 - accuracy: 0.9037\n",
      "Epoch 23/30\n",
      "92/92 [==============================] - 0s 3ms/step - loss: 0.2530 - accuracy: 0.8926\n",
      "Epoch 24/30\n",
      "92/92 [==============================] - 0s 3ms/step - loss: 0.2390 - accuracy: 0.8996\n",
      "Epoch 25/30\n",
      "92/92 [==============================] - 0s 3ms/step - loss: 0.2386 - accuracy: 0.8950\n",
      "Epoch 26/30\n",
      "92/92 [==============================] - 0s 3ms/step - loss: 0.2380 - accuracy: 0.9042\n",
      "Epoch 27/30\n",
      "92/92 [==============================] - 0s 3ms/step - loss: 0.2472 - accuracy: 0.8974\n",
      "Epoch 28/30\n",
      "92/92 [==============================] - 0s 3ms/step - loss: 0.2290 - accuracy: 0.9112\n",
      "Epoch 29/30\n",
      "92/92 [==============================] - 0s 3ms/step - loss: 0.2126 - accuracy: 0.9127\n",
      "Epoch 30/30\n",
      "92/92 [==============================] - 0s 3ms/step - loss: 0.2439 - accuracy: 0.9024\n"
     ]
    },
    {
     "data": {
      "text/plain": [
       "<keras.src.callbacks.History at 0x1b313e614d0>"
      ]
     },
     "execution_count": 7,
     "metadata": {},
     "output_type": "execute_result"
    }
   ],
   "source": [
    "# fit the model\n",
    "model.fit(x_train, y_train, epochs = 30, batch_size = 50)"
   ]
  },
  {
   "cell_type": "code",
   "execution_count": 8,
   "id": "4598e255-8b16-4826-aee7-cd40e666edd6",
   "metadata": {},
   "outputs": [
    {
     "name": "stdout",
     "output_type": "stream",
     "text": [
      "143/143 [==============================] - 1s 3ms/step - loss: 0.1965 - accuracy: 0.9182\n"
     ]
    },
    {
     "data": {
      "text/plain": [
       "(0.19645613431930542, 0.9182196855545044)"
      ]
     },
     "execution_count": 8,
     "metadata": {},
     "output_type": "execute_result"
    }
   ],
   "source": [
    "# evaluate\n",
    "score, acc = model.evaluate(x_train, y_train)\n",
    "score, acc"
   ]
  },
  {
   "cell_type": "code",
   "execution_count": 9,
   "id": "4e0fa33f-e075-4364-b74b-8ca66d7b1741",
   "metadata": {},
   "outputs": [
    {
     "name": "stdout",
     "output_type": "stream",
     "text": [
      "36/36 [==============================] - 0s 2ms/step - loss: 0.2336 - accuracy: 0.9132\n"
     ]
    },
    {
     "data": {
      "text/plain": [
       "(0.23360717296600342, 0.9132339954376221)"
      ]
     },
     "execution_count": 9,
     "metadata": {},
     "output_type": "execute_result"
    }
   ],
   "source": [
    "# evaluate for test data \n",
    "score, acc = model.evaluate(x_test, y_test)\n",
    "score, acc"
   ]
  },
  {
   "cell_type": "code",
   "execution_count": 14,
   "id": "2d27a9b0-a93a-4e1c-b559-9b18900faa46",
   "metadata": {},
   "outputs": [
    {
     "name": "stdout",
     "output_type": "stream",
     "text": [
      "36/36 [==============================] - 0s 2ms/step\n"
     ]
    }
   ],
   "source": [
    "# predict\n",
    "y_pred = model.predict(x_test)\n",
    "y_pred = np.argmax(y_pred, axis=1)"
   ]
  },
  {
   "cell_type": "code",
   "execution_count": 17,
   "id": "e7a916a9-ef69-43fc-aa3b-6e51d310800e",
   "metadata": {},
   "outputs": [
    {
     "data": {
      "text/plain": [
       "array([0, 2, 1, 1, 1, 1, 0, 1, 1, 0], dtype=int64)"
      ]
     },
     "execution_count": 17,
     "metadata": {},
     "output_type": "execute_result"
    }
   ],
   "source": [
    "y_pred[:10]"
   ]
  },
  {
   "cell_type": "code",
   "execution_count": 22,
   "id": "97cc6813-f15b-44ce-9910-9d057f7d8bf9",
   "metadata": {},
   "outputs": [
    {
     "data": {
      "text/plain": [
       "array([0, 2, 1, 1, 1, 1, 0, 1, 1, 0], dtype=int64)"
      ]
     },
     "execution_count": 22,
     "metadata": {},
     "output_type": "execute_result"
    }
   ],
   "source": [
    "np.array(y_test[:10])"
   ]
  },
  {
   "cell_type": "code",
   "execution_count": 20,
   "id": "a01a3ed3-a55b-49c7-9b43-3c1c209cd9d7",
   "metadata": {},
   "outputs": [
    {
     "name": "stdout",
     "output_type": "stream",
     "text": [
      "The accuracy is 0.9132340052585451\n"
     ]
    }
   ],
   "source": [
    "# find accuracy\n",
    "from sklearn.metrics import accuracy_score\n",
    "print(\"The accuracy is\", accuracy_score(y_pred, y_test))"
   ]
  },
  {
   "cell_type": "code",
   "execution_count": null,
   "id": "6594a972-f037-4ca1-b191-d42caaa588cb",
   "metadata": {},
   "outputs": [],
   "source": []
  }
 ],
 "metadata": {
  "kernelspec": {
   "display_name": "Python 3 (ipykernel)",
   "language": "python",
   "name": "python3"
  },
  "language_info": {
   "codemirror_mode": {
    "name": "ipython",
    "version": 3
   },
   "file_extension": ".py",
   "mimetype": "text/x-python",
   "name": "python",
   "nbconvert_exporter": "python",
   "pygments_lexer": "ipython3",
   "version": "3.11.4"
  }
 },
 "nbformat": 4,
 "nbformat_minor": 5
}
