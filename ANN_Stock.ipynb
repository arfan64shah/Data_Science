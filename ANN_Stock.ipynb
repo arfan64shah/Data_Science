{
 "cells": [
  {
   "cell_type": "code",
   "execution_count": 57,
   "id": "10efd52e-63b1-4e55-98d4-5b89ca295d41",
   "metadata": {},
   "outputs": [],
   "source": [
    "# import required libraries\n",
    "import numpy as np\n",
    "import pandas as pd\n",
    "import plotly.graph_objects as go\n",
    "import tensorflow\n",
    "from tensorflow import keras\n",
    "from keras import Sequential\n",
    "from keras.layers import Dense"
   ]
  },
  {
   "cell_type": "code",
   "execution_count": 58,
   "id": "e3212bdd-3201-4b0f-ad59-c7555caa50fc",
   "metadata": {},
   "outputs": [
    {
     "data": {
      "text/html": [
       "<div>\n",
       "<style scoped>\n",
       "    .dataframe tbody tr th:only-of-type {\n",
       "        vertical-align: middle;\n",
       "    }\n",
       "\n",
       "    .dataframe tbody tr th {\n",
       "        vertical-align: top;\n",
       "    }\n",
       "\n",
       "    .dataframe thead th {\n",
       "        text-align: right;\n",
       "    }\n",
       "</style>\n",
       "<table border=\"1\" class=\"dataframe\">\n",
       "  <thead>\n",
       "    <tr style=\"text-align: right;\">\n",
       "      <th></th>\n",
       "      <th>Unnamed: 0</th>\n",
       "      <th>Date</th>\n",
       "      <th>Last</th>\n",
       "      <th>Opening</th>\n",
       "      <th>High</th>\n",
       "      <th>Low</th>\n",
       "      <th>Vol.</th>\n",
       "      <th>Var. %</th>\n",
       "      <th>category</th>\n",
       "    </tr>\n",
       "  </thead>\n",
       "  <tbody>\n",
       "    <tr>\n",
       "      <th>0</th>\n",
       "      <td>0</td>\n",
       "      <td>04-12-2021</td>\n",
       "      <td>3.50</td>\n",
       "      <td>3.57</td>\n",
       "      <td>3.64</td>\n",
       "      <td>3.46</td>\n",
       "      <td>1570000.0</td>\n",
       "      <td>-1.55</td>\n",
       "      <td>negative</td>\n",
       "    </tr>\n",
       "    <tr>\n",
       "      <th>1</th>\n",
       "      <td>1</td>\n",
       "      <td>04-09-2021</td>\n",
       "      <td>3.56</td>\n",
       "      <td>3.52</td>\n",
       "      <td>3.57</td>\n",
       "      <td>3.52</td>\n",
       "      <td>666030.0</td>\n",
       "      <td>1.14</td>\n",
       "      <td>positive</td>\n",
       "    </tr>\n",
       "    <tr>\n",
       "      <th>2</th>\n",
       "      <td>2</td>\n",
       "      <td>04-08-2021</td>\n",
       "      <td>3.52</td>\n",
       "      <td>3.45</td>\n",
       "      <td>3.54</td>\n",
       "      <td>3.45</td>\n",
       "      <td>882540.0</td>\n",
       "      <td>1.59</td>\n",
       "      <td>positive</td>\n",
       "    </tr>\n",
       "    <tr>\n",
       "      <th>3</th>\n",
       "      <td>3</td>\n",
       "      <td>04-07-2021</td>\n",
       "      <td>3.46</td>\n",
       "      <td>3.43</td>\n",
       "      <td>3.49</td>\n",
       "      <td>3.43</td>\n",
       "      <td>508330.0</td>\n",
       "      <td>0.87</td>\n",
       "      <td>positive</td>\n",
       "    </tr>\n",
       "    <tr>\n",
       "      <th>4</th>\n",
       "      <td>4</td>\n",
       "      <td>04-06-2021</td>\n",
       "      <td>3.43</td>\n",
       "      <td>3.44</td>\n",
       "      <td>3.49</td>\n",
       "      <td>3.43</td>\n",
       "      <td>809460.0</td>\n",
       "      <td>0.59</td>\n",
       "      <td>positive</td>\n",
       "    </tr>\n",
       "  </tbody>\n",
       "</table>\n",
       "</div>"
      ],
      "text/plain": [
       "   Unnamed: 0        Date  Last  Opening  High   Low       Vol.  Var. %  category\n",
       "0           0  04-12-2021  3.50     3.57  3.64  3.46  1570000.0   -1.55  negative\n",
       "1           1  04-09-2021  3.56     3.52  3.57  3.52   666030.0    1.14  positive\n",
       "2           2  04-08-2021  3.52     3.45  3.54  3.45   882540.0    1.59  positive\n",
       "3           3  04-07-2021  3.46     3.43  3.49  3.43   508330.0    0.87  positive\n",
       "4           4  04-06-2021  3.43     3.44  3.49  3.43   809460.0    0.59  positive"
      ]
     },
     "execution_count": 58,
     "metadata": {},
     "output_type": "execute_result"
    }
   ],
   "source": [
    "# load and read dataset\n",
    "dataset = pd.read_csv('stock.csv')\n",
    "dataset.head()"
   ]
  },
  {
   "cell_type": "code",
   "execution_count": 59,
   "id": "c6f5383f-eae6-4d1f-b8bf-6c0dc3145c79",
   "metadata": {},
   "outputs": [
    {
     "data": {
      "text/plain": [
       "Index(['Unnamed: 0', 'Date', 'Last', 'Opening', 'High', 'Low', 'Vol.',\n",
       "       'Var. %', 'category'],\n",
       "      dtype='object')"
      ]
     },
     "execution_count": 59,
     "metadata": {},
     "output_type": "execute_result"
    }
   ],
   "source": [
    "# display columns\n",
    "dataset.columns"
   ]
  },
  {
   "cell_type": "code",
   "execution_count": 60,
   "id": "c2fcee3d-dd1c-42e2-a04e-287f7923cf73",
   "metadata": {},
   "outputs": [],
   "source": [
    "# remove first column\n",
    "dataset = dataset.drop(['Unnamed: 0', 'Date'], axis = True)"
   ]
  },
  {
   "cell_type": "code",
   "execution_count": 61,
   "id": "741fb533-e245-49f8-8381-e62201389a75",
   "metadata": {},
   "outputs": [
    {
     "data": {
      "text/html": [
       "<div>\n",
       "<style scoped>\n",
       "    .dataframe tbody tr th:only-of-type {\n",
       "        vertical-align: middle;\n",
       "    }\n",
       "\n",
       "    .dataframe tbody tr th {\n",
       "        vertical-align: top;\n",
       "    }\n",
       "\n",
       "    .dataframe thead th {\n",
       "        text-align: right;\n",
       "    }\n",
       "</style>\n",
       "<table border=\"1\" class=\"dataframe\">\n",
       "  <thead>\n",
       "    <tr style=\"text-align: right;\">\n",
       "      <th></th>\n",
       "      <th>Last</th>\n",
       "      <th>Opening</th>\n",
       "      <th>High</th>\n",
       "      <th>Low</th>\n",
       "      <th>Vol.</th>\n",
       "      <th>Var. %</th>\n",
       "      <th>category</th>\n",
       "    </tr>\n",
       "  </thead>\n",
       "  <tbody>\n",
       "    <tr>\n",
       "      <th>0</th>\n",
       "      <td>3.50</td>\n",
       "      <td>3.57</td>\n",
       "      <td>3.64</td>\n",
       "      <td>3.46</td>\n",
       "      <td>1570000.0</td>\n",
       "      <td>-1.55</td>\n",
       "      <td>negative</td>\n",
       "    </tr>\n",
       "    <tr>\n",
       "      <th>1</th>\n",
       "      <td>3.56</td>\n",
       "      <td>3.52</td>\n",
       "      <td>3.57</td>\n",
       "      <td>3.52</td>\n",
       "      <td>666030.0</td>\n",
       "      <td>1.14</td>\n",
       "      <td>positive</td>\n",
       "    </tr>\n",
       "    <tr>\n",
       "      <th>2</th>\n",
       "      <td>3.52</td>\n",
       "      <td>3.45</td>\n",
       "      <td>3.54</td>\n",
       "      <td>3.45</td>\n",
       "      <td>882540.0</td>\n",
       "      <td>1.59</td>\n",
       "      <td>positive</td>\n",
       "    </tr>\n",
       "    <tr>\n",
       "      <th>3</th>\n",
       "      <td>3.46</td>\n",
       "      <td>3.43</td>\n",
       "      <td>3.49</td>\n",
       "      <td>3.43</td>\n",
       "      <td>508330.0</td>\n",
       "      <td>0.87</td>\n",
       "      <td>positive</td>\n",
       "    </tr>\n",
       "    <tr>\n",
       "      <th>4</th>\n",
       "      <td>3.43</td>\n",
       "      <td>3.44</td>\n",
       "      <td>3.49</td>\n",
       "      <td>3.43</td>\n",
       "      <td>809460.0</td>\n",
       "      <td>0.59</td>\n",
       "      <td>positive</td>\n",
       "    </tr>\n",
       "  </tbody>\n",
       "</table>\n",
       "</div>"
      ],
      "text/plain": [
       "   Last  Opening  High   Low       Vol.  Var. %  category\n",
       "0  3.50     3.57  3.64  3.46  1570000.0   -1.55  negative\n",
       "1  3.56     3.52  3.57  3.52   666030.0    1.14  positive\n",
       "2  3.52     3.45  3.54  3.45   882540.0    1.59  positive\n",
       "3  3.46     3.43  3.49  3.43   508330.0    0.87  positive\n",
       "4  3.43     3.44  3.49  3.43   809460.0    0.59  positive"
      ]
     },
     "execution_count": 61,
     "metadata": {},
     "output_type": "execute_result"
    }
   ],
   "source": [
    "dataset.head()"
   ]
  },
  {
   "cell_type": "code",
   "execution_count": 62,
   "id": "66d71589-d07e-4802-bbab-3ba6a0ee65a4",
   "metadata": {},
   "outputs": [
    {
     "data": {
      "text/plain": [
       "Last        0\n",
       "Opening     0\n",
       "High        0\n",
       "Low         0\n",
       "Vol.        0\n",
       "Var. %      0\n",
       "category    0\n",
       "dtype: int64"
      ]
     },
     "execution_count": 62,
     "metadata": {},
     "output_type": "execute_result"
    }
   ],
   "source": [
    "# find null values\n",
    "dataset.isnull().sum()"
   ]
  },
  {
   "cell_type": "code",
   "execution_count": 63,
   "id": "3195803f-5236-492e-94f9-4d098a1a3db3",
   "metadata": {},
   "outputs": [
    {
     "data": {
      "text/html": [
       "<div>\n",
       "<style scoped>\n",
       "    .dataframe tbody tr th:only-of-type {\n",
       "        vertical-align: middle;\n",
       "    }\n",
       "\n",
       "    .dataframe tbody tr th {\n",
       "        vertical-align: top;\n",
       "    }\n",
       "\n",
       "    .dataframe thead th {\n",
       "        text-align: right;\n",
       "    }\n",
       "</style>\n",
       "<table border=\"1\" class=\"dataframe\">\n",
       "  <thead>\n",
       "    <tr style=\"text-align: right;\">\n",
       "      <th></th>\n",
       "      <th>Last</th>\n",
       "      <th>Opening</th>\n",
       "      <th>High</th>\n",
       "      <th>Low</th>\n",
       "      <th>Vol.</th>\n",
       "      <th>Var. %</th>\n",
       "    </tr>\n",
       "  </thead>\n",
       "  <tbody>\n",
       "    <tr>\n",
       "      <th>count</th>\n",
       "      <td>1875.000000</td>\n",
       "      <td>1875.000000</td>\n",
       "      <td>1875.000000</td>\n",
       "      <td>1875.000000</td>\n",
       "      <td>1.875000e+03</td>\n",
       "      <td>1875.000000</td>\n",
       "    </tr>\n",
       "    <tr>\n",
       "      <th>mean</th>\n",
       "      <td>5.220325</td>\n",
       "      <td>5.222336</td>\n",
       "      <td>5.282341</td>\n",
       "      <td>5.156763</td>\n",
       "      <td>7.199550e+05</td>\n",
       "      <td>-0.005232</td>\n",
       "    </tr>\n",
       "    <tr>\n",
       "      <th>std</th>\n",
       "      <td>2.602547</td>\n",
       "      <td>2.601227</td>\n",
       "      <td>2.625503</td>\n",
       "      <td>2.573678</td>\n",
       "      <td>6.791061e+05</td>\n",
       "      <td>1.985541</td>\n",
       "    </tr>\n",
       "    <tr>\n",
       "      <th>min</th>\n",
       "      <td>1.800000</td>\n",
       "      <td>1.800000</td>\n",
       "      <td>1.820000</td>\n",
       "      <td>1.730000</td>\n",
       "      <td>4.182000e+04</td>\n",
       "      <td>-21.680000</td>\n",
       "    </tr>\n",
       "    <tr>\n",
       "      <th>25%</th>\n",
       "      <td>2.880000</td>\n",
       "      <td>2.880000</td>\n",
       "      <td>2.920000</td>\n",
       "      <td>2.840000</td>\n",
       "      <td>3.650900e+05</td>\n",
       "      <td>-0.910000</td>\n",
       "    </tr>\n",
       "    <tr>\n",
       "      <th>50%</th>\n",
       "      <td>5.070000</td>\n",
       "      <td>5.080000</td>\n",
       "      <td>5.110000</td>\n",
       "      <td>5.030000</td>\n",
       "      <td>5.381700e+05</td>\n",
       "      <td>0.000000</td>\n",
       "    </tr>\n",
       "    <tr>\n",
       "      <th>75%</th>\n",
       "      <td>7.530000</td>\n",
       "      <td>7.530000</td>\n",
       "      <td>7.650000</td>\n",
       "      <td>7.445000</td>\n",
       "      <td>8.484250e+05</td>\n",
       "      <td>0.930000</td>\n",
       "    </tr>\n",
       "    <tr>\n",
       "      <th>max</th>\n",
       "      <td>10.490000</td>\n",
       "      <td>10.450000</td>\n",
       "      <td>10.640000</td>\n",
       "      <td>10.390000</td>\n",
       "      <td>1.106000e+07</td>\n",
       "      <td>11.350000</td>\n",
       "    </tr>\n",
       "  </tbody>\n",
       "</table>\n",
       "</div>"
      ],
      "text/plain": [
       "              Last      Opening         High          Low          Vol.       Var. %\n",
       "count  1875.000000  1875.000000  1875.000000  1875.000000  1.875000e+03  1875.000000\n",
       "mean      5.220325     5.222336     5.282341     5.156763  7.199550e+05    -0.005232\n",
       "std       2.602547     2.601227     2.625503     2.573678  6.791061e+05     1.985541\n",
       "min       1.800000     1.800000     1.820000     1.730000  4.182000e+04   -21.680000\n",
       "25%       2.880000     2.880000     2.920000     2.840000  3.650900e+05    -0.910000\n",
       "50%       5.070000     5.080000     5.110000     5.030000  5.381700e+05     0.000000\n",
       "75%       7.530000     7.530000     7.650000     7.445000  8.484250e+05     0.930000\n",
       "max      10.490000    10.450000    10.640000    10.390000  1.106000e+07    11.350000"
      ]
     },
     "execution_count": 63,
     "metadata": {},
     "output_type": "execute_result"
    }
   ],
   "source": [
    "# descriptive statistics\n",
    "dataset.describe()"
   ]
  },
  {
   "cell_type": "code",
   "execution_count": 64,
   "id": "ffc7ce1c-1fee-4050-a53d-01a2d156986d",
   "metadata": {},
   "outputs": [
    {
     "data": {
      "text/plain": [
       "Last        float64\n",
       "Opening     float64\n",
       "High        float64\n",
       "Low         float64\n",
       "Vol.        float64\n",
       "Var. %      float64\n",
       "category     object\n",
       "dtype: object"
      ]
     },
     "execution_count": 64,
     "metadata": {},
     "output_type": "execute_result"
    }
   ],
   "source": [
    "# find datatypes\n",
    "dataset.dtypes"
   ]
  },
  {
   "cell_type": "code",
   "execution_count": 65,
   "id": "97291f68-442b-4cde-867e-2b4ff22b96f0",
   "metadata": {},
   "outputs": [
    {
     "data": {
      "text/plain": [
       "category\n",
       "negative    867\n",
       "positive    864\n",
       "neutral     144\n",
       "Name: count, dtype: int64"
      ]
     },
     "execution_count": 65,
     "metadata": {},
     "output_type": "execute_result"
    }
   ],
   "source": [
    "# unique values in cateogry\n",
    "dataset['category'].value_counts()"
   ]
  },
  {
   "cell_type": "code",
   "execution_count": 66,
   "id": "eea2515c-5426-460a-98fd-086aee44e425",
   "metadata": {},
   "outputs": [
    {
     "data": {
      "text/plain": [
       "0       negative\n",
       "1       positive\n",
       "2       positive\n",
       "3       positive\n",
       "4       positive\n",
       "          ...   \n",
       "1870    negative\n",
       "1871    positive\n",
       "1872    negative\n",
       "1873    positive\n",
       "1874    negative\n",
       "Name: category, Length: 1875, dtype: object"
      ]
     },
     "execution_count": 66,
     "metadata": {},
     "output_type": "execute_result"
    }
   ],
   "source": [
    "dataset['category']"
   ]
  },
  {
   "cell_type": "code",
   "execution_count": 67,
   "id": "29caf396-20ee-4966-81eb-e3e0446ba02b",
   "metadata": {},
   "outputs": [],
   "source": [
    "# category mapping\n",
    "category_map = {'negative': 0, 'neutral': 1, 'positive': 2}\n",
    "\n",
    "dataset['category'] = dataset['category'].replace(category_map)"
   ]
  },
  {
   "cell_type": "code",
   "execution_count": 68,
   "id": "f3a8d0ac-c999-4b8d-9fc4-cee13d6abae3",
   "metadata": {},
   "outputs": [
    {
     "data": {
      "text/plain": [
       "0       0\n",
       "1       2\n",
       "2       2\n",
       "3       2\n",
       "4       2\n",
       "       ..\n",
       "1870    0\n",
       "1871    2\n",
       "1872    0\n",
       "1873    2\n",
       "1874    0\n",
       "Name: category, Length: 1875, dtype: int64"
      ]
     },
     "execution_count": 68,
     "metadata": {},
     "output_type": "execute_result"
    }
   ],
   "source": [
    "dataset['category']"
   ]
  },
  {
   "cell_type": "code",
   "execution_count": 69,
   "id": "d29fc527-1e44-40bc-8a69-2accc82bdc43",
   "metadata": {},
   "outputs": [
    {
     "data": {
      "text/html": [
       "<div>\n",
       "<style scoped>\n",
       "    .dataframe tbody tr th:only-of-type {\n",
       "        vertical-align: middle;\n",
       "    }\n",
       "\n",
       "    .dataframe tbody tr th {\n",
       "        vertical-align: top;\n",
       "    }\n",
       "\n",
       "    .dataframe thead th {\n",
       "        text-align: right;\n",
       "    }\n",
       "</style>\n",
       "<table border=\"1\" class=\"dataframe\">\n",
       "  <thead>\n",
       "    <tr style=\"text-align: right;\">\n",
       "      <th></th>\n",
       "      <th>Last</th>\n",
       "      <th>Opening</th>\n",
       "      <th>High</th>\n",
       "      <th>Low</th>\n",
       "      <th>Vol.</th>\n",
       "      <th>Var. %</th>\n",
       "      <th>category</th>\n",
       "    </tr>\n",
       "  </thead>\n",
       "  <tbody>\n",
       "    <tr>\n",
       "      <th>0</th>\n",
       "      <td>3.50</td>\n",
       "      <td>3.57</td>\n",
       "      <td>3.64</td>\n",
       "      <td>3.46</td>\n",
       "      <td>1570000.0</td>\n",
       "      <td>-1.55</td>\n",
       "      <td>0</td>\n",
       "    </tr>\n",
       "    <tr>\n",
       "      <th>1</th>\n",
       "      <td>3.56</td>\n",
       "      <td>3.52</td>\n",
       "      <td>3.57</td>\n",
       "      <td>3.52</td>\n",
       "      <td>666030.0</td>\n",
       "      <td>1.14</td>\n",
       "      <td>2</td>\n",
       "    </tr>\n",
       "    <tr>\n",
       "      <th>2</th>\n",
       "      <td>3.52</td>\n",
       "      <td>3.45</td>\n",
       "      <td>3.54</td>\n",
       "      <td>3.45</td>\n",
       "      <td>882540.0</td>\n",
       "      <td>1.59</td>\n",
       "      <td>2</td>\n",
       "    </tr>\n",
       "    <tr>\n",
       "      <th>3</th>\n",
       "      <td>3.46</td>\n",
       "      <td>3.43</td>\n",
       "      <td>3.49</td>\n",
       "      <td>3.43</td>\n",
       "      <td>508330.0</td>\n",
       "      <td>0.87</td>\n",
       "      <td>2</td>\n",
       "    </tr>\n",
       "    <tr>\n",
       "      <th>4</th>\n",
       "      <td>3.43</td>\n",
       "      <td>3.44</td>\n",
       "      <td>3.49</td>\n",
       "      <td>3.43</td>\n",
       "      <td>809460.0</td>\n",
       "      <td>0.59</td>\n",
       "      <td>2</td>\n",
       "    </tr>\n",
       "  </tbody>\n",
       "</table>\n",
       "</div>"
      ],
      "text/plain": [
       "   Last  Opening  High   Low       Vol.  Var. %  category\n",
       "0  3.50     3.57  3.64  3.46  1570000.0   -1.55         0\n",
       "1  3.56     3.52  3.57  3.52   666030.0    1.14         2\n",
       "2  3.52     3.45  3.54  3.45   882540.0    1.59         2\n",
       "3  3.46     3.43  3.49  3.43   508330.0    0.87         2\n",
       "4  3.43     3.44  3.49  3.43   809460.0    0.59         2"
      ]
     },
     "execution_count": 69,
     "metadata": {},
     "output_type": "execute_result"
    }
   ],
   "source": [
    "dataset.head()"
   ]
  },
  {
   "cell_type": "code",
   "execution_count": 70,
   "id": "186e8244-3120-4f86-990d-71fd1d16ce38",
   "metadata": {},
   "outputs": [
    {
     "data": {
      "text/plain": [
       "category\n",
       "0    867\n",
       "2    864\n",
       "1    144\n",
       "Name: count, dtype: int64"
      ]
     },
     "execution_count": 70,
     "metadata": {},
     "output_type": "execute_result"
    }
   ],
   "source": [
    "# find unique values in category column\n",
    "dataset['category'].value_counts()"
   ]
  },
  {
   "cell_type": "code",
   "execution_count": 71,
   "id": "f252084c-e581-4763-8679-54deed36e2a2",
   "metadata": {},
   "outputs": [
    {
     "data": {
      "text/plain": [
       "1875"
      ]
     },
     "execution_count": 71,
     "metadata": {},
     "output_type": "execute_result"
    }
   ],
   "source": [
    "# find length of dataset\n",
    "len(dataset)"
   ]
  },
  {
   "cell_type": "code",
   "execution_count": 73,
   "id": "85681473-a7ef-45a4-8676-e32810e9c31a",
   "metadata": {},
   "outputs": [
    {
     "data": {
      "text/plain": [
       "Last        0.036741\n",
       "Opening     0.014012\n",
       "High        0.025746\n",
       "Low         0.026867\n",
       "Vol.       -0.020480\n",
       "Var. %      0.701044\n",
       "category    1.000000\n",
       "Name: category, dtype: float64"
      ]
     },
     "execution_count": 73,
     "metadata": {},
     "output_type": "execute_result"
    }
   ],
   "source": [
    "# find correlation wrt category column\n",
    "dataset.corr()['category']"
   ]
  },
  {
   "cell_type": "code",
   "execution_count": null,
   "id": "89283d90-7bad-4fb1-b484-14d21866eaf4",
   "metadata": {},
   "outputs": [],
   "source": []
  }
 ],
 "metadata": {
  "kernelspec": {
   "display_name": "Python 3 (ipykernel)",
   "language": "python",
   "name": "python3"
  },
  "language_info": {
   "codemirror_mode": {
    "name": "ipython",
    "version": 3
   },
   "file_extension": ".py",
   "mimetype": "text/x-python",
   "name": "python",
   "nbconvert_exporter": "python",
   "pygments_lexer": "ipython3",
   "version": "3.11.4"
  }
 },
 "nbformat": 4,
 "nbformat_minor": 5
}
