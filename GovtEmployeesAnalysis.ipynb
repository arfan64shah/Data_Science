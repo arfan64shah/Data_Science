{
 "cells": [
  {
   "cell_type": "code",
   "execution_count": 50,
   "id": "8f908e57-7e2f-4741-99a1-9b03db3c5414",
   "metadata": {},
   "outputs": [
    {
     "data": {
      "text/html": [
       "<div>\n",
       "<style scoped>\n",
       "    .dataframe tbody tr th:only-of-type {\n",
       "        vertical-align: middle;\n",
       "    }\n",
       "\n",
       "    .dataframe tbody tr th {\n",
       "        vertical-align: top;\n",
       "    }\n",
       "\n",
       "    .dataframe thead th {\n",
       "        text-align: right;\n",
       "    }\n",
       "</style>\n",
       "<table border=\"1\" class=\"dataframe\">\n",
       "  <thead>\n",
       "    <tr style=\"text-align: right;\">\n",
       "      <th></th>\n",
       "      <th>Year</th>\n",
       "      <th>Province</th>\n",
       "      <th>Grade</th>\n",
       "      <th>Male</th>\n",
       "      <th>Female</th>\n",
       "      <th>Unnamed: 5</th>\n",
       "    </tr>\n",
       "  </thead>\n",
       "  <tbody>\n",
       "    <tr>\n",
       "      <th>0</th>\n",
       "      <td>2010</td>\n",
       "      <td>Punjab</td>\n",
       "      <td>1</td>\n",
       "      <td>8580</td>\n",
       "      <td>488</td>\n",
       "      <td>NaN</td>\n",
       "    </tr>\n",
       "    <tr>\n",
       "      <th>1</th>\n",
       "      <td>2010</td>\n",
       "      <td>Punjab</td>\n",
       "      <td>2</td>\n",
       "      <td>5321</td>\n",
       "      <td>465</td>\n",
       "      <td>NaN</td>\n",
       "    </tr>\n",
       "    <tr>\n",
       "      <th>2</th>\n",
       "      <td>2010</td>\n",
       "      <td>Punjab</td>\n",
       "      <td>3</td>\n",
       "      <td>1816</td>\n",
       "      <td>155</td>\n",
       "      <td>NaN</td>\n",
       "    </tr>\n",
       "    <tr>\n",
       "      <th>3</th>\n",
       "      <td>2010</td>\n",
       "      <td>Punjab</td>\n",
       "      <td>4</td>\n",
       "      <td>1739</td>\n",
       "      <td>735</td>\n",
       "      <td>NaN</td>\n",
       "    </tr>\n",
       "    <tr>\n",
       "      <th>4</th>\n",
       "      <td>2010</td>\n",
       "      <td>Punjab</td>\n",
       "      <td>5</td>\n",
       "      <td>3333</td>\n",
       "      <td>53</td>\n",
       "      <td>NaN</td>\n",
       "    </tr>\n",
       "  </tbody>\n",
       "</table>\n",
       "</div>"
      ],
      "text/plain": [
       "   Year Province  Grade  Male Female  Unnamed: 5\n",
       "0  2010   Punjab      1  8580    488         NaN\n",
       "1  2010   Punjab      2  5321    465         NaN\n",
       "2  2010   Punjab      3  1816    155         NaN\n",
       "3  2010   Punjab      4  1739    735         NaN\n",
       "4  2010   Punjab      5  3333     53         NaN"
      ]
     },
     "execution_count": 50,
     "metadata": {},
     "output_type": "execute_result"
    }
   ],
   "source": [
    "# import required libraries\n",
    "import pandas as pd\n",
    "import numpy as np\n",
    "import matplotlib.pyplot as plt\n",
    "import seaborn as sb\n",
    "import plotly as pty\n",
    "\n",
    "# now read the dataset\n",
    "dataset = pd.read_csv('gov_emp_pk.csv')\n",
    "dataset.head()"
   ]
  },
  {
   "cell_type": "markdown",
   "id": "fc190159-9fa3-4005-bb2a-768494fd3d40",
   "metadata": {},
   "source": [
    "#### we can see the dataset that there is an extra column which we need to remove"
   ]
  },
  {
   "cell_type": "code",
   "execution_count": 51,
   "id": "c8b81123-6fa6-4d30-8f96-3a84dbef2953",
   "metadata": {},
   "outputs": [
    {
     "data": {
      "text/html": [
       "<div>\n",
       "<style scoped>\n",
       "    .dataframe tbody tr th:only-of-type {\n",
       "        vertical-align: middle;\n",
       "    }\n",
       "\n",
       "    .dataframe tbody tr th {\n",
       "        vertical-align: top;\n",
       "    }\n",
       "\n",
       "    .dataframe thead th {\n",
       "        text-align: right;\n",
       "    }\n",
       "</style>\n",
       "<table border=\"1\" class=\"dataframe\">\n",
       "  <thead>\n",
       "    <tr style=\"text-align: right;\">\n",
       "      <th></th>\n",
       "      <th>Year</th>\n",
       "      <th>Province</th>\n",
       "      <th>Grade</th>\n",
       "      <th>Male</th>\n",
       "      <th>Female</th>\n",
       "    </tr>\n",
       "  </thead>\n",
       "  <tbody>\n",
       "    <tr>\n",
       "      <th>0</th>\n",
       "      <td>2010</td>\n",
       "      <td>Punjab</td>\n",
       "      <td>1</td>\n",
       "      <td>8580</td>\n",
       "      <td>488</td>\n",
       "    </tr>\n",
       "    <tr>\n",
       "      <th>1</th>\n",
       "      <td>2010</td>\n",
       "      <td>Punjab</td>\n",
       "      <td>2</td>\n",
       "      <td>5321</td>\n",
       "      <td>465</td>\n",
       "    </tr>\n",
       "    <tr>\n",
       "      <th>2</th>\n",
       "      <td>2010</td>\n",
       "      <td>Punjab</td>\n",
       "      <td>3</td>\n",
       "      <td>1816</td>\n",
       "      <td>155</td>\n",
       "    </tr>\n",
       "    <tr>\n",
       "      <th>3</th>\n",
       "      <td>2010</td>\n",
       "      <td>Punjab</td>\n",
       "      <td>4</td>\n",
       "      <td>1739</td>\n",
       "      <td>735</td>\n",
       "    </tr>\n",
       "    <tr>\n",
       "      <th>4</th>\n",
       "      <td>2010</td>\n",
       "      <td>Punjab</td>\n",
       "      <td>5</td>\n",
       "      <td>3333</td>\n",
       "      <td>53</td>\n",
       "    </tr>\n",
       "  </tbody>\n",
       "</table>\n",
       "</div>"
      ],
      "text/plain": [
       "   Year Province  Grade  Male Female\n",
       "0  2010   Punjab      1  8580    488\n",
       "1  2010   Punjab      2  5321    465\n",
       "2  2010   Punjab      3  1816    155\n",
       "3  2010   Punjab      4  1739    735\n",
       "4  2010   Punjab      5  3333     53"
      ]
     },
     "execution_count": 51,
     "metadata": {},
     "output_type": "execute_result"
    }
   ],
   "source": [
    "# remove the last column\n",
    "dataset = dataset.drop(['Unnamed: 5'], axis=True)\n",
    "dataset.head()"
   ]
  },
  {
   "cell_type": "markdown",
   "id": "fd1bfff5-a6dc-40bc-b2d4-68ffe3e54f1c",
   "metadata": {},
   "source": [
    "#### lets now find out are there any missing values"
   ]
  },
  {
   "cell_type": "code",
   "execution_count": 52,
   "id": "87abbc3f-eaaa-4932-826a-f191e9705af1",
   "metadata": {},
   "outputs": [
    {
     "data": {
      "text/plain": [
       "Year         0\n",
       "Province     0\n",
       "Grade        0\n",
       "Male         0\n",
       "Female      87\n",
       "dtype: int64"
      ]
     },
     "execution_count": 52,
     "metadata": {},
     "output_type": "execute_result"
    }
   ],
   "source": [
    "# find out missing and null values\n",
    "dataset.isnull().sum()"
   ]
  },
  {
   "cell_type": "code",
   "execution_count": 53,
   "id": "9bff60f3-cd56-4c5f-b138-538aa049e5d7",
   "metadata": {},
   "outputs": [
    {
     "name": "stdout",
     "output_type": "stream",
     "text": [
      "<class 'pandas.core.frame.DataFrame'>\n",
      "RangeIndex: 1031 entries, 0 to 1030\n",
      "Data columns (total 5 columns):\n",
      " #   Column    Non-Null Count  Dtype \n",
      "---  ------    --------------  ----- \n",
      " 0   Year      1031 non-null   object\n",
      " 1   Province  1031 non-null   object\n",
      " 2   Grade     1031 non-null   int64 \n",
      " 3   Male      1031 non-null   object\n",
      " 4   Female    944 non-null    object\n",
      "dtypes: int64(1), object(4)\n",
      "memory usage: 40.4+ KB\n"
     ]
    }
   ],
   "source": [
    "# determine further information\n",
    "dataset.info()"
   ]
  },
  {
   "cell_type": "markdown",
   "id": "cf7a90fe-bb42-45f5-9bec-2b736050c314",
   "metadata": {},
   "source": [
    "#### now check for the unique values in date column"
   ]
  },
  {
   "cell_type": "code",
   "execution_count": 54,
   "id": "4c4e2e2c-4418-46d1-95f8-331f54ec6dcf",
   "metadata": {},
   "outputs": [
    {
     "data": {
      "text/plain": [
       "array(['2010', '2011', '2012', '2013', '2014', '2015', '2016', '2017',\n",
       "       '2018', '2008-09', '2009-10', '2010-11', '2011-12', '2014-15',\n",
       "       '2015-16', '2016-17', '2017-18'], dtype=object)"
      ]
     },
     "execution_count": 54,
     "metadata": {},
     "output_type": "execute_result"
    }
   ],
   "source": [
    "dataset['Year'].unique()"
   ]
  },
  {
   "cell_type": "code",
   "execution_count": 55,
   "id": "dda1d8aa-e0bd-4659-ae90-bad67c71e077",
   "metadata": {},
   "outputs": [],
   "source": [
    "# remove the dates having month\n",
    "dataset1 = dataset[dataset['Year'] != '2010-11']\n",
    "dataset1 = dataset1[dataset1['Year'] != '2008-09']\n",
    "dataset1 = dataset1[dataset1['Year'] != '2009-10']\n",
    "dataset1 = dataset1[dataset1['Year'] != '2011-12']\n",
    "dataset1 = dataset1[dataset1['Year'] != '2014-15']\n",
    "dataset1 = dataset1[dataset1['Year'] != '2015-16']\n",
    "dataset1 = dataset1[dataset1['Year'] != '2016-17']\n",
    "dataset1 = dataset1[dataset1['Year'] != '2017-18']\n",
    "\n"
   ]
  },
  {
   "cell_type": "code",
   "execution_count": 56,
   "id": "b0b46818-6825-4507-8e93-8d35d515ca62",
   "metadata": {},
   "outputs": [
    {
     "data": {
      "text/plain": [
       "array(['2010', '2011', '2012', '2013', '2014', '2015', '2016', '2017',\n",
       "       '2018'], dtype=object)"
      ]
     },
     "execution_count": 56,
     "metadata": {},
     "output_type": "execute_result"
    }
   ],
   "source": [
    "dataset1['Year'].unique()"
   ]
  },
  {
   "cell_type": "code",
   "execution_count": 57,
   "id": "6042d9cf-ea0e-471c-94ca-a89d0c7809e1",
   "metadata": {},
   "outputs": [
    {
     "name": "stdout",
     "output_type": "stream",
     "text": [
      "<class 'pandas.core.frame.DataFrame'>\n",
      "Index: 855 entries, 0 to 854\n",
      "Data columns (total 5 columns):\n",
      " #   Column    Non-Null Count  Dtype \n",
      "---  ------    --------------  ----- \n",
      " 0   Year      855 non-null    object\n",
      " 1   Province  855 non-null    object\n",
      " 2   Grade     855 non-null    int64 \n",
      " 3   Male      855 non-null    object\n",
      " 4   Female    768 non-null    object\n",
      "dtypes: int64(1), object(4)\n",
      "memory usage: 40.1+ KB\n"
     ]
    }
   ],
   "source": [
    "dataset1.info()"
   ]
  },
  {
   "cell_type": "code",
   "execution_count": 58,
   "id": "ce76b700-006b-4efa-ab2c-6e6188cf6f0a",
   "metadata": {},
   "outputs": [],
   "source": [
    "# now replace the null values with zeros in female column\n",
    "dataset1['Female'] = dataset1['Female'].fillna(0)"
   ]
  },
  {
   "cell_type": "code",
   "execution_count": 60,
   "id": "5b9ec34d-b355-4a13-a200-4a5140cd367d",
   "metadata": {},
   "outputs": [
    {
     "name": "stdout",
     "output_type": "stream",
     "text": [
      "<class 'pandas.core.frame.DataFrame'>\n",
      "Index: 855 entries, 0 to 854\n",
      "Data columns (total 5 columns):\n",
      " #   Column    Non-Null Count  Dtype \n",
      "---  ------    --------------  ----- \n",
      " 0   Year      855 non-null    object\n",
      " 1   Province  855 non-null    object\n",
      " 2   Grade     855 non-null    int64 \n",
      " 3   Male      855 non-null    object\n",
      " 4   Female    855 non-null    object\n",
      "dtypes: int64(1), object(4)\n",
      "memory usage: 40.1+ KB\n"
     ]
    }
   ],
   "source": [
    "dataset1.info()"
   ]
  },
  {
   "cell_type": "code",
   "execution_count": 65,
   "id": "6fc5cf65-a6b4-4a9a-8746-930c7976cd08",
   "metadata": {},
   "outputs": [],
   "source": [
    "# now lets change the data types of male and female columns\n",
    "dataset1['Male'] = dataset1['Male'].str.replace(',', '', regex = True).astype(int)\n"
   ]
  },
  {
   "cell_type": "code",
   "execution_count": 68,
   "id": "db65d4b9-ddbc-482a-8e1c-9de53c9e9320",
   "metadata": {},
   "outputs": [],
   "source": [
    "dataset1[\"Female\"] = dataset[\"Female\"].str.replace(',', '', regex = True).fillna('0').astype(int)"
   ]
  },
  {
   "cell_type": "code",
   "execution_count": null,
   "id": "8f8399ce-b352-4343-a907-e8b46a16f9c2",
   "metadata": {},
   "outputs": [],
   "source": []
  }
 ],
 "metadata": {
  "kernelspec": {
   "display_name": "Python 3 (ipykernel)",
   "language": "python",
   "name": "python3"
  },
  "language_info": {
   "codemirror_mode": {
    "name": "ipython",
    "version": 3
   },
   "file_extension": ".py",
   "mimetype": "text/x-python",
   "name": "python",
   "nbconvert_exporter": "python",
   "pygments_lexer": "ipython3",
   "version": "3.11.4"
  }
 },
 "nbformat": 4,
 "nbformat_minor": 5
}
