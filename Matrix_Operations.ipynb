{
 "cells": [
  {
   "cell_type": "code",
   "execution_count": 1,
   "id": "b2c2a1bd-d3ce-493c-afaa-b3160a227806",
   "metadata": {},
   "outputs": [],
   "source": [
    "# import required libraries\n",
    "import numpy as np"
   ]
  },
  {
   "cell_type": "code",
   "execution_count": 5,
   "id": "731eaa91-d888-42a9-8fb7-28a065adc856",
   "metadata": {},
   "outputs": [
    {
     "data": {
      "text/plain": [
       "array([[8, 3, 3, 2],\n",
       "       [7, 6, 3, 5],\n",
       "       [6, 1, 6, 1],\n",
       "       [4, 8, 5, 6]])"
      ]
     },
     "execution_count": 5,
     "metadata": {},
     "output_type": "execute_result"
    }
   ],
   "source": [
    "# create a random matrix\n",
    "\n",
    "# declare rows and columns\n",
    "rows = 4\n",
    "columns = 4\n",
    "\n",
    "# declare high and low value\n",
    "low = 0\n",
    "high = 10\n",
    "\n",
    "rand_matrix1 = np.random.randint(low, high, size = (rows, columns))\n",
    "\n",
    "rand_matrix1"
   ]
  },
  {
   "cell_type": "code",
   "execution_count": 6,
   "id": "ec1c5ab2-ee3c-4470-9a44-fea0235771ba",
   "metadata": {},
   "outputs": [
    {
     "data": {
      "text/plain": [
       "array([[5, 9, 5, 8],\n",
       "       [0, 8, 8, 6],\n",
       "       [0, 4, 1, 6],\n",
       "       [9, 6, 5, 5]])"
      ]
     },
     "execution_count": 6,
     "metadata": {},
     "output_type": "execute_result"
    }
   ],
   "source": [
    "# add another matrix\n",
    "rand_matrix2 = np.random.randint(low, high, size = (rows, columns))\n",
    "\n",
    "rand_matrix2"
   ]
  },
  {
   "cell_type": "code",
   "execution_count": 7,
   "id": "b960ddda-c321-4095-b497-74ef08b72c99",
   "metadata": {},
   "outputs": [
    {
     "data": {
      "text/plain": [
       "array([[13, 12,  8, 10],\n",
       "       [ 7, 14, 11, 11],\n",
       "       [ 6,  5,  7,  7],\n",
       "       [13, 14, 10, 11]])"
      ]
     },
     "execution_count": 7,
     "metadata": {},
     "output_type": "execute_result"
    }
   ],
   "source": [
    "# addition of two matrices\n",
    "add_matrix = rand_matrix1 + rand_matrix2\n",
    "add_matrix"
   ]
  },
  {
   "cell_type": "code",
   "execution_count": 8,
   "id": "153cc717-abea-4e50-9e3a-5e3b8fefaa8c",
   "metadata": {},
   "outputs": [
    {
     "name": "stdout",
     "output_type": "stream",
     "text": [
      "[13 12  8 10]\n",
      "[ 7 14 11 11]\n",
      "[6 5 7 7]\n",
      "[13 14 10 11]\n"
     ]
    }
   ],
   "source": [
    "# loop in resultant matrix\n",
    "for i in add_matrix:\n",
    "    print(i)"
   ]
  },
  {
   "cell_type": "code",
   "execution_count": 12,
   "id": "7471a985-7065-433f-a621-39d25b7863a6",
   "metadata": {},
   "outputs": [
    {
     "data": {
      "text/plain": [
       "[13, 12, 8, 10, 7, 14, 11, 11, 6, 5, 7, 7, 13, 14, 10, 11]"
      ]
     },
     "execution_count": 12,
     "metadata": {},
     "output_type": "execute_result"
    }
   ],
   "source": [
    "# loop through every element and add into list\n",
    "list = []\n",
    "\n",
    "for i in add_matrix:\n",
    "    for j in i:\n",
    "        list.append(j)\n",
    "list"
   ]
  },
  {
   "cell_type": "code",
   "execution_count": 14,
   "id": "137f0d96-fcab-4240-97ef-385d54d75c3a",
   "metadata": {},
   "outputs": [
    {
     "data": {
      "text/plain": [
       "array([[40, 27, 15, 16],\n",
       "       [ 0, 48, 24, 30],\n",
       "       [ 0,  4,  6,  6],\n",
       "       [36, 48, 25, 30]])"
      ]
     },
     "execution_count": 14,
     "metadata": {},
     "output_type": "execute_result"
    }
   ],
   "source": [
    "# matrix multiplication\n",
    "multi_matrix = rand_matrix1 * rand_matrix2\n",
    "multi_matrix"
   ]
  },
  {
   "cell_type": "code",
   "execution_count": 16,
   "id": "38e71b76-a858-43ef-a95d-f9f26e087d0c",
   "metadata": {},
   "outputs": [
    {
     "data": {
      "text/plain": [
       "array([[20. , 13.5,  7.5,  8. ],\n",
       "       [ 0. , 24. , 12. , 15. ],\n",
       "       [ 0. ,  2. ,  3. ,  3. ],\n",
       "       [18. , 24. , 12.5, 15. ]])"
      ]
     },
     "execution_count": 16,
     "metadata": {},
     "output_type": "execute_result"
    }
   ],
   "source": [
    "div_matrix = multi_matrix/2\n",
    "div_matrix"
   ]
  },
  {
   "cell_type": "code",
   "execution_count": 10,
   "id": "d6ee7b50-c5da-435d-9238-e728c193c7cb",
   "metadata": {},
   "outputs": [
    {
     "data": {
      "text/plain": [
       "4"
      ]
     },
     "execution_count": 10,
     "metadata": {},
     "output_type": "execute_result"
    }
   ],
   "source": [
    "len(list)"
   ]
  },
  {
   "cell_type": "code",
   "execution_count": 7,
   "id": "6a3146bf-312d-428c-bb0c-126d0658dcc2",
   "metadata": {},
   "outputs": [
    {
     "data": {
      "text/plain": [
       "(5, 37, 96, 63)"
      ]
     },
     "execution_count": 7,
     "metadata": {},
     "output_type": "execute_result"
    }
   ],
   "source": [
    "# access random value\n",
    "rand_matrix[0][0], rand_matrix[0][1], rand_matrix[0][2], rand_matrix[0][3]"
   ]
  },
  {
   "cell_type": "code",
   "execution_count": 8,
   "id": "be5823b1-b023-4879-aa19-00a0ed4b92c4",
   "metadata": {},
   "outputs": [
    {
     "data": {
      "text/plain": [
       "(37, 61, 31, 31)"
      ]
     },
     "execution_count": 8,
     "metadata": {},
     "output_type": "execute_result"
    }
   ],
   "source": [
    "rand_matrix[1][0], rand_matrix[1][1], rand_matrix[1][2], rand_matrix[1][3]"
   ]
  },
  {
   "cell_type": "code",
   "execution_count": 9,
   "id": "4f712563-6911-45be-bf2b-1711d3c8efad",
   "metadata": {},
   "outputs": [
    {
     "data": {
      "text/plain": [
       "83"
      ]
     },
     "execution_count": 9,
     "metadata": {},
     "output_type": "execute_result"
    }
   ],
   "source": [
    "rand_matrix[3][3]"
   ]
  },
  {
   "cell_type": "code",
   "execution_count": null,
   "id": "c9c63641-46fb-44dc-919d-20ae875ed225",
   "metadata": {},
   "outputs": [],
   "source": []
  }
 ],
 "metadata": {
  "kernelspec": {
   "display_name": "Python 3 (ipykernel)",
   "language": "python",
   "name": "python3"
  },
  "language_info": {
   "codemirror_mode": {
    "name": "ipython",
    "version": 3
   },
   "file_extension": ".py",
   "mimetype": "text/x-python",
   "name": "python",
   "nbconvert_exporter": "python",
   "pygments_lexer": "ipython3",
   "version": "3.11.4"
  }
 },
 "nbformat": 4,
 "nbformat_minor": 5
}
