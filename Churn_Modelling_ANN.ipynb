{
 "cells": [
  {
   "cell_type": "code",
   "execution_count": 70,
   "id": "fc859ae1-838f-4bd5-a038-73feb578e975",
   "metadata": {},
   "outputs": [],
   "source": [
    "# import required libraries\n",
    "import pandas as pd\n",
    "import numpy as np\n",
    "import plotly.graph_objects as go\n",
    "import tensorflow\n",
    "from tensorflow import keras\n",
    "from keras import Sequential\n",
    "from keras.layers import Dense, Dropout\n",
    "from sklearn.preprocessing import StandardScaler, LabelEncoder\n",
    "from sklearn.model_selection import train_test_split\n",
    "from sklearn.metrics import accuracy_score\n",
    "from skimage import io\n",
    "import keras_tuner as kt"
   ]
  },
  {
   "cell_type": "code",
   "execution_count": 71,
   "id": "b5578cae-1566-4808-bc5f-d6ed057d7289",
   "metadata": {},
   "outputs": [
    {
     "data": {
      "text/html": [
       "<div>\n",
       "<style scoped>\n",
       "    .dataframe tbody tr th:only-of-type {\n",
       "        vertical-align: middle;\n",
       "    }\n",
       "\n",
       "    .dataframe tbody tr th {\n",
       "        vertical-align: top;\n",
       "    }\n",
       "\n",
       "    .dataframe thead th {\n",
       "        text-align: right;\n",
       "    }\n",
       "</style>\n",
       "<table border=\"1\" class=\"dataframe\">\n",
       "  <thead>\n",
       "    <tr style=\"text-align: right;\">\n",
       "      <th></th>\n",
       "      <th>RowNumber</th>\n",
       "      <th>CustomerId</th>\n",
       "      <th>Surname</th>\n",
       "      <th>CreditScore</th>\n",
       "      <th>Geography</th>\n",
       "      <th>Gender</th>\n",
       "      <th>Age</th>\n",
       "      <th>Tenure</th>\n",
       "      <th>Balance</th>\n",
       "      <th>NumOfProducts</th>\n",
       "      <th>HasCrCard</th>\n",
       "      <th>IsActiveMember</th>\n",
       "      <th>EstimatedSalary</th>\n",
       "      <th>Exited</th>\n",
       "    </tr>\n",
       "  </thead>\n",
       "  <tbody>\n",
       "    <tr>\n",
       "      <th>0</th>\n",
       "      <td>1</td>\n",
       "      <td>15634602</td>\n",
       "      <td>Hargrave</td>\n",
       "      <td>619</td>\n",
       "      <td>France</td>\n",
       "      <td>Female</td>\n",
       "      <td>42</td>\n",
       "      <td>2</td>\n",
       "      <td>0.00</td>\n",
       "      <td>1</td>\n",
       "      <td>1</td>\n",
       "      <td>1</td>\n",
       "      <td>101348.88</td>\n",
       "      <td>1</td>\n",
       "    </tr>\n",
       "    <tr>\n",
       "      <th>1</th>\n",
       "      <td>2</td>\n",
       "      <td>15647311</td>\n",
       "      <td>Hill</td>\n",
       "      <td>608</td>\n",
       "      <td>Spain</td>\n",
       "      <td>Female</td>\n",
       "      <td>41</td>\n",
       "      <td>1</td>\n",
       "      <td>83807.86</td>\n",
       "      <td>1</td>\n",
       "      <td>0</td>\n",
       "      <td>1</td>\n",
       "      <td>112542.58</td>\n",
       "      <td>0</td>\n",
       "    </tr>\n",
       "    <tr>\n",
       "      <th>2</th>\n",
       "      <td>3</td>\n",
       "      <td>15619304</td>\n",
       "      <td>Onio</td>\n",
       "      <td>502</td>\n",
       "      <td>France</td>\n",
       "      <td>Female</td>\n",
       "      <td>42</td>\n",
       "      <td>8</td>\n",
       "      <td>159660.80</td>\n",
       "      <td>3</td>\n",
       "      <td>1</td>\n",
       "      <td>0</td>\n",
       "      <td>113931.57</td>\n",
       "      <td>1</td>\n",
       "    </tr>\n",
       "    <tr>\n",
       "      <th>3</th>\n",
       "      <td>4</td>\n",
       "      <td>15701354</td>\n",
       "      <td>Boni</td>\n",
       "      <td>699</td>\n",
       "      <td>France</td>\n",
       "      <td>Female</td>\n",
       "      <td>39</td>\n",
       "      <td>1</td>\n",
       "      <td>0.00</td>\n",
       "      <td>2</td>\n",
       "      <td>0</td>\n",
       "      <td>0</td>\n",
       "      <td>93826.63</td>\n",
       "      <td>0</td>\n",
       "    </tr>\n",
       "    <tr>\n",
       "      <th>4</th>\n",
       "      <td>5</td>\n",
       "      <td>15737888</td>\n",
       "      <td>Mitchell</td>\n",
       "      <td>850</td>\n",
       "      <td>Spain</td>\n",
       "      <td>Female</td>\n",
       "      <td>43</td>\n",
       "      <td>2</td>\n",
       "      <td>125510.82</td>\n",
       "      <td>1</td>\n",
       "      <td>1</td>\n",
       "      <td>1</td>\n",
       "      <td>79084.10</td>\n",
       "      <td>0</td>\n",
       "    </tr>\n",
       "  </tbody>\n",
       "</table>\n",
       "</div>"
      ],
      "text/plain": [
       "   RowNumber  CustomerId   Surname  CreditScore Geography  Gender  Age  \\\n",
       "0          1    15634602  Hargrave          619    France  Female   42   \n",
       "1          2    15647311      Hill          608     Spain  Female   41   \n",
       "2          3    15619304      Onio          502    France  Female   42   \n",
       "3          4    15701354      Boni          699    France  Female   39   \n",
       "4          5    15737888  Mitchell          850     Spain  Female   43   \n",
       "\n",
       "   Tenure    Balance  NumOfProducts  HasCrCard  IsActiveMember  \\\n",
       "0       2       0.00              1          1               1   \n",
       "1       1   83807.86              1          0               1   \n",
       "2       8  159660.80              3          1               0   \n",
       "3       1       0.00              2          0               0   \n",
       "4       2  125510.82              1          1               1   \n",
       "\n",
       "   EstimatedSalary  Exited  \n",
       "0        101348.88       1  \n",
       "1        112542.58       0  \n",
       "2        113931.57       1  \n",
       "3         93826.63       0  \n",
       "4         79084.10       0  "
      ]
     },
     "execution_count": 71,
     "metadata": {},
     "output_type": "execute_result"
    }
   ],
   "source": [
    "# load and read dataset\n",
    "dataset = pd.read_csv(\"Churn_Modelling.xls\")\n",
    "dataset.head()"
   ]
  },
  {
   "cell_type": "code",
   "execution_count": 72,
   "id": "0244f51c-0ffa-471d-a321-0826954977e3",
   "metadata": {},
   "outputs": [
    {
     "data": {
      "text/plain": [
       "(10000, 14)"
      ]
     },
     "execution_count": 72,
     "metadata": {},
     "output_type": "execute_result"
    }
   ],
   "source": [
    "# find shape of dataset\n",
    "dataset.shape"
   ]
  },
  {
   "cell_type": "code",
   "execution_count": 73,
   "id": "4218b894-83ee-452e-a639-c27f9805876e",
   "metadata": {},
   "outputs": [
    {
     "data": {
      "text/plain": [
       "Index(['RowNumber', 'CustomerId', 'Surname', 'CreditScore', 'Geography',\n",
       "       'Gender', 'Age', 'Tenure', 'Balance', 'NumOfProducts', 'HasCrCard',\n",
       "       'IsActiveMember', 'EstimatedSalary', 'Exited'],\n",
       "      dtype='object')"
      ]
     },
     "execution_count": 73,
     "metadata": {},
     "output_type": "execute_result"
    }
   ],
   "source": [
    "# display all columns\n",
    "dataset.columns"
   ]
  },
  {
   "cell_type": "code",
   "execution_count": 74,
   "id": "633d654b-98a5-41be-a5f5-4bbe09a6b21a",
   "metadata": {},
   "outputs": [
    {
     "data": {
      "text/plain": [
       "RowNumber\n",
       "1        1\n",
       "6671     1\n",
       "6664     1\n",
       "6665     1\n",
       "6666     1\n",
       "        ..\n",
       "3334     1\n",
       "3335     1\n",
       "3336     1\n",
       "3337     1\n",
       "10000    1\n",
       "Name: count, Length: 10000, dtype: int64"
      ]
     },
     "execution_count": 74,
     "metadata": {},
     "output_type": "execute_result"
    }
   ],
   "source": [
    "# explore rownumber column\n",
    "dataset['RowNumber'].value_counts()"
   ]
  },
  {
   "cell_type": "code",
   "execution_count": 75,
   "id": "13930aa8-1109-4424-81fb-56e7048a5672",
   "metadata": {},
   "outputs": [
    {
     "data": {
      "text/html": [
       "<div>\n",
       "<style scoped>\n",
       "    .dataframe tbody tr th:only-of-type {\n",
       "        vertical-align: middle;\n",
       "    }\n",
       "\n",
       "    .dataframe tbody tr th {\n",
       "        vertical-align: top;\n",
       "    }\n",
       "\n",
       "    .dataframe thead th {\n",
       "        text-align: right;\n",
       "    }\n",
       "</style>\n",
       "<table border=\"1\" class=\"dataframe\">\n",
       "  <thead>\n",
       "    <tr style=\"text-align: right;\">\n",
       "      <th></th>\n",
       "      <th>CustomerId</th>\n",
       "      <th>Surname</th>\n",
       "      <th>CreditScore</th>\n",
       "      <th>Geography</th>\n",
       "      <th>Gender</th>\n",
       "      <th>Age</th>\n",
       "      <th>Tenure</th>\n",
       "      <th>Balance</th>\n",
       "      <th>NumOfProducts</th>\n",
       "      <th>HasCrCard</th>\n",
       "      <th>IsActiveMember</th>\n",
       "      <th>EstimatedSalary</th>\n",
       "      <th>Exited</th>\n",
       "    </tr>\n",
       "  </thead>\n",
       "  <tbody>\n",
       "    <tr>\n",
       "      <th>0</th>\n",
       "      <td>15634602</td>\n",
       "      <td>Hargrave</td>\n",
       "      <td>619</td>\n",
       "      <td>France</td>\n",
       "      <td>Female</td>\n",
       "      <td>42</td>\n",
       "      <td>2</td>\n",
       "      <td>0.00</td>\n",
       "      <td>1</td>\n",
       "      <td>1</td>\n",
       "      <td>1</td>\n",
       "      <td>101348.88</td>\n",
       "      <td>1</td>\n",
       "    </tr>\n",
       "    <tr>\n",
       "      <th>1</th>\n",
       "      <td>15647311</td>\n",
       "      <td>Hill</td>\n",
       "      <td>608</td>\n",
       "      <td>Spain</td>\n",
       "      <td>Female</td>\n",
       "      <td>41</td>\n",
       "      <td>1</td>\n",
       "      <td>83807.86</td>\n",
       "      <td>1</td>\n",
       "      <td>0</td>\n",
       "      <td>1</td>\n",
       "      <td>112542.58</td>\n",
       "      <td>0</td>\n",
       "    </tr>\n",
       "    <tr>\n",
       "      <th>2</th>\n",
       "      <td>15619304</td>\n",
       "      <td>Onio</td>\n",
       "      <td>502</td>\n",
       "      <td>France</td>\n",
       "      <td>Female</td>\n",
       "      <td>42</td>\n",
       "      <td>8</td>\n",
       "      <td>159660.80</td>\n",
       "      <td>3</td>\n",
       "      <td>1</td>\n",
       "      <td>0</td>\n",
       "      <td>113931.57</td>\n",
       "      <td>1</td>\n",
       "    </tr>\n",
       "    <tr>\n",
       "      <th>3</th>\n",
       "      <td>15701354</td>\n",
       "      <td>Boni</td>\n",
       "      <td>699</td>\n",
       "      <td>France</td>\n",
       "      <td>Female</td>\n",
       "      <td>39</td>\n",
       "      <td>1</td>\n",
       "      <td>0.00</td>\n",
       "      <td>2</td>\n",
       "      <td>0</td>\n",
       "      <td>0</td>\n",
       "      <td>93826.63</td>\n",
       "      <td>0</td>\n",
       "    </tr>\n",
       "    <tr>\n",
       "      <th>4</th>\n",
       "      <td>15737888</td>\n",
       "      <td>Mitchell</td>\n",
       "      <td>850</td>\n",
       "      <td>Spain</td>\n",
       "      <td>Female</td>\n",
       "      <td>43</td>\n",
       "      <td>2</td>\n",
       "      <td>125510.82</td>\n",
       "      <td>1</td>\n",
       "      <td>1</td>\n",
       "      <td>1</td>\n",
       "      <td>79084.10</td>\n",
       "      <td>0</td>\n",
       "    </tr>\n",
       "  </tbody>\n",
       "</table>\n",
       "</div>"
      ],
      "text/plain": [
       "   CustomerId   Surname  CreditScore Geography  Gender  Age  Tenure  \\\n",
       "0    15634602  Hargrave          619    France  Female   42       2   \n",
       "1    15647311      Hill          608     Spain  Female   41       1   \n",
       "2    15619304      Onio          502    France  Female   42       8   \n",
       "3    15701354      Boni          699    France  Female   39       1   \n",
       "4    15737888  Mitchell          850     Spain  Female   43       2   \n",
       "\n",
       "     Balance  NumOfProducts  HasCrCard  IsActiveMember  EstimatedSalary  \\\n",
       "0       0.00              1          1               1        101348.88   \n",
       "1   83807.86              1          0               1        112542.58   \n",
       "2  159660.80              3          1               0        113931.57   \n",
       "3       0.00              2          0               0         93826.63   \n",
       "4  125510.82              1          1               1         79084.10   \n",
       "\n",
       "   Exited  \n",
       "0       1  \n",
       "1       0  \n",
       "2       1  \n",
       "3       0  \n",
       "4       0  "
      ]
     },
     "execution_count": 75,
     "metadata": {},
     "output_type": "execute_result"
    }
   ],
   "source": [
    "# remove this column\n",
    "dataset = dataset.drop(['RowNumber'], axis = 1)\n",
    "dataset.head()"
   ]
  },
  {
   "cell_type": "code",
   "execution_count": 76,
   "id": "9b93a845-bd86-4209-997b-b811abb5ea1e",
   "metadata": {},
   "outputs": [
    {
     "data": {
      "text/html": [
       "<div>\n",
       "<style scoped>\n",
       "    .dataframe tbody tr th:only-of-type {\n",
       "        vertical-align: middle;\n",
       "    }\n",
       "\n",
       "    .dataframe tbody tr th {\n",
       "        vertical-align: top;\n",
       "    }\n",
       "\n",
       "    .dataframe thead th {\n",
       "        text-align: right;\n",
       "    }\n",
       "</style>\n",
       "<table border=\"1\" class=\"dataframe\">\n",
       "  <thead>\n",
       "    <tr style=\"text-align: right;\">\n",
       "      <th></th>\n",
       "      <th>CreditScore</th>\n",
       "      <th>Geography</th>\n",
       "      <th>Gender</th>\n",
       "      <th>Age</th>\n",
       "      <th>Tenure</th>\n",
       "      <th>Balance</th>\n",
       "      <th>NumOfProducts</th>\n",
       "      <th>HasCrCard</th>\n",
       "      <th>IsActiveMember</th>\n",
       "      <th>EstimatedSalary</th>\n",
       "      <th>Exited</th>\n",
       "    </tr>\n",
       "  </thead>\n",
       "  <tbody>\n",
       "    <tr>\n",
       "      <th>0</th>\n",
       "      <td>619</td>\n",
       "      <td>France</td>\n",
       "      <td>Female</td>\n",
       "      <td>42</td>\n",
       "      <td>2</td>\n",
       "      <td>0.00</td>\n",
       "      <td>1</td>\n",
       "      <td>1</td>\n",
       "      <td>1</td>\n",
       "      <td>101348.88</td>\n",
       "      <td>1</td>\n",
       "    </tr>\n",
       "    <tr>\n",
       "      <th>1</th>\n",
       "      <td>608</td>\n",
       "      <td>Spain</td>\n",
       "      <td>Female</td>\n",
       "      <td>41</td>\n",
       "      <td>1</td>\n",
       "      <td>83807.86</td>\n",
       "      <td>1</td>\n",
       "      <td>0</td>\n",
       "      <td>1</td>\n",
       "      <td>112542.58</td>\n",
       "      <td>0</td>\n",
       "    </tr>\n",
       "    <tr>\n",
       "      <th>2</th>\n",
       "      <td>502</td>\n",
       "      <td>France</td>\n",
       "      <td>Female</td>\n",
       "      <td>42</td>\n",
       "      <td>8</td>\n",
       "      <td>159660.80</td>\n",
       "      <td>3</td>\n",
       "      <td>1</td>\n",
       "      <td>0</td>\n",
       "      <td>113931.57</td>\n",
       "      <td>1</td>\n",
       "    </tr>\n",
       "    <tr>\n",
       "      <th>3</th>\n",
       "      <td>699</td>\n",
       "      <td>France</td>\n",
       "      <td>Female</td>\n",
       "      <td>39</td>\n",
       "      <td>1</td>\n",
       "      <td>0.00</td>\n",
       "      <td>2</td>\n",
       "      <td>0</td>\n",
       "      <td>0</td>\n",
       "      <td>93826.63</td>\n",
       "      <td>0</td>\n",
       "    </tr>\n",
       "    <tr>\n",
       "      <th>4</th>\n",
       "      <td>850</td>\n",
       "      <td>Spain</td>\n",
       "      <td>Female</td>\n",
       "      <td>43</td>\n",
       "      <td>2</td>\n",
       "      <td>125510.82</td>\n",
       "      <td>1</td>\n",
       "      <td>1</td>\n",
       "      <td>1</td>\n",
       "      <td>79084.10</td>\n",
       "      <td>0</td>\n",
       "    </tr>\n",
       "  </tbody>\n",
       "</table>\n",
       "</div>"
      ],
      "text/plain": [
       "   CreditScore Geography  Gender  Age  Tenure    Balance  NumOfProducts  \\\n",
       "0          619    France  Female   42       2       0.00              1   \n",
       "1          608     Spain  Female   41       1   83807.86              1   \n",
       "2          502    France  Female   42       8  159660.80              3   \n",
       "3          699    France  Female   39       1       0.00              2   \n",
       "4          850     Spain  Female   43       2  125510.82              1   \n",
       "\n",
       "   HasCrCard  IsActiveMember  EstimatedSalary  Exited  \n",
       "0          1               1        101348.88       1  \n",
       "1          0               1        112542.58       0  \n",
       "2          1               0        113931.57       1  \n",
       "3          0               0         93826.63       0  \n",
       "4          1               1         79084.10       0  "
      ]
     },
     "execution_count": 76,
     "metadata": {},
     "output_type": "execute_result"
    }
   ],
   "source": [
    "# i think i don't need customerid and surname\n",
    "dataset = dataset.drop(['CustomerId', 'Surname'], axis = 1)\n",
    "dataset.head()"
   ]
  },
  {
   "cell_type": "code",
   "execution_count": 77,
   "id": "527b9c43-cc4a-4b36-a956-a3073f57a5ce",
   "metadata": {},
   "outputs": [
    {
     "data": {
      "text/plain": [
       "CreditScore          int64\n",
       "Geography           object\n",
       "Gender              object\n",
       "Age                  int64\n",
       "Tenure               int64\n",
       "Balance            float64\n",
       "NumOfProducts        int64\n",
       "HasCrCard            int64\n",
       "IsActiveMember       int64\n",
       "EstimatedSalary    float64\n",
       "Exited               int64\n",
       "dtype: object"
      ]
     },
     "execution_count": 77,
     "metadata": {},
     "output_type": "execute_result"
    }
   ],
   "source": [
    "# now find data types of dataset\n",
    "dataset.dtypes"
   ]
  },
  {
   "cell_type": "code",
   "execution_count": 78,
   "id": "bccf79dd-0c2b-46c9-b0bb-0b9c22b4caad",
   "metadata": {},
   "outputs": [
    {
     "data": {
      "text/plain": [
       "Geography\n",
       "France     5014\n",
       "Germany    2509\n",
       "Spain      2477\n",
       "Name: count, dtype: int64"
      ]
     },
     "execution_count": 78,
     "metadata": {},
     "output_type": "execute_result"
    }
   ],
   "source": [
    "# so there are two categorical data types: Geography and Gender\n",
    "dataset['Geography'].value_counts()"
   ]
  },
  {
   "cell_type": "code",
   "execution_count": 79,
   "id": "f1f915a5-55fa-4119-aa48-fa8cbc75b170",
   "metadata": {},
   "outputs": [
    {
     "data": {
      "text/plain": [
       "Gender\n",
       "Male      5457\n",
       "Female    4543\n",
       "Name: count, dtype: int64"
      ]
     },
     "execution_count": 79,
     "metadata": {},
     "output_type": "execute_result"
    }
   ],
   "source": [
    "# now for gender\n",
    "dataset['Gender'].value_counts()"
   ]
  },
  {
   "cell_type": "code",
   "execution_count": 80,
   "id": "1c3cf174-133c-47cb-8501-20a72cf7b65b",
   "metadata": {},
   "outputs": [
    {
     "data": {
      "text/html": [
       "<div>\n",
       "<style scoped>\n",
       "    .dataframe tbody tr th:only-of-type {\n",
       "        vertical-align: middle;\n",
       "    }\n",
       "\n",
       "    .dataframe tbody tr th {\n",
       "        vertical-align: top;\n",
       "    }\n",
       "\n",
       "    .dataframe thead th {\n",
       "        text-align: right;\n",
       "    }\n",
       "</style>\n",
       "<table border=\"1\" class=\"dataframe\">\n",
       "  <thead>\n",
       "    <tr style=\"text-align: right;\">\n",
       "      <th></th>\n",
       "      <th>CreditScore</th>\n",
       "      <th>Geography</th>\n",
       "      <th>Gender</th>\n",
       "      <th>Age</th>\n",
       "      <th>Tenure</th>\n",
       "      <th>Balance</th>\n",
       "      <th>NumOfProducts</th>\n",
       "      <th>HasCrCard</th>\n",
       "      <th>IsActiveMember</th>\n",
       "      <th>EstimatedSalary</th>\n",
       "      <th>Exited</th>\n",
       "    </tr>\n",
       "  </thead>\n",
       "  <tbody>\n",
       "    <tr>\n",
       "      <th>0</th>\n",
       "      <td>619</td>\n",
       "      <td>France</td>\n",
       "      <td>0</td>\n",
       "      <td>42</td>\n",
       "      <td>2</td>\n",
       "      <td>0.00</td>\n",
       "      <td>1</td>\n",
       "      <td>1</td>\n",
       "      <td>1</td>\n",
       "      <td>101348.88</td>\n",
       "      <td>1</td>\n",
       "    </tr>\n",
       "    <tr>\n",
       "      <th>1</th>\n",
       "      <td>608</td>\n",
       "      <td>Spain</td>\n",
       "      <td>0</td>\n",
       "      <td>41</td>\n",
       "      <td>1</td>\n",
       "      <td>83807.86</td>\n",
       "      <td>1</td>\n",
       "      <td>0</td>\n",
       "      <td>1</td>\n",
       "      <td>112542.58</td>\n",
       "      <td>0</td>\n",
       "    </tr>\n",
       "    <tr>\n",
       "      <th>2</th>\n",
       "      <td>502</td>\n",
       "      <td>France</td>\n",
       "      <td>0</td>\n",
       "      <td>42</td>\n",
       "      <td>8</td>\n",
       "      <td>159660.80</td>\n",
       "      <td>3</td>\n",
       "      <td>1</td>\n",
       "      <td>0</td>\n",
       "      <td>113931.57</td>\n",
       "      <td>1</td>\n",
       "    </tr>\n",
       "    <tr>\n",
       "      <th>3</th>\n",
       "      <td>699</td>\n",
       "      <td>France</td>\n",
       "      <td>0</td>\n",
       "      <td>39</td>\n",
       "      <td>1</td>\n",
       "      <td>0.00</td>\n",
       "      <td>2</td>\n",
       "      <td>0</td>\n",
       "      <td>0</td>\n",
       "      <td>93826.63</td>\n",
       "      <td>0</td>\n",
       "    </tr>\n",
       "    <tr>\n",
       "      <th>4</th>\n",
       "      <td>850</td>\n",
       "      <td>Spain</td>\n",
       "      <td>0</td>\n",
       "      <td>43</td>\n",
       "      <td>2</td>\n",
       "      <td>125510.82</td>\n",
       "      <td>1</td>\n",
       "      <td>1</td>\n",
       "      <td>1</td>\n",
       "      <td>79084.10</td>\n",
       "      <td>0</td>\n",
       "    </tr>\n",
       "  </tbody>\n",
       "</table>\n",
       "</div>"
      ],
      "text/plain": [
       "   CreditScore Geography  Gender  Age  Tenure    Balance  NumOfProducts  \\\n",
       "0          619    France       0   42       2       0.00              1   \n",
       "1          608     Spain       0   41       1   83807.86              1   \n",
       "2          502    France       0   42       8  159660.80              3   \n",
       "3          699    France       0   39       1       0.00              2   \n",
       "4          850     Spain       0   43       2  125510.82              1   \n",
       "\n",
       "   HasCrCard  IsActiveMember  EstimatedSalary  Exited  \n",
       "0          1               1        101348.88       1  \n",
       "1          0               1        112542.58       0  \n",
       "2          1               0        113931.57       1  \n",
       "3          0               0         93826.63       0  \n",
       "4          1               1         79084.10       0  "
      ]
     },
     "execution_count": 80,
     "metadata": {},
     "output_type": "execute_result"
    }
   ],
   "source": [
    "# label encoder for gender as it has just two unique values\n",
    "label_encoder = LabelEncoder()\n",
    "\n",
    "dataset['Gender'] = label_encoder.fit_transform(dataset['Gender'])\n",
    "dataset.head()"
   ]
  },
  {
   "cell_type": "code",
   "execution_count": 81,
   "id": "afee997e-550c-430e-89b4-4909e72be3cc",
   "metadata": {},
   "outputs": [
    {
     "data": {
      "text/plain": [
       "Gender\n",
       "1    5457\n",
       "0    4543\n",
       "Name: count, dtype: int64"
      ]
     },
     "execution_count": 81,
     "metadata": {},
     "output_type": "execute_result"
    }
   ],
   "source": [
    "# now find unique values in gender\n",
    "dataset['Gender'].value_counts()"
   ]
  },
  {
   "cell_type": "code",
   "execution_count": 82,
   "id": "f3f4dd74-93c5-4157-ad31-82de91e47cb6",
   "metadata": {},
   "outputs": [
    {
     "data": {
      "text/html": [
       "<div>\n",
       "<style scoped>\n",
       "    .dataframe tbody tr th:only-of-type {\n",
       "        vertical-align: middle;\n",
       "    }\n",
       "\n",
       "    .dataframe tbody tr th {\n",
       "        vertical-align: top;\n",
       "    }\n",
       "\n",
       "    .dataframe thead th {\n",
       "        text-align: right;\n",
       "    }\n",
       "</style>\n",
       "<table border=\"1\" class=\"dataframe\">\n",
       "  <thead>\n",
       "    <tr style=\"text-align: right;\">\n",
       "      <th></th>\n",
       "      <th>CreditScore</th>\n",
       "      <th>Geography</th>\n",
       "      <th>Gender</th>\n",
       "      <th>Age</th>\n",
       "      <th>Tenure</th>\n",
       "      <th>Balance</th>\n",
       "      <th>NumOfProducts</th>\n",
       "      <th>HasCrCard</th>\n",
       "      <th>IsActiveMember</th>\n",
       "      <th>EstimatedSalary</th>\n",
       "      <th>Exited</th>\n",
       "    </tr>\n",
       "  </thead>\n",
       "  <tbody>\n",
       "    <tr>\n",
       "      <th>0</th>\n",
       "      <td>619</td>\n",
       "      <td>0</td>\n",
       "      <td>0</td>\n",
       "      <td>42</td>\n",
       "      <td>2</td>\n",
       "      <td>0.00</td>\n",
       "      <td>1</td>\n",
       "      <td>1</td>\n",
       "      <td>1</td>\n",
       "      <td>101348.88</td>\n",
       "      <td>1</td>\n",
       "    </tr>\n",
       "    <tr>\n",
       "      <th>1</th>\n",
       "      <td>608</td>\n",
       "      <td>2</td>\n",
       "      <td>0</td>\n",
       "      <td>41</td>\n",
       "      <td>1</td>\n",
       "      <td>83807.86</td>\n",
       "      <td>1</td>\n",
       "      <td>0</td>\n",
       "      <td>1</td>\n",
       "      <td>112542.58</td>\n",
       "      <td>0</td>\n",
       "    </tr>\n",
       "    <tr>\n",
       "      <th>2</th>\n",
       "      <td>502</td>\n",
       "      <td>0</td>\n",
       "      <td>0</td>\n",
       "      <td>42</td>\n",
       "      <td>8</td>\n",
       "      <td>159660.80</td>\n",
       "      <td>3</td>\n",
       "      <td>1</td>\n",
       "      <td>0</td>\n",
       "      <td>113931.57</td>\n",
       "      <td>1</td>\n",
       "    </tr>\n",
       "    <tr>\n",
       "      <th>3</th>\n",
       "      <td>699</td>\n",
       "      <td>0</td>\n",
       "      <td>0</td>\n",
       "      <td>39</td>\n",
       "      <td>1</td>\n",
       "      <td>0.00</td>\n",
       "      <td>2</td>\n",
       "      <td>0</td>\n",
       "      <td>0</td>\n",
       "      <td>93826.63</td>\n",
       "      <td>0</td>\n",
       "    </tr>\n",
       "    <tr>\n",
       "      <th>4</th>\n",
       "      <td>850</td>\n",
       "      <td>2</td>\n",
       "      <td>0</td>\n",
       "      <td>43</td>\n",
       "      <td>2</td>\n",
       "      <td>125510.82</td>\n",
       "      <td>1</td>\n",
       "      <td>1</td>\n",
       "      <td>1</td>\n",
       "      <td>79084.10</td>\n",
       "      <td>0</td>\n",
       "    </tr>\n",
       "  </tbody>\n",
       "</table>\n",
       "</div>"
      ],
      "text/plain": [
       "   CreditScore  Geography  Gender  Age  Tenure    Balance  NumOfProducts  \\\n",
       "0          619          0       0   42       2       0.00              1   \n",
       "1          608          2       0   41       1   83807.86              1   \n",
       "2          502          0       0   42       8  159660.80              3   \n",
       "3          699          0       0   39       1       0.00              2   \n",
       "4          850          2       0   43       2  125510.82              1   \n",
       "\n",
       "   HasCrCard  IsActiveMember  EstimatedSalary  Exited  \n",
       "0          1               1        101348.88       1  \n",
       "1          0               1        112542.58       0  \n",
       "2          1               0        113931.57       1  \n",
       "3          0               0         93826.63       0  \n",
       "4          1               1         79084.10       0  "
      ]
     },
     "execution_count": 82,
     "metadata": {},
     "output_type": "execute_result"
    }
   ],
   "source": [
    "# apply label encoder for geography as well\n",
    "dataset['Geography'] = label_encoder.fit_transform(dataset['Geography'])\n",
    "dataset.head()"
   ]
  },
  {
   "cell_type": "code",
   "execution_count": 83,
   "id": "68232f01-bc99-41f3-b768-838862b6c07a",
   "metadata": {},
   "outputs": [
    {
     "data": {
      "text/plain": [
       "Geography\n",
       "0    5014\n",
       "1    2509\n",
       "2    2477\n",
       "Name: count, dtype: int64"
      ]
     },
     "execution_count": 83,
     "metadata": {},
     "output_type": "execute_result"
    }
   ],
   "source": [
    "# find which values are assigned to which countries\n",
    "dataset['Geography'].value_counts()"
   ]
  },
  {
   "cell_type": "code",
   "execution_count": 84,
   "id": "1ca15428-a08c-42ee-9bc4-a210c4e60795",
   "metadata": {},
   "outputs": [
    {
     "data": {
      "text/plain": [
       "CreditScore          int64\n",
       "Geography            int32\n",
       "Gender               int32\n",
       "Age                  int64\n",
       "Tenure               int64\n",
       "Balance            float64\n",
       "NumOfProducts        int64\n",
       "HasCrCard            int64\n",
       "IsActiveMember       int64\n",
       "EstimatedSalary    float64\n",
       "Exited               int64\n",
       "dtype: object"
      ]
     },
     "execution_count": 84,
     "metadata": {},
     "output_type": "execute_result"
    }
   ],
   "source": [
    "# now find data types of all variables in dataset\n",
    "dataset.dtypes"
   ]
  },
  {
   "cell_type": "code",
   "execution_count": 85,
   "id": "a0164a5c-cfbc-426d-b1c7-a906ba167f23",
   "metadata": {},
   "outputs": [
    {
     "data": {
      "text/html": [
       "<div>\n",
       "<style scoped>\n",
       "    .dataframe tbody tr th:only-of-type {\n",
       "        vertical-align: middle;\n",
       "    }\n",
       "\n",
       "    .dataframe tbody tr th {\n",
       "        vertical-align: top;\n",
       "    }\n",
       "\n",
       "    .dataframe thead th {\n",
       "        text-align: right;\n",
       "    }\n",
       "</style>\n",
       "<table border=\"1\" class=\"dataframe\">\n",
       "  <thead>\n",
       "    <tr style=\"text-align: right;\">\n",
       "      <th></th>\n",
       "      <th>CreditScore</th>\n",
       "      <th>Geography</th>\n",
       "      <th>Gender</th>\n",
       "      <th>Age</th>\n",
       "      <th>Tenure</th>\n",
       "      <th>Balance</th>\n",
       "      <th>NumOfProducts</th>\n",
       "      <th>HasCrCard</th>\n",
       "      <th>IsActiveMember</th>\n",
       "      <th>EstimatedSalary</th>\n",
       "      <th>Exited</th>\n",
       "    </tr>\n",
       "  </thead>\n",
       "  <tbody>\n",
       "    <tr>\n",
       "      <th>count</th>\n",
       "      <td>10000.000000</td>\n",
       "      <td>10000.000000</td>\n",
       "      <td>10000.000000</td>\n",
       "      <td>10000.000000</td>\n",
       "      <td>10000.000000</td>\n",
       "      <td>10000.000000</td>\n",
       "      <td>10000.000000</td>\n",
       "      <td>10000.00000</td>\n",
       "      <td>10000.000000</td>\n",
       "      <td>10000.000000</td>\n",
       "      <td>10000.000000</td>\n",
       "    </tr>\n",
       "    <tr>\n",
       "      <th>mean</th>\n",
       "      <td>650.528800</td>\n",
       "      <td>0.746300</td>\n",
       "      <td>0.545700</td>\n",
       "      <td>38.921800</td>\n",
       "      <td>5.012800</td>\n",
       "      <td>76485.889288</td>\n",
       "      <td>1.530200</td>\n",
       "      <td>0.70550</td>\n",
       "      <td>0.515100</td>\n",
       "      <td>100090.239881</td>\n",
       "      <td>0.203700</td>\n",
       "    </tr>\n",
       "    <tr>\n",
       "      <th>std</th>\n",
       "      <td>96.653299</td>\n",
       "      <td>0.827529</td>\n",
       "      <td>0.497932</td>\n",
       "      <td>10.487806</td>\n",
       "      <td>2.892174</td>\n",
       "      <td>62397.405202</td>\n",
       "      <td>0.581654</td>\n",
       "      <td>0.45584</td>\n",
       "      <td>0.499797</td>\n",
       "      <td>57510.492818</td>\n",
       "      <td>0.402769</td>\n",
       "    </tr>\n",
       "    <tr>\n",
       "      <th>min</th>\n",
       "      <td>350.000000</td>\n",
       "      <td>0.000000</td>\n",
       "      <td>0.000000</td>\n",
       "      <td>18.000000</td>\n",
       "      <td>0.000000</td>\n",
       "      <td>0.000000</td>\n",
       "      <td>1.000000</td>\n",
       "      <td>0.00000</td>\n",
       "      <td>0.000000</td>\n",
       "      <td>11.580000</td>\n",
       "      <td>0.000000</td>\n",
       "    </tr>\n",
       "    <tr>\n",
       "      <th>25%</th>\n",
       "      <td>584.000000</td>\n",
       "      <td>0.000000</td>\n",
       "      <td>0.000000</td>\n",
       "      <td>32.000000</td>\n",
       "      <td>3.000000</td>\n",
       "      <td>0.000000</td>\n",
       "      <td>1.000000</td>\n",
       "      <td>0.00000</td>\n",
       "      <td>0.000000</td>\n",
       "      <td>51002.110000</td>\n",
       "      <td>0.000000</td>\n",
       "    </tr>\n",
       "    <tr>\n",
       "      <th>50%</th>\n",
       "      <td>652.000000</td>\n",
       "      <td>0.000000</td>\n",
       "      <td>1.000000</td>\n",
       "      <td>37.000000</td>\n",
       "      <td>5.000000</td>\n",
       "      <td>97198.540000</td>\n",
       "      <td>1.000000</td>\n",
       "      <td>1.00000</td>\n",
       "      <td>1.000000</td>\n",
       "      <td>100193.915000</td>\n",
       "      <td>0.000000</td>\n",
       "    </tr>\n",
       "    <tr>\n",
       "      <th>75%</th>\n",
       "      <td>718.000000</td>\n",
       "      <td>1.000000</td>\n",
       "      <td>1.000000</td>\n",
       "      <td>44.000000</td>\n",
       "      <td>7.000000</td>\n",
       "      <td>127644.240000</td>\n",
       "      <td>2.000000</td>\n",
       "      <td>1.00000</td>\n",
       "      <td>1.000000</td>\n",
       "      <td>149388.247500</td>\n",
       "      <td>0.000000</td>\n",
       "    </tr>\n",
       "    <tr>\n",
       "      <th>max</th>\n",
       "      <td>850.000000</td>\n",
       "      <td>2.000000</td>\n",
       "      <td>1.000000</td>\n",
       "      <td>92.000000</td>\n",
       "      <td>10.000000</td>\n",
       "      <td>250898.090000</td>\n",
       "      <td>4.000000</td>\n",
       "      <td>1.00000</td>\n",
       "      <td>1.000000</td>\n",
       "      <td>199992.480000</td>\n",
       "      <td>1.000000</td>\n",
       "    </tr>\n",
       "  </tbody>\n",
       "</table>\n",
       "</div>"
      ],
      "text/plain": [
       "        CreditScore     Geography        Gender           Age        Tenure  \\\n",
       "count  10000.000000  10000.000000  10000.000000  10000.000000  10000.000000   \n",
       "mean     650.528800      0.746300      0.545700     38.921800      5.012800   \n",
       "std       96.653299      0.827529      0.497932     10.487806      2.892174   \n",
       "min      350.000000      0.000000      0.000000     18.000000      0.000000   \n",
       "25%      584.000000      0.000000      0.000000     32.000000      3.000000   \n",
       "50%      652.000000      0.000000      1.000000     37.000000      5.000000   \n",
       "75%      718.000000      1.000000      1.000000     44.000000      7.000000   \n",
       "max      850.000000      2.000000      1.000000     92.000000     10.000000   \n",
       "\n",
       "             Balance  NumOfProducts    HasCrCard  IsActiveMember  \\\n",
       "count   10000.000000   10000.000000  10000.00000    10000.000000   \n",
       "mean    76485.889288       1.530200      0.70550        0.515100   \n",
       "std     62397.405202       0.581654      0.45584        0.499797   \n",
       "min         0.000000       1.000000      0.00000        0.000000   \n",
       "25%         0.000000       1.000000      0.00000        0.000000   \n",
       "50%     97198.540000       1.000000      1.00000        1.000000   \n",
       "75%    127644.240000       2.000000      1.00000        1.000000   \n",
       "max    250898.090000       4.000000      1.00000        1.000000   \n",
       "\n",
       "       EstimatedSalary        Exited  \n",
       "count     10000.000000  10000.000000  \n",
       "mean     100090.239881      0.203700  \n",
       "std       57510.492818      0.402769  \n",
       "min          11.580000      0.000000  \n",
       "25%       51002.110000      0.000000  \n",
       "50%      100193.915000      0.000000  \n",
       "75%      149388.247500      0.000000  \n",
       "max      199992.480000      1.000000  "
      ]
     },
     "execution_count": 85,
     "metadata": {},
     "output_type": "execute_result"
    }
   ],
   "source": [
    "# find description\n",
    "dataset.describe()"
   ]
  },
  {
   "cell_type": "code",
   "execution_count": 86,
   "id": "59516dff-12aa-44da-b14c-9f45f988f60d",
   "metadata": {},
   "outputs": [
    {
     "name": "stdout",
     "output_type": "stream",
     "text": [
      "<class 'pandas.core.frame.DataFrame'>\n",
      "RangeIndex: 10000 entries, 0 to 9999\n",
      "Data columns (total 11 columns):\n",
      " #   Column           Non-Null Count  Dtype  \n",
      "---  ------           --------------  -----  \n",
      " 0   CreditScore      10000 non-null  int64  \n",
      " 1   Geography        10000 non-null  int32  \n",
      " 2   Gender           10000 non-null  int32  \n",
      " 3   Age              10000 non-null  int64  \n",
      " 4   Tenure           10000 non-null  int64  \n",
      " 5   Balance          10000 non-null  float64\n",
      " 6   NumOfProducts    10000 non-null  int64  \n",
      " 7   HasCrCard        10000 non-null  int64  \n",
      " 8   IsActiveMember   10000 non-null  int64  \n",
      " 9   EstimatedSalary  10000 non-null  float64\n",
      " 10  Exited           10000 non-null  int64  \n",
      "dtypes: float64(2), int32(2), int64(7)\n",
      "memory usage: 781.4 KB\n"
     ]
    }
   ],
   "source": [
    "# find further info\n",
    "dataset.info()"
   ]
  },
  {
   "cell_type": "code",
   "execution_count": 87,
   "id": "9a4b258e-c3c7-48af-9ecf-89835641b17d",
   "metadata": {},
   "outputs": [
    {
     "data": {
      "text/plain": [
       "Exited\n",
       "0    7963\n",
       "1    2037\n",
       "Name: count, dtype: int64"
      ]
     },
     "execution_count": 87,
     "metadata": {},
     "output_type": "execute_result"
    }
   ],
   "source": [
    "# target variable\n",
    "dataset['Exited'].value_counts()"
   ]
  },
  {
   "cell_type": "code",
   "execution_count": 88,
   "id": "c58d8a9e-936a-44a9-abe9-a47eed9fe828",
   "metadata": {},
   "outputs": [
    {
     "data": {
      "text/plain": [
       "array([7963, 2037], dtype=int64)"
      ]
     },
     "execution_count": 88,
     "metadata": {},
     "output_type": "execute_result"
    }
   ],
   "source": [
    "# target variable\n",
    "vals = dataset['Exited'].value_counts().values\n",
    "vals"
   ]
  },
  {
   "cell_type": "code",
   "execution_count": 89,
   "id": "75b56ff4-6bcd-4bc8-8b64-feb9f410c8f5",
   "metadata": {},
   "outputs": [
    {
     "data": {
      "text/plain": [
       "Index([0, 1], dtype='int64', name='Exited')"
      ]
     },
     "execution_count": 89,
     "metadata": {},
     "output_type": "execute_result"
    }
   ],
   "source": [
    "# target index\n",
    "indx = dataset['Exited'].value_counts().index\n",
    "indx"
   ]
  },
  {
   "cell_type": "code",
   "execution_count": 90,
   "id": "4c155d14-7d15-4ee1-ae2b-f5438bf45309",
   "metadata": {},
   "outputs": [
    {
     "data": {
      "application/vnd.plotly.v1+json": {
       "config": {
        "plotlyServerURL": "https://plot.ly"
       },
       "data": [
        {
         "marker": {
          "color": [
           "#1abc9c",
           "#f4d03f"
          ]
         },
         "text": [
          "Stayed",
          "Left"
         ],
         "type": "bar",
         "width": 0.4,
         "x": [
          0,
          1
         ],
         "y": [
          7963,
          2037
         ]
        }
       ],
       "layout": {
        "autosize": true,
        "template": {
         "data": {
          "bar": [
           {
            "error_x": {
             "color": "#2a3f5f"
            },
            "error_y": {
             "color": "#2a3f5f"
            },
            "marker": {
             "line": {
              "color": "#E5ECF6",
              "width": 0.5
             },
             "pattern": {
              "fillmode": "overlay",
              "size": 10,
              "solidity": 0.2
             }
            },
            "type": "bar"
           }
          ],
          "barpolar": [
           {
            "marker": {
             "line": {
              "color": "#E5ECF6",
              "width": 0.5
             },
             "pattern": {
              "fillmode": "overlay",
              "size": 10,
              "solidity": 0.2
             }
            },
            "type": "barpolar"
           }
          ],
          "carpet": [
           {
            "aaxis": {
             "endlinecolor": "#2a3f5f",
             "gridcolor": "white",
             "linecolor": "white",
             "minorgridcolor": "white",
             "startlinecolor": "#2a3f5f"
            },
            "baxis": {
             "endlinecolor": "#2a3f5f",
             "gridcolor": "white",
             "linecolor": "white",
             "minorgridcolor": "white",
             "startlinecolor": "#2a3f5f"
            },
            "type": "carpet"
           }
          ],
          "choropleth": [
           {
            "colorbar": {
             "outlinewidth": 0,
             "ticks": ""
            },
            "type": "choropleth"
           }
          ],
          "contour": [
           {
            "colorbar": {
             "outlinewidth": 0,
             "ticks": ""
            },
            "colorscale": [
             [
              0,
              "#0d0887"
             ],
             [
              0.1111111111111111,
              "#46039f"
             ],
             [
              0.2222222222222222,
              "#7201a8"
             ],
             [
              0.3333333333333333,
              "#9c179e"
             ],
             [
              0.4444444444444444,
              "#bd3786"
             ],
             [
              0.5555555555555556,
              "#d8576b"
             ],
             [
              0.6666666666666666,
              "#ed7953"
             ],
             [
              0.7777777777777778,
              "#fb9f3a"
             ],
             [
              0.8888888888888888,
              "#fdca26"
             ],
             [
              1,
              "#f0f921"
             ]
            ],
            "type": "contour"
           }
          ],
          "contourcarpet": [
           {
            "colorbar": {
             "outlinewidth": 0,
             "ticks": ""
            },
            "type": "contourcarpet"
           }
          ],
          "heatmap": [
           {
            "colorbar": {
             "outlinewidth": 0,
             "ticks": ""
            },
            "colorscale": [
             [
              0,
              "#0d0887"
             ],
             [
              0.1111111111111111,
              "#46039f"
             ],
             [
              0.2222222222222222,
              "#7201a8"
             ],
             [
              0.3333333333333333,
              "#9c179e"
             ],
             [
              0.4444444444444444,
              "#bd3786"
             ],
             [
              0.5555555555555556,
              "#d8576b"
             ],
             [
              0.6666666666666666,
              "#ed7953"
             ],
             [
              0.7777777777777778,
              "#fb9f3a"
             ],
             [
              0.8888888888888888,
              "#fdca26"
             ],
             [
              1,
              "#f0f921"
             ]
            ],
            "type": "heatmap"
           }
          ],
          "heatmapgl": [
           {
            "colorbar": {
             "outlinewidth": 0,
             "ticks": ""
            },
            "colorscale": [
             [
              0,
              "#0d0887"
             ],
             [
              0.1111111111111111,
              "#46039f"
             ],
             [
              0.2222222222222222,
              "#7201a8"
             ],
             [
              0.3333333333333333,
              "#9c179e"
             ],
             [
              0.4444444444444444,
              "#bd3786"
             ],
             [
              0.5555555555555556,
              "#d8576b"
             ],
             [
              0.6666666666666666,
              "#ed7953"
             ],
             [
              0.7777777777777778,
              "#fb9f3a"
             ],
             [
              0.8888888888888888,
              "#fdca26"
             ],
             [
              1,
              "#f0f921"
             ]
            ],
            "type": "heatmapgl"
           }
          ],
          "histogram": [
           {
            "marker": {
             "pattern": {
              "fillmode": "overlay",
              "size": 10,
              "solidity": 0.2
             }
            },
            "type": "histogram"
           }
          ],
          "histogram2d": [
           {
            "colorbar": {
             "outlinewidth": 0,
             "ticks": ""
            },
            "colorscale": [
             [
              0,
              "#0d0887"
             ],
             [
              0.1111111111111111,
              "#46039f"
             ],
             [
              0.2222222222222222,
              "#7201a8"
             ],
             [
              0.3333333333333333,
              "#9c179e"
             ],
             [
              0.4444444444444444,
              "#bd3786"
             ],
             [
              0.5555555555555556,
              "#d8576b"
             ],
             [
              0.6666666666666666,
              "#ed7953"
             ],
             [
              0.7777777777777778,
              "#fb9f3a"
             ],
             [
              0.8888888888888888,
              "#fdca26"
             ],
             [
              1,
              "#f0f921"
             ]
            ],
            "type": "histogram2d"
           }
          ],
          "histogram2dcontour": [
           {
            "colorbar": {
             "outlinewidth": 0,
             "ticks": ""
            },
            "colorscale": [
             [
              0,
              "#0d0887"
             ],
             [
              0.1111111111111111,
              "#46039f"
             ],
             [
              0.2222222222222222,
              "#7201a8"
             ],
             [
              0.3333333333333333,
              "#9c179e"
             ],
             [
              0.4444444444444444,
              "#bd3786"
             ],
             [
              0.5555555555555556,
              "#d8576b"
             ],
             [
              0.6666666666666666,
              "#ed7953"
             ],
             [
              0.7777777777777778,
              "#fb9f3a"
             ],
             [
              0.8888888888888888,
              "#fdca26"
             ],
             [
              1,
              "#f0f921"
             ]
            ],
            "type": "histogram2dcontour"
           }
          ],
          "mesh3d": [
           {
            "colorbar": {
             "outlinewidth": 0,
             "ticks": ""
            },
            "type": "mesh3d"
           }
          ],
          "parcoords": [
           {
            "line": {
             "colorbar": {
              "outlinewidth": 0,
              "ticks": ""
             }
            },
            "type": "parcoords"
           }
          ],
          "pie": [
           {
            "automargin": true,
            "type": "pie"
           }
          ],
          "scatter": [
           {
            "fillpattern": {
             "fillmode": "overlay",
             "size": 10,
             "solidity": 0.2
            },
            "type": "scatter"
           }
          ],
          "scatter3d": [
           {
            "line": {
             "colorbar": {
              "outlinewidth": 0,
              "ticks": ""
             }
            },
            "marker": {
             "colorbar": {
              "outlinewidth": 0,
              "ticks": ""
             }
            },
            "type": "scatter3d"
           }
          ],
          "scattercarpet": [
           {
            "marker": {
             "colorbar": {
              "outlinewidth": 0,
              "ticks": ""
             }
            },
            "type": "scattercarpet"
           }
          ],
          "scattergeo": [
           {
            "marker": {
             "colorbar": {
              "outlinewidth": 0,
              "ticks": ""
             }
            },
            "type": "scattergeo"
           }
          ],
          "scattergl": [
           {
            "marker": {
             "colorbar": {
              "outlinewidth": 0,
              "ticks": ""
             }
            },
            "type": "scattergl"
           }
          ],
          "scattermapbox": [
           {
            "marker": {
             "colorbar": {
              "outlinewidth": 0,
              "ticks": ""
             }
            },
            "type": "scattermapbox"
           }
          ],
          "scatterpolar": [
           {
            "marker": {
             "colorbar": {
              "outlinewidth": 0,
              "ticks": ""
             }
            },
            "type": "scatterpolar"
           }
          ],
          "scatterpolargl": [
           {
            "marker": {
             "colorbar": {
              "outlinewidth": 0,
              "ticks": ""
             }
            },
            "type": "scatterpolargl"
           }
          ],
          "scatterternary": [
           {
            "marker": {
             "colorbar": {
              "outlinewidth": 0,
              "ticks": ""
             }
            },
            "type": "scatterternary"
           }
          ],
          "surface": [
           {
            "colorbar": {
             "outlinewidth": 0,
             "ticks": ""
            },
            "colorscale": [
             [
              0,
              "#0d0887"
             ],
             [
              0.1111111111111111,
              "#46039f"
             ],
             [
              0.2222222222222222,
              "#7201a8"
             ],
             [
              0.3333333333333333,
              "#9c179e"
             ],
             [
              0.4444444444444444,
              "#bd3786"
             ],
             [
              0.5555555555555556,
              "#d8576b"
             ],
             [
              0.6666666666666666,
              "#ed7953"
             ],
             [
              0.7777777777777778,
              "#fb9f3a"
             ],
             [
              0.8888888888888888,
              "#fdca26"
             ],
             [
              1,
              "#f0f921"
             ]
            ],
            "type": "surface"
           }
          ],
          "table": [
           {
            "cells": {
             "fill": {
              "color": "#EBF0F8"
             },
             "line": {
              "color": "white"
             }
            },
            "header": {
             "fill": {
              "color": "#C8D4E3"
             },
             "line": {
              "color": "white"
             }
            },
            "type": "table"
           }
          ]
         },
         "layout": {
          "annotationdefaults": {
           "arrowcolor": "#2a3f5f",
           "arrowhead": 0,
           "arrowwidth": 1
          },
          "autotypenumbers": "strict",
          "coloraxis": {
           "colorbar": {
            "outlinewidth": 0,
            "ticks": ""
           }
          },
          "colorscale": {
           "diverging": [
            [
             0,
             "#8e0152"
            ],
            [
             0.1,
             "#c51b7d"
            ],
            [
             0.2,
             "#de77ae"
            ],
            [
             0.3,
             "#f1b6da"
            ],
            [
             0.4,
             "#fde0ef"
            ],
            [
             0.5,
             "#f7f7f7"
            ],
            [
             0.6,
             "#e6f5d0"
            ],
            [
             0.7,
             "#b8e186"
            ],
            [
             0.8,
             "#7fbc41"
            ],
            [
             0.9,
             "#4d9221"
            ],
            [
             1,
             "#276419"
            ]
           ],
           "sequential": [
            [
             0,
             "#0d0887"
            ],
            [
             0.1111111111111111,
             "#46039f"
            ],
            [
             0.2222222222222222,
             "#7201a8"
            ],
            [
             0.3333333333333333,
             "#9c179e"
            ],
            [
             0.4444444444444444,
             "#bd3786"
            ],
            [
             0.5555555555555556,
             "#d8576b"
            ],
            [
             0.6666666666666666,
             "#ed7953"
            ],
            [
             0.7777777777777778,
             "#fb9f3a"
            ],
            [
             0.8888888888888888,
             "#fdca26"
            ],
            [
             1,
             "#f0f921"
            ]
           ],
           "sequentialminus": [
            [
             0,
             "#0d0887"
            ],
            [
             0.1111111111111111,
             "#46039f"
            ],
            [
             0.2222222222222222,
             "#7201a8"
            ],
            [
             0.3333333333333333,
             "#9c179e"
            ],
            [
             0.4444444444444444,
             "#bd3786"
            ],
            [
             0.5555555555555556,
             "#d8576b"
            ],
            [
             0.6666666666666666,
             "#ed7953"
            ],
            [
             0.7777777777777778,
             "#fb9f3a"
            ],
            [
             0.8888888888888888,
             "#fdca26"
            ],
            [
             1,
             "#f0f921"
            ]
           ]
          },
          "colorway": [
           "#636efa",
           "#EF553B",
           "#00cc96",
           "#ab63fa",
           "#FFA15A",
           "#19d3f3",
           "#FF6692",
           "#B6E880",
           "#FF97FF",
           "#FECB52"
          ],
          "font": {
           "color": "#2a3f5f"
          },
          "geo": {
           "bgcolor": "white",
           "lakecolor": "white",
           "landcolor": "#E5ECF6",
           "showlakes": true,
           "showland": true,
           "subunitcolor": "white"
          },
          "hoverlabel": {
           "align": "left"
          },
          "hovermode": "closest",
          "mapbox": {
           "style": "light"
          },
          "paper_bgcolor": "white",
          "plot_bgcolor": "#E5ECF6",
          "polar": {
           "angularaxis": {
            "gridcolor": "white",
            "linecolor": "white",
            "ticks": ""
           },
           "bgcolor": "#E5ECF6",
           "radialaxis": {
            "gridcolor": "white",
            "linecolor": "white",
            "ticks": ""
           }
          },
          "scene": {
           "xaxis": {
            "backgroundcolor": "#E5ECF6",
            "gridcolor": "white",
            "gridwidth": 2,
            "linecolor": "white",
            "showbackground": true,
            "ticks": "",
            "zerolinecolor": "white"
           },
           "yaxis": {
            "backgroundcolor": "#E5ECF6",
            "gridcolor": "white",
            "gridwidth": 2,
            "linecolor": "white",
            "showbackground": true,
            "ticks": "",
            "zerolinecolor": "white"
           },
           "zaxis": {
            "backgroundcolor": "#E5ECF6",
            "gridcolor": "white",
            "gridwidth": 2,
            "linecolor": "white",
            "showbackground": true,
            "ticks": "",
            "zerolinecolor": "white"
           }
          },
          "shapedefaults": {
           "line": {
            "color": "#2a3f5f"
           }
          },
          "ternary": {
           "aaxis": {
            "gridcolor": "white",
            "linecolor": "white",
            "ticks": ""
           },
           "baxis": {
            "gridcolor": "white",
            "linecolor": "white",
            "ticks": ""
           },
           "bgcolor": "#E5ECF6",
           "caxis": {
            "gridcolor": "white",
            "linecolor": "white",
            "ticks": ""
           }
          },
          "title": {
           "x": 0.05
          },
          "xaxis": {
           "automargin": true,
           "gridcolor": "white",
           "linecolor": "white",
           "ticks": "",
           "title": {
            "standoff": 15
           },
           "zerolinecolor": "white",
           "zerolinewidth": 2
          },
          "yaxis": {
           "automargin": true,
           "gridcolor": "white",
           "linecolor": "white",
           "ticks": "",
           "title": {
            "standoff": 15
           },
           "zerolinecolor": "white",
           "zerolinewidth": 2
          }
         }
        },
        "title": {
         "text": "Customers Left or Stayed"
        },
        "xaxis": {
         "autorange": true,
         "range": [
          -0.5,
          1.5
         ],
         "title": {
          "text": "Labels"
         },
         "type": "linear"
        },
        "yaxis": {
         "autorange": true,
         "range": [
          0,
          8382.105263157895
         ],
         "title": {
          "text": "Number of Customers"
         },
         "type": "linear"
        }
       }
      },
      "image/png": "[encoded data removed]",
      "text/html": [
       "<div>                            <div id=\"25be2a17-27f4-4b0c-a4d0-c38da9f2361a\" class=\"plotly-graph-div\" style=\"height:500px; width:100%;\"></div>            <script type=\"text/javascript\">                require([\"plotly\"], function(Plotly) {                    window.PLOTLYENV=window.PLOTLYENV || {};                                    if (document.getElementById(\"25be2a17-27f4-4b0c-a4d0-c38da9f2361a\")) {                    Plotly.newPlot(                        \"25be2a17-27f4-4b0c-a4d0-c38da9f2361a\",                        [{\"marker\":{\"color\":[\"#1abc9c\",\"#f4d03f\"]},\"text\":[\"Stayed\",\"Left\"],\"width\":0.4,\"x\":[0,1],\"y\":[7963,2037],\"type\":\"bar\"}],                        {\"template\":{\"data\":{\"histogram2dcontour\":[{\"type\":\"histogram2dcontour\",\"colorbar\":{\"outlinewidth\":0,\"ticks\":\"\"},\"colorscale\":[[0.0,\"#0d0887\"],[0.1111111111111111,\"#46039f\"],[0.2222222222222222,\"#7201a8\"],[0.3333333333333333,\"#9c179e\"],[0.4444444444444444,\"#bd3786\"],[0.5555555555555556,\"#d8576b\"],[0.6666666666666666,\"#ed7953\"],[0.7777777777777778,\"#fb9f3a\"],[0.8888888888888888,\"#fdca26\"],[1.0,\"#f0f921\"]]}],\"choropleth\":[{\"type\":\"choropleth\",\"colorbar\":{\"outlinewidth\":0,\"ticks\":\"\"}}],\"histogram2d\":[{\"type\":\"histogram2d\",\"colorbar\":{\"outlinewidth\":0,\"ticks\":\"\"},\"colorscale\":[[0.0,\"#0d0887\"],[0.1111111111111111,\"#46039f\"],[0.2222222222222222,\"#7201a8\"],[0.3333333333333333,\"#9c179e\"],[0.4444444444444444,\"#bd3786\"],[0.5555555555555556,\"#d8576b\"],[0.6666666666666666,\"#ed7953\"],[0.7777777777777778,\"#fb9f3a\"],[0.8888888888888888,\"#fdca26\"],[1.0,\"#f0f921\"]]}],\"heatmap\":[{\"type\":\"heatmap\",\"colorbar\":{\"outlinewidth\":0,\"ticks\":\"\"},\"colorscale\":[[0.0,\"#0d0887\"],[0.1111111111111111,\"#46039f\"],[0.2222222222222222,\"#7201a8\"],[0.3333333333333333,\"#9c179e\"],[0.4444444444444444,\"#bd3786\"],[0.5555555555555556,\"#d8576b\"],[0.6666666666666666,\"#ed7953\"],[0.7777777777777778,\"#fb9f3a\"],[0.8888888888888888,\"#fdca26\"],[1.0,\"#f0f921\"]]}],\"heatmapgl\":[{\"type\":\"heatmapgl\",\"colorbar\":{\"outlinewidth\":0,\"ticks\":\"\"},\"colorscale\":[[0.0,\"#0d0887\"],[0.1111111111111111,\"#46039f\"],[0.2222222222222222,\"#7201a8\"],[0.3333333333333333,\"#9c179e\"],[0.4444444444444444,\"#bd3786\"],[0.5555555555555556,\"#d8576b\"],[0.6666666666666666,\"#ed7953\"],[0.7777777777777778,\"#fb9f3a\"],[0.8888888888888888,\"#fdca26\"],[1.0,\"#f0f921\"]]}],\"contourcarpet\":[{\"type\":\"contourcarpet\",\"colorbar\":{\"outlinewidth\":0,\"ticks\":\"\"}}],\"contour\":[{\"type\":\"contour\",\"colorbar\":{\"outlinewidth\":0,\"ticks\":\"\"},\"colorscale\":[[0.0,\"#0d0887\"],[0.1111111111111111,\"#46039f\"],[0.2222222222222222,\"#7201a8\"],[0.3333333333333333,\"#9c179e\"],[0.4444444444444444,\"#bd3786\"],[0.5555555555555556,\"#d8576b\"],[0.6666666666666666,\"#ed7953\"],[0.7777777777777778,\"#fb9f3a\"],[0.8888888888888888,\"#fdca26\"],[1.0,\"#f0f921\"]]}],\"surface\":[{\"type\":\"surface\",\"colorbar\":{\"outlinewidth\":0,\"ticks\":\"\"},\"colorscale\":[[0.0,\"#0d0887\"],[0.1111111111111111,\"#46039f\"],[0.2222222222222222,\"#7201a8\"],[0.3333333333333333,\"#9c179e\"],[0.4444444444444444,\"#bd3786\"],[0.5555555555555556,\"#d8576b\"],[0.6666666666666666,\"#ed7953\"],[0.7777777777777778,\"#fb9f3a\"],[0.8888888888888888,\"#fdca26\"],[1.0,\"#f0f921\"]]}],\"mesh3d\":[{\"type\":\"mesh3d\",\"colorbar\":{\"outlinewidth\":0,\"ticks\":\"\"}}],\"scatter\":[{\"fillpattern\":{\"fillmode\":\"overlay\",\"size\":10,\"solidity\":0.2},\"type\":\"scatter\"}],\"parcoords\":[{\"type\":\"parcoords\",\"line\":{\"colorbar\":{\"outlinewidth\":0,\"ticks\":\"\"}}}],\"scatterpolargl\":[{\"type\":\"scatterpolargl\",\"marker\":{\"colorbar\":{\"outlinewidth\":0,\"ticks\":\"\"}}}],\"bar\":[{\"error_x\":{\"color\":\"#2a3f5f\"},\"error_y\":{\"color\":\"#2a3f5f\"},\"marker\":{\"line\":{\"color\":\"#E5ECF6\",\"width\":0.5},\"pattern\":{\"fillmode\":\"overlay\",\"size\":10,\"solidity\":0.2}},\"type\":\"bar\"}],\"scattergeo\":[{\"type\":\"scattergeo\",\"marker\":{\"colorbar\":{\"outlinewidth\":0,\"ticks\":\"\"}}}],\"scatterpolar\":[{\"type\":\"scatterpolar\",\"marker\":{\"colorbar\":{\"outlinewidth\":0,\"ticks\":\"\"}}}],\"histogram\":[{\"marker\":{\"pattern\":{\"fillmode\":\"overlay\",\"size\":10,\"solidity\":0.2}},\"type\":\"histogram\"}],\"scattergl\":[{\"type\":\"scattergl\",\"marker\":{\"colorbar\":{\"outlinewidth\":0,\"ticks\":\"\"}}}],\"scatter3d\":[{\"type\":\"scatter3d\",\"line\":{\"colorbar\":{\"outlinewidth\":0,\"ticks\":\"\"}},\"marker\":{\"colorbar\":{\"outlinewidth\":0,\"ticks\":\"\"}}}],\"scattermapbox\":[{\"type\":\"scattermapbox\",\"marker\":{\"colorbar\":{\"outlinewidth\":0,\"ticks\":\"\"}}}],\"scatterternary\":[{\"type\":\"scatterternary\",\"marker\":{\"colorbar\":{\"outlinewidth\":0,\"ticks\":\"\"}}}],\"scattercarpet\":[{\"type\":\"scattercarpet\",\"marker\":{\"colorbar\":{\"outlinewidth\":0,\"ticks\":\"\"}}}],\"carpet\":[{\"aaxis\":{\"endlinecolor\":\"#2a3f5f\",\"gridcolor\":\"white\",\"linecolor\":\"white\",\"minorgridcolor\":\"white\",\"startlinecolor\":\"#2a3f5f\"},\"baxis\":{\"endlinecolor\":\"#2a3f5f\",\"gridcolor\":\"white\",\"linecolor\":\"white\",\"minorgridcolor\":\"white\",\"startlinecolor\":\"#2a3f5f\"},\"type\":\"carpet\"}],\"table\":[{\"cells\":{\"fill\":{\"color\":\"#EBF0F8\"},\"line\":{\"color\":\"white\"}},\"header\":{\"fill\":{\"color\":\"#C8D4E3\"},\"line\":{\"color\":\"white\"}},\"type\":\"table\"}],\"barpolar\":[{\"marker\":{\"line\":{\"color\":\"#E5ECF6\",\"width\":0.5},\"pattern\":{\"fillmode\":\"overlay\",\"size\":10,\"solidity\":0.2}},\"type\":\"barpolar\"}],\"pie\":[{\"automargin\":true,\"type\":\"pie\"}]},\"layout\":{\"autotypenumbers\":\"strict\",\"colorway\":[\"#636efa\",\"#EF553B\",\"#00cc96\",\"#ab63fa\",\"#FFA15A\",\"#19d3f3\",\"#FF6692\",\"#B6E880\",\"#FF97FF\",\"#FECB52\"],\"font\":{\"color\":\"#2a3f5f\"},\"hovermode\":\"closest\",\"hoverlabel\":{\"align\":\"left\"},\"paper_bgcolor\":\"white\",\"plot_bgcolor\":\"#E5ECF6\",\"polar\":{\"bgcolor\":\"#E5ECF6\",\"angularaxis\":{\"gridcolor\":\"white\",\"linecolor\":\"white\",\"ticks\":\"\"},\"radialaxis\":{\"gridcolor\":\"white\",\"linecolor\":\"white\",\"ticks\":\"\"}},\"ternary\":{\"bgcolor\":\"#E5ECF6\",\"aaxis\":{\"gridcolor\":\"white\",\"linecolor\":\"white\",\"ticks\":\"\"},\"baxis\":{\"gridcolor\":\"white\",\"linecolor\":\"white\",\"ticks\":\"\"},\"caxis\":{\"gridcolor\":\"white\",\"linecolor\":\"white\",\"ticks\":\"\"}},\"coloraxis\":{\"colorbar\":{\"outlinewidth\":0,\"ticks\":\"\"}},\"colorscale\":{\"sequential\":[[0.0,\"#0d0887\"],[0.1111111111111111,\"#46039f\"],[0.2222222222222222,\"#7201a8\"],[0.3333333333333333,\"#9c179e\"],[0.4444444444444444,\"#bd3786\"],[0.5555555555555556,\"#d8576b\"],[0.6666666666666666,\"#ed7953\"],[0.7777777777777778,\"#fb9f3a\"],[0.8888888888888888,\"#fdca26\"],[1.0,\"#f0f921\"]],\"sequentialminus\":[[0.0,\"#0d0887\"],[0.1111111111111111,\"#46039f\"],[0.2222222222222222,\"#7201a8\"],[0.3333333333333333,\"#9c179e\"],[0.4444444444444444,\"#bd3786\"],[0.5555555555555556,\"#d8576b\"],[0.6666666666666666,\"#ed7953\"],[0.7777777777777778,\"#fb9f3a\"],[0.8888888888888888,\"#fdca26\"],[1.0,\"#f0f921\"]],\"diverging\":[[0,\"#8e0152\"],[0.1,\"#c51b7d\"],[0.2,\"#de77ae\"],[0.3,\"#f1b6da\"],[0.4,\"#fde0ef\"],[0.5,\"#f7f7f7\"],[0.6,\"#e6f5d0\"],[0.7,\"#b8e186\"],[0.8,\"#7fbc41\"],[0.9,\"#4d9221\"],[1,\"#276419\"]]},\"xaxis\":{\"gridcolor\":\"white\",\"linecolor\":\"white\",\"ticks\":\"\",\"title\":{\"standoff\":15},\"zerolinecolor\":\"white\",\"automargin\":true,\"zerolinewidth\":2},\"yaxis\":{\"gridcolor\":\"white\",\"linecolor\":\"white\",\"ticks\":\"\",\"title\":{\"standoff\":15},\"zerolinecolor\":\"white\",\"automargin\":true,\"zerolinewidth\":2},\"scene\":{\"xaxis\":{\"backgroundcolor\":\"#E5ECF6\",\"gridcolor\":\"white\",\"linecolor\":\"white\",\"showbackground\":true,\"ticks\":\"\",\"zerolinecolor\":\"white\",\"gridwidth\":2},\"yaxis\":{\"backgroundcolor\":\"#E5ECF6\",\"gridcolor\":\"white\",\"linecolor\":\"white\",\"showbackground\":true,\"ticks\":\"\",\"zerolinecolor\":\"white\",\"gridwidth\":2},\"zaxis\":{\"backgroundcolor\":\"#E5ECF6\",\"gridcolor\":\"white\",\"linecolor\":\"white\",\"showbackground\":true,\"ticks\":\"\",\"zerolinecolor\":\"white\",\"gridwidth\":2}},\"shapedefaults\":{\"line\":{\"color\":\"#2a3f5f\"}},\"annotationdefaults\":{\"arrowcolor\":\"#2a3f5f\",\"arrowhead\":0,\"arrowwidth\":1},\"geo\":{\"bgcolor\":\"white\",\"landcolor\":\"#E5ECF6\",\"subunitcolor\":\"white\",\"showland\":true,\"showlakes\":true,\"lakecolor\":\"white\"},\"title\":{\"x\":0.05},\"mapbox\":{\"style\":\"light\"}}},\"title\":{\"text\":\"Customers Left or Stayed\"},\"xaxis\":{\"title\":{\"text\":\"Labels\"}},\"yaxis\":{\"title\":{\"text\":\"Number of Customers\"}},\"height\":500},                        {\"responsive\": true}                    ).then(function(){\n",
       "                            \n",
       "var gd = document.getElementById('25be2a17-27f4-4b0c-a4d0-c38da9f2361a');\n",
       "var x = new MutationObserver(function (mutations, observer) {{\n",
       "        var display = window.getComputedStyle(gd).display;\n",
       "        if (!display || display === 'none') {{\n",
       "            console.log([gd, 'removed!']);\n",
       "            Plotly.purge(gd);\n",
       "            observer.disconnect();\n",
       "        }}\n",
       "}});\n",
       "\n",
       "// Listen for the removal of the full notebook cells\n",
       "var notebookContainer = gd.closest('#notebook-container');\n",
       "if (notebookContainer) {{\n",
       "    x.observe(notebookContainer, {childList: true});\n",
       "}}\n",
       "\n",
       "// Listen for the clearing of the current output cell\n",
       "var outputEl = gd.closest('.output');\n",
       "if (outputEl) {{\n",
       "    x.observe(outputEl, {childList: true});\n",
       "}}\n",
       "\n",
       "                        })                };                });            </script>        </div>"
      ]
     },
     "metadata": {},
     "output_type": "display_data"
    }
   ],
   "source": [
    "# find distribution of target variable\n",
    "fig = go.Figure()\n",
    "\n",
    "fig.add_trace(go.Bar(x = indx, y = vals, marker = dict(color = ['#1abc9c', '#f4d03f']), width = 0.4, text = ['Stayed', 'Left']))\n",
    "fig.update_layout(title = 'Customers Left or Stayed', xaxis_title = 'Labels', yaxis_title = 'Number of Customers', height = 500)\n",
    "fig.show()"
   ]
  },
  {
   "cell_type": "markdown",
   "id": "3c09bbe9-8006-4f44-8f2e-b3d63601e09b",
   "metadata": {},
   "source": [
    "# ANN Implementation"
   ]
  },
  {
   "cell_type": "code",
   "execution_count": 91,
   "id": "f515c17a-13c2-4a36-8d87-ed854eb08c79",
   "metadata": {},
   "outputs": [
    {
     "data": {
      "text/html": [
       "<div>\n",
       "<style scoped>\n",
       "    .dataframe tbody tr th:only-of-type {\n",
       "        vertical-align: middle;\n",
       "    }\n",
       "\n",
       "    .dataframe tbody tr th {\n",
       "        vertical-align: top;\n",
       "    }\n",
       "\n",
       "    .dataframe thead th {\n",
       "        text-align: right;\n",
       "    }\n",
       "</style>\n",
       "<table border=\"1\" class=\"dataframe\">\n",
       "  <thead>\n",
       "    <tr style=\"text-align: right;\">\n",
       "      <th></th>\n",
       "      <th>CreditScore</th>\n",
       "      <th>Geography</th>\n",
       "      <th>Gender</th>\n",
       "      <th>Age</th>\n",
       "      <th>Tenure</th>\n",
       "      <th>Balance</th>\n",
       "      <th>NumOfProducts</th>\n",
       "      <th>HasCrCard</th>\n",
       "      <th>IsActiveMember</th>\n",
       "      <th>EstimatedSalary</th>\n",
       "    </tr>\n",
       "  </thead>\n",
       "  <tbody>\n",
       "    <tr>\n",
       "      <th>0</th>\n",
       "      <td>619</td>\n",
       "      <td>0</td>\n",
       "      <td>0</td>\n",
       "      <td>42</td>\n",
       "      <td>2</td>\n",
       "      <td>0.00</td>\n",
       "      <td>1</td>\n",
       "      <td>1</td>\n",
       "      <td>1</td>\n",
       "      <td>101348.88</td>\n",
       "    </tr>\n",
       "    <tr>\n",
       "      <th>1</th>\n",
       "      <td>608</td>\n",
       "      <td>2</td>\n",
       "      <td>0</td>\n",
       "      <td>41</td>\n",
       "      <td>1</td>\n",
       "      <td>83807.86</td>\n",
       "      <td>1</td>\n",
       "      <td>0</td>\n",
       "      <td>1</td>\n",
       "      <td>112542.58</td>\n",
       "    </tr>\n",
       "    <tr>\n",
       "      <th>2</th>\n",
       "      <td>502</td>\n",
       "      <td>0</td>\n",
       "      <td>0</td>\n",
       "      <td>42</td>\n",
       "      <td>8</td>\n",
       "      <td>159660.80</td>\n",
       "      <td>3</td>\n",
       "      <td>1</td>\n",
       "      <td>0</td>\n",
       "      <td>113931.57</td>\n",
       "    </tr>\n",
       "    <tr>\n",
       "      <th>3</th>\n",
       "      <td>699</td>\n",
       "      <td>0</td>\n",
       "      <td>0</td>\n",
       "      <td>39</td>\n",
       "      <td>1</td>\n",
       "      <td>0.00</td>\n",
       "      <td>2</td>\n",
       "      <td>0</td>\n",
       "      <td>0</td>\n",
       "      <td>93826.63</td>\n",
       "    </tr>\n",
       "    <tr>\n",
       "      <th>4</th>\n",
       "      <td>850</td>\n",
       "      <td>2</td>\n",
       "      <td>0</td>\n",
       "      <td>43</td>\n",
       "      <td>2</td>\n",
       "      <td>125510.82</td>\n",
       "      <td>1</td>\n",
       "      <td>1</td>\n",
       "      <td>1</td>\n",
       "      <td>79084.10</td>\n",
       "    </tr>\n",
       "  </tbody>\n",
       "</table>\n",
       "</div>"
      ],
      "text/plain": [
       "   CreditScore  Geography  Gender  Age  Tenure    Balance  NumOfProducts  \\\n",
       "0          619          0       0   42       2       0.00              1   \n",
       "1          608          2       0   41       1   83807.86              1   \n",
       "2          502          0       0   42       8  159660.80              3   \n",
       "3          699          0       0   39       1       0.00              2   \n",
       "4          850          2       0   43       2  125510.82              1   \n",
       "\n",
       "   HasCrCard  IsActiveMember  EstimatedSalary  \n",
       "0          1               1        101348.88  \n",
       "1          0               1        112542.58  \n",
       "2          1               0        113931.57  \n",
       "3          0               0         93826.63  \n",
       "4          1               1         79084.10  "
      ]
     },
     "execution_count": 91,
     "metadata": {},
     "output_type": "execute_result"
    }
   ],
   "source": [
    "# separate dataset into dependent and independent\n",
    "x = dataset.iloc[:, : -1]\n",
    "y = dataset.iloc[:, -1]\n",
    "x.head()"
   ]
  },
  {
   "cell_type": "code",
   "execution_count": 92,
   "id": "07900fa6-ea73-4ce3-a20c-8e126cfc9a30",
   "metadata": {},
   "outputs": [],
   "source": [
    "# apply standrad scaler to scale values\n",
    "scaler = StandardScaler()\n",
    "\n",
    "x = scaler.fit_transform(x)"
   ]
  },
  {
   "cell_type": "code",
   "execution_count": 93,
   "id": "0e672800-9c4b-4ce7-bb40-29c6fa5c7449",
   "metadata": {},
   "outputs": [],
   "source": [
    "# now split dataset into training and testing\n",
    "x_train, x_test, y_train, y_test = train_test_split(x, y, test_size = 0.1, random_state = 0)"
   ]
  },
  {
   "cell_type": "code",
   "execution_count": 94,
   "id": "1666dba6-12bd-412e-bc92-33a87c4fae18",
   "metadata": {},
   "outputs": [
    {
     "name": "stdout",
     "output_type": "stream",
     "text": [
      "Model: \"sequential_1\"\n",
      "_________________________________________________________________\n",
      " Layer (type)                Output Shape              Param #   \n",
      "=================================================================\n",
      " dense_7 (Dense)             (None, 10)                110       \n",
      "                                                                 \n",
      " dense_8 (Dense)             (None, 128)               1408      \n",
      "                                                                 \n",
      " dense_9 (Dense)             (None, 128)               16512     \n",
      "                                                                 \n",
      " dense_10 (Dense)            (None, 128)               16512     \n",
      "                                                                 \n",
      " dense_11 (Dense)            (None, 1)                 129       \n",
      "                                                                 \n",
      "=================================================================\n",
      "Total params: 34671 (135.43 KB)\n",
      "Trainable params: 34671 (135.43 KB)\n",
      "Non-trainable params: 0 (0.00 Byte)\n",
      "_________________________________________________________________\n"
     ]
    }
   ],
   "source": [
    "# prepare ann model\n",
    "model = Sequential()\n",
    "\n",
    "# input layer\n",
    "model.add(Dense(units = 10, input_dim = 10, input_shape = (10, ), kernel_initializer = 'uniform'))\n",
    "\n",
    "# first hidden layer\n",
    "model.add(Dense(units = 128, activation = 'relu', kernel_initializer = 'uniform'))\n",
    "\n",
    "# second hidden layer\n",
    "model.add(Dense(units = 128, activation = 'tanh', kernel_initializer = 'uniform'))\n",
    "\n",
    "# third hidden layer\n",
    "model.add(Dense(units = 128, activation = 'relu', kernel_initializer = 'uniform'))\n",
    "\n",
    "# output layer\n",
    "model.add(Dense(units = 1, activation = 'sigmoid', kernel_initializer = 'uniform'))\n",
    "\n",
    "model.summary()"
   ]
  },
  {
   "cell_type": "code",
   "execution_count": 95,
   "id": "f7accd6f-5712-40dd-88dc-f9769e90e810",
   "metadata": {},
   "outputs": [],
   "source": [
    "# compile model\n",
    "model.compile(optimizer = 'adam', loss = 'BinaryCrossentropy', metrics = ['accuracy'])"
   ]
  },
  {
   "cell_type": "code",
   "execution_count": 96,
   "id": "41a02606-9e89-4709-9582-044fead6ffd1",
   "metadata": {},
   "outputs": [
    {
     "name": "stdout",
     "output_type": "stream",
     "text": [
      "Epoch 1/5\n",
      "450/450 [==============================] - 5s 4ms/step - loss: 0.4452 - accuracy: 0.8118 - val_loss: 0.4004 - val_accuracy: 0.8410\n",
      "Epoch 2/5\n",
      "450/450 [==============================] - 2s 4ms/step - loss: 0.3861 - accuracy: 0.8434 - val_loss: 0.3442 - val_accuracy: 0.8630\n",
      "Epoch 3/5\n",
      "450/450 [==============================] - 2s 4ms/step - loss: 0.3608 - accuracy: 0.8523 - val_loss: 0.3557 - val_accuracy: 0.8520\n",
      "Epoch 4/5\n",
      "450/450 [==============================] - 2s 4ms/step - loss: 0.3547 - accuracy: 0.8550 - val_loss: 0.3409 - val_accuracy: 0.8600\n",
      "Epoch 5/5\n",
      "450/450 [==============================] - 2s 3ms/step - loss: 0.3522 - accuracy: 0.8557 - val_loss: 0.3452 - val_accuracy: 0.8520\n"
     ]
    },
    {
     "data": {
      "text/plain": [
       "<keras.src.callbacks.History at 0x232a1762250>"
      ]
     },
     "execution_count": 96,
     "metadata": {},
     "output_type": "execute_result"
    }
   ],
   "source": [
    "# fit model using data\n",
    "model.fit(x_train, y_train, epochs = 5, batch_size = 20, validation_data = (x_test, y_test))"
   ]
  },
  {
   "cell_type": "code",
   "execution_count": 97,
   "id": "b6f29261-0dad-4819-b473-e967389ca535",
   "metadata": {},
   "outputs": [
    {
     "name": "stdout",
     "output_type": "stream",
     "text": [
      "32/32 [==============================] - 0s 3ms/step - loss: 0.3452 - accuracy: 0.8520\n"
     ]
    },
    {
     "data": {
      "text/plain": [
       "[0.3452163338661194, 0.8519999980926514]"
      ]
     },
     "execution_count": 97,
     "metadata": {},
     "output_type": "execute_result"
    }
   ],
   "source": [
    "# evaluate on test dataset\n",
    "model.evaluate(x_test, y_test)"
   ]
  },
  {
   "cell_type": "code",
   "execution_count": 98,
   "id": "55177342-6874-4d5d-a1ae-b8658e2ebca6",
   "metadata": {},
   "outputs": [
    {
     "name": "stdout",
     "output_type": "stream",
     "text": [
      "282/282 [==============================] - 1s 3ms/step - loss: 0.3468 - accuracy: 0.8568\n"
     ]
    },
    {
     "data": {
      "text/plain": [
       "[0.3468051850795746, 0.8567777872085571]"
      ]
     },
     "execution_count": 98,
     "metadata": {},
     "output_type": "execute_result"
    }
   ],
   "source": [
    "# evaluate on training data\n",
    "model.evaluate(x_train, y_train)"
   ]
  },
  {
   "cell_type": "code",
   "execution_count": 99,
   "id": "9d0b58c1-7f6b-4ab5-aedb-fe33f10864dc",
   "metadata": {},
   "outputs": [
    {
     "name": "stdout",
     "output_type": "stream",
     "text": [
      "32/32 [==============================] - 0s 3ms/step\n"
     ]
    },
    {
     "data": {
      "text/plain": [
       "array([[0.15828541],\n",
       "       [0.35662887],\n",
       "       [0.24761574],\n",
       "       [0.11660898],\n",
       "       [0.0684284 ],\n",
       "       [0.8162768 ],\n",
       "       [0.03056171],\n",
       "       [0.059254  ],\n",
       "       [0.14660206],\n",
       "       [0.9078263 ],\n",
       "       [0.03640617],\n",
       "       [0.17980753],\n",
       "       [0.21540892],\n",
       "       [0.11539573],\n",
       "       [0.38210505],\n",
       "       [0.2919024 ],\n",
       "       [0.12570892],\n",
       "       [0.08471386],\n",
       "       [0.10294744],\n",
       "       [0.09526212],\n",
       "       [0.28017348],\n",
       "       [0.01325277],\n",
       "       [0.04160509],\n",
       "       [0.17518683],\n",
       "       [0.01205712],\n",
       "       [0.26109067],\n",
       "       [0.10529781],\n",
       "       [0.04486895],\n",
       "       [0.19012864],\n",
       "       [0.43460917],\n",
       "       [0.02766124],\n",
       "       [0.34483403],\n",
       "       [0.07097925],\n",
       "       [0.03833386],\n",
       "       [0.26256981],\n",
       "       [0.01494569],\n",
       "       [0.02543387],\n",
       "       [0.02057583],\n",
       "       [0.02087573],\n",
       "       [0.16385733],\n",
       "       [0.1354784 ],\n",
       "       [0.3329814 ],\n",
       "       [0.40095666],\n",
       "       [0.03741061],\n",
       "       [0.30050838],\n",
       "       [0.07681984],\n",
       "       [0.33465636],\n",
       "       [0.16398889],\n",
       "       [0.59906393],\n",
       "       [0.00590888],\n",
       "       [0.99841666],\n",
       "       [0.07561727],\n",
       "       [0.1566709 ],\n",
       "       [0.1433209 ],\n",
       "       [0.06958284],\n",
       "       [0.04131566],\n",
       "       [0.23635422],\n",
       "       [0.22763406],\n",
       "       [0.5244559 ],\n",
       "       [0.39674458],\n",
       "       [0.06305628],\n",
       "       [0.12408422],\n",
       "       [0.01631795],\n",
       "       [0.19785306],\n",
       "       [0.3830401 ],\n",
       "       [0.884072  ],\n",
       "       [0.06450049],\n",
       "       [0.36246562],\n",
       "       [0.04977427],\n",
       "       [0.79072744],\n",
       "       [0.8122727 ],\n",
       "       [0.02172204],\n",
       "       [0.00705693],\n",
       "       [0.87279177],\n",
       "       [0.41783336],\n",
       "       [0.05957145],\n",
       "       [0.7314637 ],\n",
       "       [0.01049431],\n",
       "       [0.06204516],\n",
       "       [0.25873557],\n",
       "       [0.80078304],\n",
       "       [0.23240076],\n",
       "       [0.02754445],\n",
       "       [0.15464522],\n",
       "       [0.6042874 ],\n",
       "       [0.05109261],\n",
       "       [0.03023617],\n",
       "       [0.02572651],\n",
       "       [0.967143  ],\n",
       "       [0.03031729],\n",
       "       [0.13351476],\n",
       "       [0.28930137],\n",
       "       [0.13275272],\n",
       "       [0.9903044 ],\n",
       "       [0.01166366],\n",
       "       [0.12006577],\n",
       "       [0.03526882],\n",
       "       [0.1550129 ],\n",
       "       [0.21362732],\n",
       "       [0.15473145],\n",
       "       [0.01095354],\n",
       "       [0.1911252 ],\n",
       "       [0.04305799],\n",
       "       [0.1458841 ],\n",
       "       [0.28000095],\n",
       "       [0.11291248],\n",
       "       [0.01319087],\n",
       "       [0.13120848],\n",
       "       [0.35268715],\n",
       "       [0.13796516],\n",
       "       [0.2579978 ],\n",
       "       [0.5092635 ],\n",
       "       [0.32694277],\n",
       "       [0.06693555],\n",
       "       [0.49250695],\n",
       "       [0.02759722],\n",
       "       [0.04462724],\n",
       "       [0.04643988],\n",
       "       [0.12668058],\n",
       "       [0.01215906],\n",
       "       [0.15181826],\n",
       "       [0.13331598],\n",
       "       [0.35315546],\n",
       "       [0.09918131],\n",
       "       [0.02549837],\n",
       "       [0.40724993],\n",
       "       [0.23973376],\n",
       "       [0.16236803],\n",
       "       [0.4550504 ],\n",
       "       [0.17881702],\n",
       "       [0.04406669],\n",
       "       [0.3671828 ],\n",
       "       [0.29265597],\n",
       "       [0.01827652],\n",
       "       [0.13687316],\n",
       "       [0.1841857 ],\n",
       "       [0.10444882],\n",
       "       [0.9595132 ],\n",
       "       [0.01020111],\n",
       "       [0.01531592],\n",
       "       [0.0250299 ],\n",
       "       [0.06649075],\n",
       "       [0.577909  ],\n",
       "       [0.10895067],\n",
       "       [0.15957256],\n",
       "       [0.28927076],\n",
       "       [0.10777932],\n",
       "       [0.99998325],\n",
       "       [0.42820463],\n",
       "       [0.8872086 ],\n",
       "       [0.31880897],\n",
       "       [0.0498058 ],\n",
       "       [0.01443273],\n",
       "       [0.21620595],\n",
       "       [0.8743217 ],\n",
       "       [0.39391908],\n",
       "       [0.2929497 ],\n",
       "       [0.2247578 ],\n",
       "       [0.3476904 ],\n",
       "       [0.09375175],\n",
       "       [0.15727937],\n",
       "       [0.01152625],\n",
       "       [0.03369068],\n",
       "       [0.18005794],\n",
       "       [0.00683203],\n",
       "       [0.10780454],\n",
       "       [0.0641424 ],\n",
       "       [0.20854314],\n",
       "       [0.36571044],\n",
       "       [0.01125454],\n",
       "       [0.07915789],\n",
       "       [0.09251063],\n",
       "       [0.0628795 ],\n",
       "       [0.3494029 ],\n",
       "       [0.4069195 ],\n",
       "       [0.03375369],\n",
       "       [0.08030046],\n",
       "       [0.10468812],\n",
       "       [0.0119817 ],\n",
       "       [0.01105198],\n",
       "       [0.16305764],\n",
       "       [0.04669361],\n",
       "       [0.87351066],\n",
       "       [0.15760174],\n",
       "       [0.11070508],\n",
       "       [0.22920856],\n",
       "       [0.0311859 ],\n",
       "       [0.05838544],\n",
       "       [0.08210668],\n",
       "       [0.00920689],\n",
       "       [0.36977625],\n",
       "       [0.06100802],\n",
       "       [0.00527449],\n",
       "       [0.14490092],\n",
       "       [0.2532633 ],\n",
       "       [0.02287456],\n",
       "       [0.2669989 ],\n",
       "       [0.9964454 ],\n",
       "       [0.100609  ],\n",
       "       [0.06628951],\n",
       "       [0.05699035],\n",
       "       [0.20536895],\n",
       "       [0.45766896],\n",
       "       [0.4018416 ],\n",
       "       [0.13821925],\n",
       "       [0.12391705],\n",
       "       [0.02755319],\n",
       "       [0.5023842 ],\n",
       "       [0.04559889],\n",
       "       [0.14104109],\n",
       "       [0.03981493],\n",
       "       [0.13438097],\n",
       "       [0.44828206],\n",
       "       [0.88278013],\n",
       "       [0.34326038],\n",
       "       [0.0674703 ],\n",
       "       [0.01495699],\n",
       "       [0.06086558],\n",
       "       [0.02758078],\n",
       "       [0.03319284],\n",
       "       [0.26389366],\n",
       "       [0.2388733 ],\n",
       "       [0.16183287],\n",
       "       [0.09796728],\n",
       "       [0.160541  ],\n",
       "       [0.15090734],\n",
       "       [0.02831425],\n",
       "       [0.04548014],\n",
       "       [0.03232363],\n",
       "       [0.39555782],\n",
       "       [0.15126754],\n",
       "       [0.159301  ],\n",
       "       [0.03461404],\n",
       "       [0.01131657],\n",
       "       [0.02062109],\n",
       "       [0.16016176],\n",
       "       [0.15601824],\n",
       "       [0.40668678],\n",
       "       [0.37365133],\n",
       "       [0.0688034 ],\n",
       "       [0.06900828],\n",
       "       [0.18322517],\n",
       "       [0.07186779],\n",
       "       [0.1468578 ],\n",
       "       [0.03028754],\n",
       "       [0.03745326],\n",
       "       [0.02620638],\n",
       "       [0.1389662 ],\n",
       "       [0.03227688],\n",
       "       [0.0294359 ],\n",
       "       [0.01289864],\n",
       "       [0.51229984],\n",
       "       [0.05438257],\n",
       "       [0.48172212],\n",
       "       [0.09672194],\n",
       "       [0.10410967],\n",
       "       [0.00768478],\n",
       "       [0.10398028],\n",
       "       [0.01384871],\n",
       "       [0.03603721],\n",
       "       [0.19948052],\n",
       "       [0.21647069],\n",
       "       [0.39822724],\n",
       "       [0.2107604 ],\n",
       "       [0.04389872],\n",
       "       [0.03826445],\n",
       "       [0.08714963],\n",
       "       [0.1178714 ],\n",
       "       [0.03225189],\n",
       "       [0.01853185],\n",
       "       [0.2758485 ],\n",
       "       [0.01264025],\n",
       "       [0.14982097],\n",
       "       [0.61933905],\n",
       "       [0.05067532],\n",
       "       [0.0883975 ],\n",
       "       [0.01237853],\n",
       "       [0.18986215],\n",
       "       [0.0606069 ],\n",
       "       [0.98816264],\n",
       "       [0.06116632],\n",
       "       [0.05033681],\n",
       "       [0.2894615 ],\n",
       "       [0.08918035],\n",
       "       [0.06699175],\n",
       "       [0.08135386],\n",
       "       [0.10893063],\n",
       "       [0.14078961],\n",
       "       [0.1026753 ],\n",
       "       [0.12655577],\n",
       "       [0.00796406],\n",
       "       [0.08272193],\n",
       "       [0.06281937],\n",
       "       [0.14328901],\n",
       "       [0.09102113],\n",
       "       [0.04120955],\n",
       "       [0.0565917 ],\n",
       "       [0.05751066],\n",
       "       [0.19246131],\n",
       "       [0.22135305],\n",
       "       [0.11527885],\n",
       "       [0.13251491],\n",
       "       [0.36476365],\n",
       "       [0.31856516],\n",
       "       [0.01737326],\n",
       "       [0.42339152],\n",
       "       [0.07521044],\n",
       "       [0.01193091],\n",
       "       [0.86532944],\n",
       "       [0.05482063],\n",
       "       [0.09346721],\n",
       "       [0.24984786],\n",
       "       [0.17801404],\n",
       "       [0.02965958],\n",
       "       [0.02200004],\n",
       "       [0.26944184],\n",
       "       [0.03975103],\n",
       "       [0.08842751],\n",
       "       [0.99964225],\n",
       "       [0.2596408 ],\n",
       "       [0.87984955],\n",
       "       [0.01723976],\n",
       "       [0.01140059],\n",
       "       [0.99999684],\n",
       "       [0.18540856],\n",
       "       [0.058563  ],\n",
       "       [0.03835758],\n",
       "       [0.07459719],\n",
       "       [0.15421039],\n",
       "       [0.2558066 ],\n",
       "       [0.00875109],\n",
       "       [0.13748372],\n",
       "       [0.1767607 ],\n",
       "       [0.02808584],\n",
       "       [0.02810936],\n",
       "       [0.0762705 ],\n",
       "       [0.15124357],\n",
       "       [0.00600881],\n",
       "       [0.16495818],\n",
       "       [0.0268981 ],\n",
       "       [0.31826103],\n",
       "       [0.99667186],\n",
       "       [0.08981105],\n",
       "       [0.32592702],\n",
       "       [0.01829918],\n",
       "       [0.20449263],\n",
       "       [0.11013783],\n",
       "       [0.2767115 ],\n",
       "       [0.03246916],\n",
       "       [0.07501728],\n",
       "       [0.01405865],\n",
       "       [0.01328903],\n",
       "       [0.06884055],\n",
       "       [0.99789846],\n",
       "       [0.25611883],\n",
       "       [0.9999374 ],\n",
       "       [0.12268316],\n",
       "       [0.19874139],\n",
       "       [0.15526845],\n",
       "       [0.01261544],\n",
       "       [0.19840981],\n",
       "       [0.14294086],\n",
       "       [0.08948337],\n",
       "       [0.34385464],\n",
       "       [0.29994506],\n",
       "       [0.8452074 ],\n",
       "       [0.07555906],\n",
       "       [0.29961747],\n",
       "       [0.14395973],\n",
       "       [0.03056749],\n",
       "       [0.02166257],\n",
       "       [0.06924965],\n",
       "       [0.3118315 ],\n",
       "       [0.06517214],\n",
       "       [0.1862576 ],\n",
       "       [0.04467115],\n",
       "       [0.2577448 ],\n",
       "       [0.57799697],\n",
       "       [0.15288843],\n",
       "       [0.01243744],\n",
       "       [0.19814003],\n",
       "       [0.01931681],\n",
       "       [0.276354  ],\n",
       "       [0.204607  ],\n",
       "       [0.0775253 ],\n",
       "       [0.05286831],\n",
       "       [0.45232955],\n",
       "       [0.65991026],\n",
       "       [0.5072013 ],\n",
       "       [0.16446859],\n",
       "       [0.21759251],\n",
       "       [0.3839614 ],\n",
       "       [0.0852199 ],\n",
       "       [0.05998213],\n",
       "       [0.04394354],\n",
       "       [0.39862773],\n",
       "       [0.12139783],\n",
       "       [0.1106832 ],\n",
       "       [0.17194094],\n",
       "       [0.01707093],\n",
       "       [0.01474381],\n",
       "       [0.23963714],\n",
       "       [0.05667701],\n",
       "       [0.01603401],\n",
       "       [0.0215095 ],\n",
       "       [0.8236142 ],\n",
       "       [0.03611934],\n",
       "       [0.17007905],\n",
       "       [0.32430404],\n",
       "       [0.09155568],\n",
       "       [0.04529053],\n",
       "       [0.06784292],\n",
       "       [0.06720029],\n",
       "       [0.1692253 ],\n",
       "       [0.04263759],\n",
       "       [0.08755232],\n",
       "       [0.2792993 ],\n",
       "       [0.07520875],\n",
       "       [0.5487992 ],\n",
       "       [0.2729971 ],\n",
       "       [0.00771035],\n",
       "       [0.1326167 ],\n",
       "       [0.06831802],\n",
       "       [0.23190673],\n",
       "       [0.32773632],\n",
       "       [0.06652424],\n",
       "       [0.11031822],\n",
       "       [0.02514637],\n",
       "       [0.02327485],\n",
       "       [0.11181428],\n",
       "       [0.4251228 ],\n",
       "       [0.1514804 ],\n",
       "       [0.6706232 ],\n",
       "       [0.05457424],\n",
       "       [0.5396462 ],\n",
       "       [0.12099794],\n",
       "       [0.32797575],\n",
       "       [0.02552294],\n",
       "       [0.02192568],\n",
       "       [0.00474707],\n",
       "       [0.24584809],\n",
       "       [0.01424796],\n",
       "       [0.1100321 ],\n",
       "       [0.00625688],\n",
       "       [0.05844888],\n",
       "       [0.24050826],\n",
       "       [0.14640048],\n",
       "       [0.4047226 ],\n",
       "       [0.02344963],\n",
       "       [0.0281323 ],\n",
       "       [0.1747799 ],\n",
       "       [0.1053889 ],\n",
       "       [0.84382296],\n",
       "       [0.12501894],\n",
       "       [0.40624115],\n",
       "       [0.09069987],\n",
       "       [0.05898366],\n",
       "       [0.06240611],\n",
       "       [0.01642971],\n",
       "       [0.2649559 ],\n",
       "       [0.01354986],\n",
       "       [0.03747519],\n",
       "       [0.20073363],\n",
       "       [0.04930943],\n",
       "       [0.01788396],\n",
       "       [0.7734637 ],\n",
       "       [0.02683019],\n",
       "       [0.6105399 ],\n",
       "       [0.15054469],\n",
       "       [0.22027905],\n",
       "       [0.05740177],\n",
       "       [0.13376765],\n",
       "       [0.26892275],\n",
       "       [0.45074525],\n",
       "       [0.14454865],\n",
       "       [0.03365178],\n",
       "       [0.12989624],\n",
       "       [0.21732625],\n",
       "       [0.19745812],\n",
       "       [0.44358543],\n",
       "       [0.03800763],\n",
       "       [0.54714835],\n",
       "       [0.09514627],\n",
       "       [0.1278357 ],\n",
       "       [0.09714027],\n",
       "       [0.47487926],\n",
       "       [0.13483132],\n",
       "       [0.16606513],\n",
       "       [0.42387804],\n",
       "       [0.06992929],\n",
       "       [0.8356762 ],\n",
       "       [0.6514059 ],\n",
       "       [0.19605757],\n",
       "       [0.12772806],\n",
       "       [0.02959298],\n",
       "       [0.27877706],\n",
       "       [0.04250244],\n",
       "       [0.22756718],\n",
       "       [0.07446586],\n",
       "       [0.02006193],\n",
       "       [0.22419555],\n",
       "       [0.21363154],\n",
       "       [0.5769961 ],\n",
       "       [0.8914861 ],\n",
       "       [0.4288908 ],\n",
       "       [0.20387055],\n",
       "       [0.06680907],\n",
       "       [0.07531491],\n",
       "       [0.07713233],\n",
       "       [0.29518244],\n",
       "       [0.12097195],\n",
       "       [0.02900229],\n",
       "       [0.02754772],\n",
       "       [0.8462518 ],\n",
       "       [0.11387388],\n",
       "       [0.0845625 ],\n",
       "       [0.09213202],\n",
       "       [0.09683239],\n",
       "       [0.49985522],\n",
       "       [0.17749234],\n",
       "       [0.11602552],\n",
       "       [0.06219532],\n",
       "       [0.05858027],\n",
       "       [0.0064628 ],\n",
       "       [0.12884106],\n",
       "       [0.12195724],\n",
       "       [0.02461101],\n",
       "       [0.05587304],\n",
       "       [0.14713927],\n",
       "       [0.11230314],\n",
       "       [0.0290355 ],\n",
       "       [0.15640654],\n",
       "       [0.441417  ],\n",
       "       [0.15528922],\n",
       "       [0.18145713],\n",
       "       [0.09680502],\n",
       "       [0.0769048 ],\n",
       "       [0.08210561],\n",
       "       [0.25487003],\n",
       "       [0.06049883],\n",
       "       [0.24731883],\n",
       "       [0.03496443],\n",
       "       [0.01711886],\n",
       "       [0.25279313],\n",
       "       [0.02317105],\n",
       "       [0.03071067],\n",
       "       [0.23605552],\n",
       "       [0.2922717 ],\n",
       "       [0.09941513],\n",
       "       [0.10649022],\n",
       "       [0.2794072 ],\n",
       "       [0.5105018 ],\n",
       "       [0.26677322],\n",
       "       [0.04061714],\n",
       "       [0.08346574],\n",
       "       [0.30791438],\n",
       "       [0.1562326 ],\n",
       "       [0.1537415 ],\n",
       "       [0.28364903],\n",
       "       [0.2448991 ],\n",
       "       [0.9999938 ],\n",
       "       [0.23888686],\n",
       "       [0.10415728],\n",
       "       [0.8374884 ],\n",
       "       [0.13484283],\n",
       "       [0.07961263],\n",
       "       [0.09068207],\n",
       "       [0.07508098],\n",
       "       [0.16527227],\n",
       "       [0.1666697 ],\n",
       "       [0.14708188],\n",
       "       [0.03991223],\n",
       "       [0.01738289],\n",
       "       [0.9999989 ],\n",
       "       [0.21494073],\n",
       "       [0.05048727],\n",
       "       [0.62504596],\n",
       "       [0.2408155 ],\n",
       "       [0.30838788],\n",
       "       [0.99997634],\n",
       "       [0.691076  ],\n",
       "       [0.2039169 ],\n",
       "       [0.19147104],\n",
       "       [0.03215979],\n",
       "       [0.15185037],\n",
       "       [0.9834914 ],\n",
       "       [0.39218697],\n",
       "       [0.01568402],\n",
       "       [0.16667731],\n",
       "       [0.01338127],\n",
       "       [0.35533756],\n",
       "       [0.5808166 ],\n",
       "       [0.18572545],\n",
       "       [0.02487895],\n",
       "       [0.02405458],\n",
       "       [0.19396208],\n",
       "       [0.0321834 ],\n",
       "       [0.02469329],\n",
       "       [0.4337169 ],\n",
       "       [0.03929638],\n",
       "       [0.02496965],\n",
       "       [0.12598687],\n",
       "       [0.96882004],\n",
       "       [0.10277927],\n",
       "       [0.05529955],\n",
       "       [0.12630667],\n",
       "       [0.04181717],\n",
       "       [0.05575973],\n",
       "       [0.19083384],\n",
       "       [0.9522735 ],\n",
       "       [0.1123977 ],\n",
       "       [0.04354376],\n",
       "       [0.01323644],\n",
       "       [0.3763149 ],\n",
       "       [0.999999  ],\n",
       "       [0.6672288 ],\n",
       "       [0.8132971 ],\n",
       "       [0.05681635],\n",
       "       [0.3719662 ],\n",
       "       [0.07357334],\n",
       "       [0.13515735],\n",
       "       [0.02718134],\n",
       "       [0.26008496],\n",
       "       [0.04813523],\n",
       "       [0.15086329],\n",
       "       [0.10427217],\n",
       "       [0.31973183],\n",
       "       [0.19578469],\n",
       "       [0.10678764],\n",
       "       [0.04493726],\n",
       "       [0.06890622],\n",
       "       [0.59685487],\n",
       "       [0.03273828],\n",
       "       [0.2514934 ],\n",
       "       [0.26265192],\n",
       "       [0.50365794],\n",
       "       [0.09112252],\n",
       "       [0.3675001 ],\n",
       "       [0.04906654],\n",
       "       [0.4782095 ],\n",
       "       [0.02073099],\n",
       "       [0.06802838],\n",
       "       [0.08116595],\n",
       "       [0.25858164],\n",
       "       [0.33081892],\n",
       "       [0.09214122],\n",
       "       [0.10384466],\n",
       "       [0.00922523],\n",
       "       [0.10720911],\n",
       "       [0.21681766],\n",
       "       [0.30031514],\n",
       "       [0.10595242],\n",
       "       [0.0806134 ],\n",
       "       [0.0244327 ],\n",
       "       [0.68630534],\n",
       "       [0.06053811],\n",
       "       [0.22266825],\n",
       "       [0.1411406 ],\n",
       "       [0.07148024],\n",
       "       [0.04775734],\n",
       "       [0.0101814 ],\n",
       "       [0.23093587],\n",
       "       [0.17635497],\n",
       "       [0.03434445],\n",
       "       [0.5883746 ],\n",
       "       [0.37599683],\n",
       "       [0.13861391],\n",
       "       [0.1530448 ],\n",
       "       [0.15022142],\n",
       "       [0.12041575],\n",
       "       [0.25261095],\n",
       "       [0.15370859],\n",
       "       [0.5605482 ],\n",
       "       [0.18158463],\n",
       "       [0.34665838],\n",
       "       [0.09194538],\n",
       "       [0.00844706],\n",
       "       [0.08115654],\n",
       "       [0.09066761],\n",
       "       [0.43794882],\n",
       "       [0.06492059],\n",
       "       [0.18787892],\n",
       "       [0.18825406],\n",
       "       [0.28356737],\n",
       "       [0.03085819],\n",
       "       [0.40761226],\n",
       "       [0.46173936],\n",
       "       [0.09202403],\n",
       "       [0.28357202],\n",
       "       [0.5097007 ],\n",
       "       [0.11290511],\n",
       "       [0.14734153],\n",
       "       [0.1326279 ],\n",
       "       [0.1531767 ],\n",
       "       [0.34628472],\n",
       "       [0.18651326],\n",
       "       [0.17058109],\n",
       "       [0.07390113],\n",
       "       [0.30270585],\n",
       "       [0.17130353],\n",
       "       [0.1698436 ],\n",
       "       [0.11487402],\n",
       "       [0.4472999 ],\n",
       "       [0.03541421],\n",
       "       [0.17833084],\n",
       "       [0.16787322],\n",
       "       [0.07026827],\n",
       "       [0.1095689 ],\n",
       "       [0.00686767],\n",
       "       [0.19076909],\n",
       "       [0.00573027],\n",
       "       [0.15941983],\n",
       "       [0.50051427],\n",
       "       [0.11198662],\n",
       "       [0.1305438 ],\n",
       "       [0.14181587],\n",
       "       [0.08486548],\n",
       "       [0.01088679],\n",
       "       [0.10106651],\n",
       "       [0.14827861],\n",
       "       [0.2810175 ],\n",
       "       [0.09422462],\n",
       "       [0.14452448],\n",
       "       [0.03986542],\n",
       "       [0.10543347],\n",
       "       [0.13593364],\n",
       "       [0.02426618],\n",
       "       [0.05979657],\n",
       "       [0.03925009],\n",
       "       [0.23779848],\n",
       "       [0.09156185],\n",
       "       [0.29920083],\n",
       "       [0.17855784],\n",
       "       [0.9966141 ],\n",
       "       [0.12421841],\n",
       "       [0.00878887],\n",
       "       [0.7940312 ],\n",
       "       [0.2858179 ],\n",
       "       [0.01688727],\n",
       "       [0.31306815],\n",
       "       [0.22616021],\n",
       "       [0.33486494],\n",
       "       [0.37283888],\n",
       "       [0.22081457],\n",
       "       [0.06404721],\n",
       "       [0.16470212],\n",
       "       [0.01656032],\n",
       "       [0.06577244],\n",
       "       [0.39306563],\n",
       "       [0.5190588 ],\n",
       "       [0.07904403],\n",
       "       [0.18351278],\n",
       "       [0.05330925],\n",
       "       [0.17992699],\n",
       "       [0.02389741],\n",
       "       [0.04018494],\n",
       "       [0.06120818],\n",
       "       [0.14923666],\n",
       "       [0.9645209 ],\n",
       "       [0.12953292],\n",
       "       [0.21988498],\n",
       "       [0.02258751],\n",
       "       [0.3895453 ],\n",
       "       [0.16203496],\n",
       "       [0.2929999 ],\n",
       "       [0.12030131],\n",
       "       [0.03064992],\n",
       "       [0.21618345],\n",
       "       [0.06973571],\n",
       "       [0.09804687],\n",
       "       [0.15310755],\n",
       "       [0.05922952],\n",
       "       [0.20221233],\n",
       "       [0.54012924],\n",
       "       [0.02372097],\n",
       "       [0.14849749],\n",
       "       [0.04393618],\n",
       "       [0.0425503 ],\n",
       "       [0.13932359],\n",
       "       [0.29702535],\n",
       "       [0.12652579],\n",
       "       [0.00944251],\n",
       "       [0.21653028],\n",
       "       [0.13984102],\n",
       "       [0.11343394],\n",
       "       [0.02729247],\n",
       "       [0.04947989],\n",
       "       [0.67176014],\n",
       "       [0.0982601 ],\n",
       "       [0.01366998],\n",
       "       [0.0394322 ],\n",
       "       [0.13232048],\n",
       "       [0.0207555 ],\n",
       "       [0.21429488],\n",
       "       [0.38257158],\n",
       "       [0.7667356 ],\n",
       "       [0.37870544],\n",
       "       [0.07925821],\n",
       "       [0.04195759],\n",
       "       [0.10009868],\n",
       "       [0.08503383],\n",
       "       [0.05568153],\n",
       "       [0.02190793],\n",
       "       [0.31285137],\n",
       "       [0.99996686],\n",
       "       [0.00394949],\n",
       "       [0.40386525],\n",
       "       [0.01069526],\n",
       "       [0.07755829],\n",
       "       [0.34516647],\n",
       "       [0.01699788],\n",
       "       [0.03556048],\n",
       "       [0.22955278],\n",
       "       [0.07697947],\n",
       "       [0.06839578],\n",
       "       [0.09103552],\n",
       "       [0.03980036],\n",
       "       [0.09581784],\n",
       "       [0.20727341],\n",
       "       [0.15405232],\n",
       "       [0.10669328],\n",
       "       [0.41990373],\n",
       "       [0.07792218],\n",
       "       [0.1439815 ],\n",
       "       [0.09887716],\n",
       "       [0.30933625],\n",
       "       [0.06382962],\n",
       "       [0.9645644 ],\n",
       "       [0.36393648],\n",
       "       [0.30756372],\n",
       "       [0.1669351 ],\n",
       "       [0.02456462],\n",
       "       [0.20062082],\n",
       "       [0.26813912],\n",
       "       [0.3504585 ],\n",
       "       [0.03530811],\n",
       "       [0.42441645],\n",
       "       [0.13859381],\n",
       "       [0.10208307],\n",
       "       [0.01951131],\n",
       "       [0.10859838],\n",
       "       [0.15324178],\n",
       "       [0.09430971],\n",
       "       [0.05120166],\n",
       "       [0.01709065],\n",
       "       [0.01330989],\n",
       "       [0.0486786 ],\n",
       "       [0.23402143],\n",
       "       [0.08948135],\n",
       "       [0.26718223],\n",
       "       [0.40111312],\n",
       "       [0.09940102],\n",
       "       [0.0066077 ],\n",
       "       [0.07941853],\n",
       "       [0.02755493],\n",
       "       [0.00783257],\n",
       "       [0.7662886 ],\n",
       "       [0.05649927],\n",
       "       [0.04309465],\n",
       "       [0.24652554],\n",
       "       [0.9999914 ],\n",
       "       [0.24221185],\n",
       "       [0.1277325 ],\n",
       "       [0.19041435],\n",
       "       [0.10962604],\n",
       "       [0.05910011],\n",
       "       [0.04641558],\n",
       "       [0.19575901],\n",
       "       [0.17677286],\n",
       "       [0.1363425 ],\n",
       "       [0.11144855],\n",
       "       [0.01206782],\n",
       "       [0.022308  ],\n",
       "       [0.0566921 ],\n",
       "       [0.12747876],\n",
       "       [0.01943141],\n",
       "       [0.03795787],\n",
       "       [0.01488805],\n",
       "       [0.01424653],\n",
       "       [0.5564136 ],\n",
       "       [0.4483859 ],\n",
       "       [0.03714617],\n",
       "       [0.00945283],\n",
       "       [0.02051192],\n",
       "       [0.11707068],\n",
       "       [0.80228645],\n",
       "       [0.02494918],\n",
       "       [0.06883284],\n",
       "       [0.28904498],\n",
       "       [0.03609346],\n",
       "       [0.9989901 ],\n",
       "       [0.7426405 ],\n",
       "       [0.9947698 ],\n",
       "       [0.27350682],\n",
       "       [0.60564697],\n",
       "       [0.01772461],\n",
       "       [0.03605684],\n",
       "       [0.3573748 ],\n",
       "       [0.03532733],\n",
       "       [0.02258303],\n",
       "       [0.9999958 ],\n",
       "       [0.02712284],\n",
       "       [0.5844376 ],\n",
       "       [0.17135088],\n",
       "       [0.01243489],\n",
       "       [0.13776313],\n",
       "       [0.2963994 ],\n",
       "       [0.09077374],\n",
       "       [0.16687456],\n",
       "       [0.16132754],\n",
       "       [0.03894646],\n",
       "       [0.11932036],\n",
       "       [0.02270389],\n",
       "       [0.4770967 ],\n",
       "       [0.0287955 ],\n",
       "       [0.0113397 ],\n",
       "       [0.1894934 ],\n",
       "       [0.09342417],\n",
       "       [0.16640349],\n",
       "       [0.11393659],\n",
       "       [0.05288719],\n",
       "       [0.2452201 ],\n",
       "       [0.15160105],\n",
       "       [0.9999979 ],\n",
       "       [0.11920105],\n",
       "       [0.13745478],\n",
       "       [0.1030613 ],\n",
       "       [0.5289498 ],\n",
       "       [0.15702854],\n",
       "       [0.12380283],\n",
       "       [0.52296615],\n",
       "       [0.0726595 ],\n",
       "       [0.08434614],\n",
       "       [0.3539995 ],\n",
       "       [0.03690854],\n",
       "       [0.23192945],\n",
       "       [0.133339  ],\n",
       "       [0.18104911],\n",
       "       [0.06029501],\n",
       "       [0.14216563],\n",
       "       [0.9922855 ],\n",
       "       [0.3264311 ],\n",
       "       [0.10627344],\n",
       "       [0.24989176],\n",
       "       [0.172333  ],\n",
       "       [0.07515477],\n",
       "       [0.26190817],\n",
       "       [0.17203942],\n",
       "       [0.11551967],\n",
       "       [0.30949056],\n",
       "       [0.73159885],\n",
       "       [0.02284123],\n",
       "       [0.2066926 ],\n",
       "       [0.14295962],\n",
       "       [0.13903323],\n",
       "       [0.02285722],\n",
       "       [0.0808473 ],\n",
       "       [0.6605097 ],\n",
       "       [0.31354618],\n",
       "       [0.00903083],\n",
       "       [0.12363965],\n",
       "       [0.4349964 ],\n",
       "       [0.01926269],\n",
       "       [0.15903765],\n",
       "       [0.0111722 ],\n",
       "       [0.12965487],\n",
       "       [0.00694241],\n",
       "       [0.16376074],\n",
       "       [0.1625929 ],\n",
       "       [0.17445247],\n",
       "       [0.17201284],\n",
       "       [0.12305116],\n",
       "       [0.18268168],\n",
       "       [0.02331472],\n",
       "       [0.12872551],\n",
       "       [0.16630076],\n",
       "       [0.0976756 ],\n",
       "       [0.01864517],\n",
       "       [0.55497396],\n",
       "       [0.01529515],\n",
       "       [0.04352033],\n",
       "       [0.11821945],\n",
       "       [0.15267263],\n",
       "       [0.0451918 ],\n",
       "       [0.14890571],\n",
       "       [0.50718486],\n",
       "       [0.19828756],\n",
       "       [0.05588101],\n",
       "       [0.05024051],\n",
       "       [0.02844165],\n",
       "       [0.01321711],\n",
       "       [0.19558346],\n",
       "       [0.06086668],\n",
       "       [0.39211693],\n",
       "       [0.5085768 ],\n",
       "       [0.01735056],\n",
       "       [0.36849463],\n",
       "       [0.06541202],\n",
       "       [0.11798401],\n",
       "       [0.03094893]], dtype=float32)"
      ]
     },
     "execution_count": 99,
     "metadata": {},
     "output_type": "execute_result"
    }
   ],
   "source": [
    "# predict unseen dataset\n",
    "y_pred = model.predict(x_test)\n",
    "y_pred"
   ]
  },
  {
   "cell_type": "code",
   "execution_count": 100,
   "id": "3fcae6a7-b461-42ef-b524-4f88f1805c49",
   "metadata": {},
   "outputs": [
    {
     "data": {
      "text/plain": [
       "(1000, 1)"
      ]
     },
     "execution_count": 100,
     "metadata": {},
     "output_type": "execute_result"
    }
   ],
   "source": [
    "# find shape of y_pred\n",
    "y_pred.shape"
   ]
  },
  {
   "cell_type": "code",
   "execution_count": 101,
   "id": "3ca7ccb6-0d90-41d8-8dd0-c3d34d0a98f1",
   "metadata": {},
   "outputs": [
    {
     "data": {
      "text/plain": [
       "(1000,)"
      ]
     },
     "execution_count": 101,
     "metadata": {},
     "output_type": "execute_result"
    }
   ],
   "source": [
    "# reshpe y_pred to one dimension\n",
    "y_pred = y_pred.flatten()\n",
    "y_pred.shape"
   ]
  },
  {
   "cell_type": "code",
   "execution_count": 102,
   "id": "9bdfd7e9-7a02-4c58-938b-9d0e13cd09a7",
   "metadata": {},
   "outputs": [
    {
     "data": {
      "text/plain": [
       "array([0.15828541, 0.35662887, 0.24761574, 0.11660898, 0.0684284 ,\n",
       "       0.8162768 , 0.03056171, 0.059254  , 0.14660206, 0.9078263 ,\n",
       "       0.03640617, 0.17980753, 0.21540892, 0.11539573, 0.38210505,\n",
       "       0.2919024 , 0.12570892, 0.08471386, 0.10294744, 0.09526212,\n",
       "       0.28017348, 0.01325277, 0.04160509, 0.17518683, 0.01205712,\n",
       "       0.26109067, 0.10529781, 0.04486895, 0.19012864, 0.43460917,\n",
       "       0.02766124, 0.34483403, 0.07097925, 0.03833386, 0.26256981,\n",
       "       0.01494569, 0.02543387, 0.02057583, 0.02087573, 0.16385733,\n",
       "       0.1354784 , 0.3329814 , 0.40095666, 0.03741061, 0.30050838,\n",
       "       0.07681984, 0.33465636, 0.16398889, 0.59906393, 0.00590888,\n",
       "       0.99841666, 0.07561727, 0.1566709 , 0.1433209 , 0.06958284,\n",
       "       0.04131566, 0.23635422, 0.22763406, 0.5244559 , 0.39674458,\n",
       "       0.06305628, 0.12408422, 0.01631795, 0.19785306, 0.3830401 ,\n",
       "       0.884072  , 0.06450049, 0.36246562, 0.04977427, 0.79072744,\n",
       "       0.8122727 , 0.02172204, 0.00705693, 0.87279177, 0.41783336,\n",
       "       0.05957145, 0.7314637 , 0.01049431, 0.06204516, 0.25873557,\n",
       "       0.80078304, 0.23240076, 0.02754445, 0.15464522, 0.6042874 ,\n",
       "       0.05109261, 0.03023617, 0.02572651, 0.967143  , 0.03031729,\n",
       "       0.13351476, 0.28930137, 0.13275272, 0.9903044 , 0.01166366,\n",
       "       0.12006577, 0.03526882, 0.1550129 , 0.21362732, 0.15473145,\n",
       "       0.01095354, 0.1911252 , 0.04305799, 0.1458841 , 0.28000095,\n",
       "       0.11291248, 0.01319087, 0.13120848, 0.35268715, 0.13796516,\n",
       "       0.2579978 , 0.5092635 , 0.32694277, 0.06693555, 0.49250695,\n",
       "       0.02759722, 0.04462724, 0.04643988, 0.12668058, 0.01215906,\n",
       "       0.15181826, 0.13331598, 0.35315546, 0.09918131, 0.02549837,\n",
       "       0.40724993, 0.23973376, 0.16236803, 0.4550504 , 0.17881702,\n",
       "       0.04406669, 0.3671828 , 0.29265597, 0.01827652, 0.13687316,\n",
       "       0.1841857 , 0.10444882, 0.9595132 , 0.01020111, 0.01531592,\n",
       "       0.0250299 , 0.06649075, 0.577909  , 0.10895067, 0.15957256,\n",
       "       0.28927076, 0.10777932, 0.99998325, 0.42820463, 0.8872086 ,\n",
       "       0.31880897, 0.0498058 , 0.01443273, 0.21620595, 0.8743217 ,\n",
       "       0.39391908, 0.2929497 , 0.2247578 , 0.3476904 , 0.09375175,\n",
       "       0.15727937, 0.01152625, 0.03369068, 0.18005794, 0.00683203,\n",
       "       0.10780454, 0.0641424 , 0.20854314, 0.36571044, 0.01125454,\n",
       "       0.07915789, 0.09251063, 0.0628795 , 0.3494029 , 0.4069195 ,\n",
       "       0.03375369, 0.08030046, 0.10468812, 0.0119817 , 0.01105198,\n",
       "       0.16305764, 0.04669361, 0.87351066, 0.15760174, 0.11070508,\n",
       "       0.22920856, 0.0311859 , 0.05838544, 0.08210668, 0.00920689,\n",
       "       0.36977625, 0.06100802, 0.00527449, 0.14490092, 0.2532633 ,\n",
       "       0.02287456, 0.2669989 , 0.9964454 , 0.100609  , 0.06628951,\n",
       "       0.05699035, 0.20536895, 0.45766896, 0.4018416 , 0.13821925,\n",
       "       0.12391705, 0.02755319, 0.5023842 , 0.04559889, 0.14104109,\n",
       "       0.03981493, 0.13438097, 0.44828206, 0.88278013, 0.34326038,\n",
       "       0.0674703 , 0.01495699, 0.06086558, 0.02758078, 0.03319284,\n",
       "       0.26389366, 0.2388733 , 0.16183287, 0.09796728, 0.160541  ,\n",
       "       0.15090734, 0.02831425, 0.04548014, 0.03232363, 0.39555782,\n",
       "       0.15126754, 0.159301  , 0.03461404, 0.01131657, 0.02062109,\n",
       "       0.16016176, 0.15601824, 0.40668678, 0.37365133, 0.0688034 ,\n",
       "       0.06900828, 0.18322517, 0.07186779, 0.1468578 , 0.03028754,\n",
       "       0.03745326, 0.02620638, 0.1389662 , 0.03227688, 0.0294359 ,\n",
       "       0.01289864, 0.51229984, 0.05438257, 0.48172212, 0.09672194,\n",
       "       0.10410967, 0.00768478, 0.10398028, 0.01384871, 0.03603721,\n",
       "       0.19948052, 0.21647069, 0.39822724, 0.2107604 , 0.04389872,\n",
       "       0.03826445, 0.08714963, 0.1178714 , 0.03225189, 0.01853185,\n",
       "       0.2758485 , 0.01264025, 0.14982097, 0.61933905, 0.05067532,\n",
       "       0.0883975 , 0.01237853, 0.18986215, 0.0606069 , 0.98816264,\n",
       "       0.06116632, 0.05033681, 0.2894615 , 0.08918035, 0.06699175,\n",
       "       0.08135386, 0.10893063, 0.14078961, 0.1026753 , 0.12655577,\n",
       "       0.00796406, 0.08272193, 0.06281937, 0.14328901, 0.09102113,\n",
       "       0.04120955, 0.0565917 , 0.05751066, 0.19246131, 0.22135305,\n",
       "       0.11527885, 0.13251491, 0.36476365, 0.31856516, 0.01737326,\n",
       "       0.42339152, 0.07521044, 0.01193091, 0.86532944, 0.05482063,\n",
       "       0.09346721, 0.24984786, 0.17801404, 0.02965958, 0.02200004,\n",
       "       0.26944184, 0.03975103, 0.08842751, 0.99964225, 0.2596408 ,\n",
       "       0.87984955, 0.01723976, 0.01140059, 0.99999684, 0.18540856,\n",
       "       0.058563  , 0.03835758, 0.07459719, 0.15421039, 0.2558066 ,\n",
       "       0.00875109, 0.13748372, 0.1767607 , 0.02808584, 0.02810936,\n",
       "       0.0762705 , 0.15124357, 0.00600881, 0.16495818, 0.0268981 ,\n",
       "       0.31826103, 0.99667186, 0.08981105, 0.32592702, 0.01829918,\n",
       "       0.20449263, 0.11013783, 0.2767115 , 0.03246916, 0.07501728,\n",
       "       0.01405865, 0.01328903, 0.06884055, 0.99789846, 0.25611883,\n",
       "       0.9999374 , 0.12268316, 0.19874139, 0.15526845, 0.01261544,\n",
       "       0.19840981, 0.14294086, 0.08948337, 0.34385464, 0.29994506,\n",
       "       0.8452074 , 0.07555906, 0.29961747, 0.14395973, 0.03056749,\n",
       "       0.02166257, 0.06924965, 0.3118315 , 0.06517214, 0.1862576 ,\n",
       "       0.04467115, 0.2577448 , 0.57799697, 0.15288843, 0.01243744,\n",
       "       0.19814003, 0.01931681, 0.276354  , 0.204607  , 0.0775253 ,\n",
       "       0.05286831, 0.45232955, 0.65991026, 0.5072013 , 0.16446859,\n",
       "       0.21759251, 0.3839614 , 0.0852199 , 0.05998213, 0.04394354,\n",
       "       0.39862773, 0.12139783, 0.1106832 , 0.17194094, 0.01707093,\n",
       "       0.01474381, 0.23963714, 0.05667701, 0.01603401, 0.0215095 ,\n",
       "       0.8236142 , 0.03611934, 0.17007905, 0.32430404, 0.09155568,\n",
       "       0.04529053, 0.06784292, 0.06720029, 0.1692253 , 0.04263759,\n",
       "       0.08755232, 0.2792993 , 0.07520875, 0.5487992 , 0.2729971 ,\n",
       "       0.00771035, 0.1326167 , 0.06831802, 0.23190673, 0.32773632,\n",
       "       0.06652424, 0.11031822, 0.02514637, 0.02327485, 0.11181428,\n",
       "       0.4251228 , 0.1514804 , 0.6706232 , 0.05457424, 0.5396462 ,\n",
       "       0.12099794, 0.32797575, 0.02552294, 0.02192568, 0.00474707,\n",
       "       0.24584809, 0.01424796, 0.1100321 , 0.00625688, 0.05844888,\n",
       "       0.24050826, 0.14640048, 0.4047226 , 0.02344963, 0.0281323 ,\n",
       "       0.1747799 , 0.1053889 , 0.84382296, 0.12501894, 0.40624115,\n",
       "       0.09069987, 0.05898366, 0.06240611, 0.01642971, 0.2649559 ,\n",
       "       0.01354986, 0.03747519, 0.20073363, 0.04930943, 0.01788396,\n",
       "       0.7734637 , 0.02683019, 0.6105399 , 0.15054469, 0.22027905,\n",
       "       0.05740177, 0.13376765, 0.26892275, 0.45074525, 0.14454865,\n",
       "       0.03365178, 0.12989624, 0.21732625, 0.19745812, 0.44358543,\n",
       "       0.03800763, 0.54714835, 0.09514627, 0.1278357 , 0.09714027,\n",
       "       0.47487926, 0.13483132, 0.16606513, 0.42387804, 0.06992929,\n",
       "       0.8356762 , 0.6514059 , 0.19605757, 0.12772806, 0.02959298,\n",
       "       0.27877706, 0.04250244, 0.22756718, 0.07446586, 0.02006193,\n",
       "       0.22419555, 0.21363154, 0.5769961 , 0.8914861 , 0.4288908 ,\n",
       "       0.20387055, 0.06680907, 0.07531491, 0.07713233, 0.29518244,\n",
       "       0.12097195, 0.02900229, 0.02754772, 0.8462518 , 0.11387388,\n",
       "       0.0845625 , 0.09213202, 0.09683239, 0.49985522, 0.17749234,\n",
       "       0.11602552, 0.06219532, 0.05858027, 0.0064628 , 0.12884106,\n",
       "       0.12195724, 0.02461101, 0.05587304, 0.14713927, 0.11230314,\n",
       "       0.0290355 , 0.15640654, 0.441417  , 0.15528922, 0.18145713,\n",
       "       0.09680502, 0.0769048 , 0.08210561, 0.25487003, 0.06049883,\n",
       "       0.24731883, 0.03496443, 0.01711886, 0.25279313, 0.02317105,\n",
       "       0.03071067, 0.23605552, 0.2922717 , 0.09941513, 0.10649022,\n",
       "       0.2794072 , 0.5105018 , 0.26677322, 0.04061714, 0.08346574,\n",
       "       0.30791438, 0.1562326 , 0.1537415 , 0.28364903, 0.2448991 ,\n",
       "       0.9999938 , 0.23888686, 0.10415728, 0.8374884 , 0.13484283,\n",
       "       0.07961263, 0.09068207, 0.07508098, 0.16527227, 0.1666697 ,\n",
       "       0.14708188, 0.03991223, 0.01738289, 0.9999989 , 0.21494073,\n",
       "       0.05048727, 0.62504596, 0.2408155 , 0.30838788, 0.99997634,\n",
       "       0.691076  , 0.2039169 , 0.19147104, 0.03215979, 0.15185037,\n",
       "       0.9834914 , 0.39218697, 0.01568402, 0.16667731, 0.01338127,\n",
       "       0.35533756, 0.5808166 , 0.18572545, 0.02487895, 0.02405458,\n",
       "       0.19396208, 0.0321834 , 0.02469329, 0.4337169 , 0.03929638,\n",
       "       0.02496965, 0.12598687, 0.96882004, 0.10277927, 0.05529955,\n",
       "       0.12630667, 0.04181717, 0.05575973, 0.19083384, 0.9522735 ,\n",
       "       0.1123977 , 0.04354376, 0.01323644, 0.3763149 , 0.999999  ,\n",
       "       0.6672288 , 0.8132971 , 0.05681635, 0.3719662 , 0.07357334,\n",
       "       0.13515735, 0.02718134, 0.26008496, 0.04813523, 0.15086329,\n",
       "       0.10427217, 0.31973183, 0.19578469, 0.10678764, 0.04493726,\n",
       "       0.06890622, 0.59685487, 0.03273828, 0.2514934 , 0.26265192,\n",
       "       0.50365794, 0.09112252, 0.3675001 , 0.04906654, 0.4782095 ,\n",
       "       0.02073099, 0.06802838, 0.08116595, 0.25858164, 0.33081892,\n",
       "       0.09214122, 0.10384466, 0.00922523, 0.10720911, 0.21681766,\n",
       "       0.30031514, 0.10595242, 0.0806134 , 0.0244327 , 0.68630534,\n",
       "       0.06053811, 0.22266825, 0.1411406 , 0.07148024, 0.04775734,\n",
       "       0.0101814 , 0.23093587, 0.17635497, 0.03434445, 0.5883746 ,\n",
       "       0.37599683, 0.13861391, 0.1530448 , 0.15022142, 0.12041575,\n",
       "       0.25261095, 0.15370859, 0.5605482 , 0.18158463, 0.34665838,\n",
       "       0.09194538, 0.00844706, 0.08115654, 0.09066761, 0.43794882,\n",
       "       0.06492059, 0.18787892, 0.18825406, 0.28356737, 0.03085819,\n",
       "       0.40761226, 0.46173936, 0.09202403, 0.28357202, 0.5097007 ,\n",
       "       0.11290511, 0.14734153, 0.1326279 , 0.1531767 , 0.34628472,\n",
       "       0.18651326, 0.17058109, 0.07390113, 0.30270585, 0.17130353,\n",
       "       0.1698436 , 0.11487402, 0.4472999 , 0.03541421, 0.17833084,\n",
       "       0.16787322, 0.07026827, 0.1095689 , 0.00686767, 0.19076909,\n",
       "       0.00573027, 0.15941983, 0.50051427, 0.11198662, 0.1305438 ,\n",
       "       0.14181587, 0.08486548, 0.01088679, 0.10106651, 0.14827861,\n",
       "       0.2810175 , 0.09422462, 0.14452448, 0.03986542, 0.10543347,\n",
       "       0.13593364, 0.02426618, 0.05979657, 0.03925009, 0.23779848,\n",
       "       0.09156185, 0.29920083, 0.17855784, 0.9966141 , 0.12421841,\n",
       "       0.00878887, 0.7940312 , 0.2858179 , 0.01688727, 0.31306815,\n",
       "       0.22616021, 0.33486494, 0.37283888, 0.22081457, 0.06404721,\n",
       "       0.16470212, 0.01656032, 0.06577244, 0.39306563, 0.5190588 ,\n",
       "       0.07904403, 0.18351278, 0.05330925, 0.17992699, 0.02389741,\n",
       "       0.04018494, 0.06120818, 0.14923666, 0.9645209 , 0.12953292,\n",
       "       0.21988498, 0.02258751, 0.3895453 , 0.16203496, 0.2929999 ,\n",
       "       0.12030131, 0.03064992, 0.21618345, 0.06973571, 0.09804687,\n",
       "       0.15310755, 0.05922952, 0.20221233, 0.54012924, 0.02372097,\n",
       "       0.14849749, 0.04393618, 0.0425503 , 0.13932359, 0.29702535,\n",
       "       0.12652579, 0.00944251, 0.21653028, 0.13984102, 0.11343394,\n",
       "       0.02729247, 0.04947989, 0.67176014, 0.0982601 , 0.01366998,\n",
       "       0.0394322 , 0.13232048, 0.0207555 , 0.21429488, 0.38257158,\n",
       "       0.7667356 , 0.37870544, 0.07925821, 0.04195759, 0.10009868,\n",
       "       0.08503383, 0.05568153, 0.02190793, 0.31285137, 0.99996686,\n",
       "       0.00394949, 0.40386525, 0.01069526, 0.07755829, 0.34516647,\n",
       "       0.01699788, 0.03556048, 0.22955278, 0.07697947, 0.06839578,\n",
       "       0.09103552, 0.03980036, 0.09581784, 0.20727341, 0.15405232,\n",
       "       0.10669328, 0.41990373, 0.07792218, 0.1439815 , 0.09887716,\n",
       "       0.30933625, 0.06382962, 0.9645644 , 0.36393648, 0.30756372,\n",
       "       0.1669351 , 0.02456462, 0.20062082, 0.26813912, 0.3504585 ,\n",
       "       0.03530811, 0.42441645, 0.13859381, 0.10208307, 0.01951131,\n",
       "       0.10859838, 0.15324178, 0.09430971, 0.05120166, 0.01709065,\n",
       "       0.01330989, 0.0486786 , 0.23402143, 0.08948135, 0.26718223,\n",
       "       0.40111312, 0.09940102, 0.0066077 , 0.07941853, 0.02755493,\n",
       "       0.00783257, 0.7662886 , 0.05649927, 0.04309465, 0.24652554,\n",
       "       0.9999914 , 0.24221185, 0.1277325 , 0.19041435, 0.10962604,\n",
       "       0.05910011, 0.04641558, 0.19575901, 0.17677286, 0.1363425 ,\n",
       "       0.11144855, 0.01206782, 0.022308  , 0.0566921 , 0.12747876,\n",
       "       0.01943141, 0.03795787, 0.01488805, 0.01424653, 0.5564136 ,\n",
       "       0.4483859 , 0.03714617, 0.00945283, 0.02051192, 0.11707068,\n",
       "       0.80228645, 0.02494918, 0.06883284, 0.28904498, 0.03609346,\n",
       "       0.9989901 , 0.7426405 , 0.9947698 , 0.27350682, 0.60564697,\n",
       "       0.01772461, 0.03605684, 0.3573748 , 0.03532733, 0.02258303,\n",
       "       0.9999958 , 0.02712284, 0.5844376 , 0.17135088, 0.01243489,\n",
       "       0.13776313, 0.2963994 , 0.09077374, 0.16687456, 0.16132754,\n",
       "       0.03894646, 0.11932036, 0.02270389, 0.4770967 , 0.0287955 ,\n",
       "       0.0113397 , 0.1894934 , 0.09342417, 0.16640349, 0.11393659,\n",
       "       0.05288719, 0.2452201 , 0.15160105, 0.9999979 , 0.11920105,\n",
       "       0.13745478, 0.1030613 , 0.5289498 , 0.15702854, 0.12380283,\n",
       "       0.52296615, 0.0726595 , 0.08434614, 0.3539995 , 0.03690854,\n",
       "       0.23192945, 0.133339  , 0.18104911, 0.06029501, 0.14216563,\n",
       "       0.9922855 , 0.3264311 , 0.10627344, 0.24989176, 0.172333  ,\n",
       "       0.07515477, 0.26190817, 0.17203942, 0.11551967, 0.30949056,\n",
       "       0.73159885, 0.02284123, 0.2066926 , 0.14295962, 0.13903323,\n",
       "       0.02285722, 0.0808473 , 0.6605097 , 0.31354618, 0.00903083,\n",
       "       0.12363965, 0.4349964 , 0.01926269, 0.15903765, 0.0111722 ,\n",
       "       0.12965487, 0.00694241, 0.16376074, 0.1625929 , 0.17445247,\n",
       "       0.17201284, 0.12305116, 0.18268168, 0.02331472, 0.12872551,\n",
       "       0.16630076, 0.0976756 , 0.01864517, 0.55497396, 0.01529515,\n",
       "       0.04352033, 0.11821945, 0.15267263, 0.0451918 , 0.14890571,\n",
       "       0.50718486, 0.19828756, 0.05588101, 0.05024051, 0.02844165,\n",
       "       0.01321711, 0.19558346, 0.06086668, 0.39211693, 0.5085768 ,\n",
       "       0.01735056, 0.36849463, 0.06541202, 0.11798401, 0.03094893],\n",
       "      dtype=float32)"
      ]
     },
     "execution_count": 102,
     "metadata": {},
     "output_type": "execute_result"
    }
   ],
   "source": [
    "y_pred"
   ]
  },
  {
   "cell_type": "code",
   "execution_count": 103,
   "id": "7aef1681-f0b0-4a58-82e2-a4a8d0c31539",
   "metadata": {},
   "outputs": [
    {
     "data": {
      "text/plain": [
       "(1000,)"
      ]
     },
     "execution_count": 103,
     "metadata": {},
     "output_type": "execute_result"
    }
   ],
   "source": [
    "y_test.shape"
   ]
  },
  {
   "cell_type": "code",
   "execution_count": 104,
   "id": "808c27bd-c54b-4a02-b779-853bfffc4771",
   "metadata": {},
   "outputs": [
    {
     "data": {
      "text/plain": [
       "9394    0\n",
       "898     1\n",
       "2398    0\n",
       "5906    0\n",
       "2343    0\n",
       "       ..\n",
       "9319    0\n",
       "2662    1\n",
       "6925    0\n",
       "8070    0\n",
       "3651    0\n",
       "Name: Exited, Length: 1000, dtype: int64"
      ]
     },
     "execution_count": 104,
     "metadata": {},
     "output_type": "execute_result"
    }
   ],
   "source": [
    "y_test"
   ]
  },
  {
   "cell_type": "code",
   "execution_count": 105,
   "id": "82346574-f58c-4d4b-97b0-e071ce2ac3bc",
   "metadata": {},
   "outputs": [
    {
     "data": {
      "text/plain": [
       "dtype('float32')"
      ]
     },
     "execution_count": 105,
     "metadata": {},
     "output_type": "execute_result"
    }
   ],
   "source": [
    "# dtype of y_pred\n",
    "y_pred.dtype"
   ]
  },
  {
   "cell_type": "code",
   "execution_count": 106,
   "id": "2e49a006-b1fa-49f4-ae58-c100da1b92f0",
   "metadata": {},
   "outputs": [
    {
     "data": {
      "text/plain": [
       "dtype('int64')"
      ]
     },
     "execution_count": 106,
     "metadata": {},
     "output_type": "execute_result"
    }
   ],
   "source": [
    "# y_test dtype\n",
    "y_test.dtype"
   ]
  },
  {
   "cell_type": "code",
   "execution_count": 107,
   "id": "dd34139f-a182-4324-a134-c705ae47a17c",
   "metadata": {},
   "outputs": [
    {
     "data": {
      "text/plain": [
       "numpy.ndarray"
      ]
     },
     "execution_count": 107,
     "metadata": {},
     "output_type": "execute_result"
    }
   ],
   "source": [
    "# type of y_pred\n",
    "type(y_pred)"
   ]
  },
  {
   "cell_type": "code",
   "execution_count": 108,
   "id": "b838b296-1f8b-4405-ad6e-81aa01fc751a",
   "metadata": {},
   "outputs": [
    {
     "data": {
      "text/plain": [
       "pandas.core.series.Series"
      ]
     },
     "execution_count": 108,
     "metadata": {},
     "output_type": "execute_result"
    }
   ],
   "source": [
    "# type of y_test\n",
    "type(y_test)"
   ]
  },
  {
   "cell_type": "code",
   "execution_count": 109,
   "id": "fc81681f-1c5a-4bab-8b7d-ab0881f9acfa",
   "metadata": {},
   "outputs": [
    {
     "data": {
      "text/plain": [
       "[0,\n",
       " 0,\n",
       " 0,\n",
       " 0,\n",
       " 0,\n",
       " 1,\n",
       " 0,\n",
       " 0,\n",
       " 0,\n",
       " 1,\n",
       " 0,\n",
       " 0,\n",
       " 0,\n",
       " 0,\n",
       " 0,\n",
       " 0,\n",
       " 0,\n",
       " 0,\n",
       " 0,\n",
       " 0,\n",
       " 0,\n",
       " 0,\n",
       " 0,\n",
       " 0,\n",
       " 0,\n",
       " 0,\n",
       " 0,\n",
       " 0,\n",
       " 0,\n",
       " 0,\n",
       " 0,\n",
       " 0,\n",
       " 0,\n",
       " 0,\n",
       " 0,\n",
       " 0,\n",
       " 0,\n",
       " 0,\n",
       " 0,\n",
       " 0,\n",
       " 0,\n",
       " 0,\n",
       " 0,\n",
       " 0,\n",
       " 0,\n",
       " 0,\n",
       " 0,\n",
       " 0,\n",
       " 1,\n",
       " 0,\n",
       " 1,\n",
       " 0,\n",
       " 0,\n",
       " 0,\n",
       " 0,\n",
       " 0,\n",
       " 0,\n",
       " 0,\n",
       " 1,\n",
       " 0,\n",
       " 0,\n",
       " 0,\n",
       " 0,\n",
       " 0,\n",
       " 0,\n",
       " 1,\n",
       " 0,\n",
       " 0,\n",
       " 0,\n",
       " 1,\n",
       " 1,\n",
       " 0,\n",
       " 0,\n",
       " 1,\n",
       " 0,\n",
       " 0,\n",
       " 1,\n",
       " 0,\n",
       " 0,\n",
       " 0,\n",
       " 1,\n",
       " 0,\n",
       " 0,\n",
       " 0,\n",
       " 1,\n",
       " 0,\n",
       " 0,\n",
       " 0,\n",
       " 1,\n",
       " 0,\n",
       " 0,\n",
       " 0,\n",
       " 0,\n",
       " 1,\n",
       " 0,\n",
       " 0,\n",
       " 0,\n",
       " 0,\n",
       " 0,\n",
       " 0,\n",
       " 0,\n",
       " 0,\n",
       " 0,\n",
       " 0,\n",
       " 0,\n",
       " 0,\n",
       " 0,\n",
       " 0,\n",
       " 0,\n",
       " 0,\n",
       " 0,\n",
       " 1,\n",
       " 0,\n",
       " 0,\n",
       " 0,\n",
       " 0,\n",
       " 0,\n",
       " 0,\n",
       " 0,\n",
       " 0,\n",
       " 0,\n",
       " 0,\n",
       " 0,\n",
       " 0,\n",
       " 0,\n",
       " 0,\n",
       " 0,\n",
       " 0,\n",
       " 0,\n",
       " 0,\n",
       " 0,\n",
       " 0,\n",
       " 0,\n",
       " 0,\n",
       " 0,\n",
       " 0,\n",
       " 0,\n",
       " 1,\n",
       " 0,\n",
       " 0,\n",
       " 0,\n",
       " 0,\n",
       " 1,\n",
       " 0,\n",
       " 0,\n",
       " 0,\n",
       " 0,\n",
       " 1,\n",
       " 0,\n",
       " 1,\n",
       " 0,\n",
       " 0,\n",
       " 0,\n",
       " 0,\n",
       " 1,\n",
       " 0,\n",
       " 0,\n",
       " 0,\n",
       " 0,\n",
       " 0,\n",
       " 0,\n",
       " 0,\n",
       " 0,\n",
       " 0,\n",
       " 0,\n",
       " 0,\n",
       " 0,\n",
       " 0,\n",
       " 0,\n",
       " 0,\n",
       " 0,\n",
       " 0,\n",
       " 0,\n",
       " 0,\n",
       " 0,\n",
       " 0,\n",
       " 0,\n",
       " 0,\n",
       " 0,\n",
       " 0,\n",
       " 0,\n",
       " 0,\n",
       " 1,\n",
       " 0,\n",
       " 0,\n",
       " 0,\n",
       " 0,\n",
       " 0,\n",
       " 0,\n",
       " 0,\n",
       " 0,\n",
       " 0,\n",
       " 0,\n",
       " 0,\n",
       " 0,\n",
       " 0,\n",
       " 0,\n",
       " 1,\n",
       " 0,\n",
       " 0,\n",
       " 0,\n",
       " 0,\n",
       " 0,\n",
       " 0,\n",
       " 0,\n",
       " 0,\n",
       " 0,\n",
       " 1,\n",
       " 0,\n",
       " 0,\n",
       " 0,\n",
       " 0,\n",
       " 0,\n",
       " 1,\n",
       " 0,\n",
       " 0,\n",
       " 0,\n",
       " 0,\n",
       " 0,\n",
       " 0,\n",
       " 0,\n",
       " 0,\n",
       " 0,\n",
       " 0,\n",
       " 0,\n",
       " 0,\n",
       " 0,\n",
       " 0,\n",
       " 0,\n",
       " 0,\n",
       " 0,\n",
       " 0,\n",
       " 0,\n",
       " 0,\n",
       " 0,\n",
       " 0,\n",
       " 0,\n",
       " 0,\n",
       " 0,\n",
       " 0,\n",
       " 0,\n",
       " 0,\n",
       " 0,\n",
       " 0,\n",
       " 0,\n",
       " 0,\n",
       " 0,\n",
       " 0,\n",
       " 0,\n",
       " 0,\n",
       " 0,\n",
       " 1,\n",
       " 0,\n",
       " 0,\n",
       " 0,\n",
       " 0,\n",
       " 0,\n",
       " 0,\n",
       " 0,\n",
       " 0,\n",
       " 0,\n",
       " 0,\n",
       " 0,\n",
       " 0,\n",
       " 0,\n",
       " 0,\n",
       " 0,\n",
       " 0,\n",
       " 0,\n",
       " 0,\n",
       " 0,\n",
       " 0,\n",
       " 0,\n",
       " 1,\n",
       " 0,\n",
       " 0,\n",
       " 0,\n",
       " 0,\n",
       " 0,\n",
       " 1,\n",
       " 0,\n",
       " 0,\n",
       " 0,\n",
       " 0,\n",
       " 0,\n",
       " 0,\n",
       " 0,\n",
       " 0,\n",
       " 0,\n",
       " 0,\n",
       " 0,\n",
       " 0,\n",
       " 0,\n",
       " 0,\n",
       " 0,\n",
       " 0,\n",
       " 0,\n",
       " 0,\n",
       " 0,\n",
       " 0,\n",
       " 0,\n",
       " 0,\n",
       " 0,\n",
       " 0,\n",
       " 0,\n",
       " 0,\n",
       " 0,\n",
       " 0,\n",
       " 1,\n",
       " 0,\n",
       " 0,\n",
       " 0,\n",
       " 0,\n",
       " 0,\n",
       " 0,\n",
       " 0,\n",
       " 0,\n",
       " 0,\n",
       " 1,\n",
       " 0,\n",
       " 1,\n",
       " 0,\n",
       " 0,\n",
       " 1,\n",
       " 0,\n",
       " 0,\n",
       " 0,\n",
       " 0,\n",
       " 0,\n",
       " 0,\n",
       " 0,\n",
       " 0,\n",
       " 0,\n",
       " 0,\n",
       " 0,\n",
       " 0,\n",
       " 0,\n",
       " 0,\n",
       " 0,\n",
       " 0,\n",
       " 0,\n",
       " 1,\n",
       " 0,\n",
       " 0,\n",
       " 0,\n",
       " 0,\n",
       " 0,\n",
       " 0,\n",
       " 0,\n",
       " 0,\n",
       " 0,\n",
       " 0,\n",
       " 0,\n",
       " 1,\n",
       " 0,\n",
       " 1,\n",
       " 0,\n",
       " 0,\n",
       " 0,\n",
       " 0,\n",
       " 0,\n",
       " 0,\n",
       " 0,\n",
       " 0,\n",
       " 0,\n",
       " 1,\n",
       " 0,\n",
       " 0,\n",
       " 0,\n",
       " 0,\n",
       " 0,\n",
       " 0,\n",
       " 0,\n",
       " 0,\n",
       " 0,\n",
       " 0,\n",
       " 0,\n",
       " 1,\n",
       " 0,\n",
       " 0,\n",
       " 0,\n",
       " 0,\n",
       " 0,\n",
       " 0,\n",
       " 0,\n",
       " 0,\n",
       " 0,\n",
       " 1,\n",
       " 1,\n",
       " 0,\n",
       " 0,\n",
       " 0,\n",
       " 0,\n",
       " 0,\n",
       " 0,\n",
       " 0,\n",
       " 0,\n",
       " 0,\n",
       " 0,\n",
       " 0,\n",
       " 0,\n",
       " 0,\n",
       " 0,\n",
       " 0,\n",
       " 0,\n",
       " 1,\n",
       " 0,\n",
       " 0,\n",
       " 0,\n",
       " 0,\n",
       " 0,\n",
       " 0,\n",
       " 0,\n",
       " 0,\n",
       " 0,\n",
       " 0,\n",
       " 0,\n",
       " 0,\n",
       " 1,\n",
       " 0,\n",
       " 0,\n",
       " 0,\n",
       " 0,\n",
       " 0,\n",
       " 0,\n",
       " 0,\n",
       " 0,\n",
       " 0,\n",
       " 0,\n",
       " 0,\n",
       " 0,\n",
       " 0,\n",
       " 1,\n",
       " 0,\n",
       " 1,\n",
       " 0,\n",
       " 0,\n",
       " 0,\n",
       " 0,\n",
       " 0,\n",
       " 0,\n",
       " 0,\n",
       " 0,\n",
       " 0,\n",
       " 0,\n",
       " 0,\n",
       " 0,\n",
       " 0,\n",
       " 0,\n",
       " 0,\n",
       " 0,\n",
       " 0,\n",
       " 1,\n",
       " 0,\n",
       " 0,\n",
       " 0,\n",
       " 0,\n",
       " 0,\n",
       " 0,\n",
       " 0,\n",
       " 0,\n",
       " 0,\n",
       " 0,\n",
       " 0,\n",
       " 0,\n",
       " 1,\n",
       " 0,\n",
       " 1,\n",
       " 0,\n",
       " 0,\n",
       " 0,\n",
       " 0,\n",
       " 0,\n",
       " 0,\n",
       " 0,\n",
       " 0,\n",
       " 0,\n",
       " 0,\n",
       " 0,\n",
       " 0,\n",
       " 0,\n",
       " 1,\n",
       " 0,\n",
       " 0,\n",
       " 0,\n",
       " 0,\n",
       " 0,\n",
       " 0,\n",
       " 0,\n",
       " 0,\n",
       " 1,\n",
       " 1,\n",
       " 0,\n",
       " 0,\n",
       " 0,\n",
       " 0,\n",
       " 0,\n",
       " 0,\n",
       " 0,\n",
       " 0,\n",
       " 0,\n",
       " 0,\n",
       " 1,\n",
       " 1,\n",
       " 0,\n",
       " 0,\n",
       " 0,\n",
       " 0,\n",
       " 0,\n",
       " 0,\n",
       " 0,\n",
       " 0,\n",
       " 0,\n",
       " 1,\n",
       " 0,\n",
       " 0,\n",
       " 0,\n",
       " 0,\n",
       " 0,\n",
       " 0,\n",
       " 0,\n",
       " 0,\n",
       " 0,\n",
       " 0,\n",
       " 0,\n",
       " 0,\n",
       " 0,\n",
       " 0,\n",
       " 0,\n",
       " 0,\n",
       " 0,\n",
       " 0,\n",
       " 0,\n",
       " 0,\n",
       " 0,\n",
       " 0,\n",
       " 0,\n",
       " 0,\n",
       " 0,\n",
       " 0,\n",
       " 0,\n",
       " 0,\n",
       " 0,\n",
       " 0,\n",
       " 0,\n",
       " 0,\n",
       " 0,\n",
       " 0,\n",
       " 0,\n",
       " 0,\n",
       " 0,\n",
       " 1,\n",
       " 0,\n",
       " 0,\n",
       " 0,\n",
       " 0,\n",
       " 0,\n",
       " 0,\n",
       " 0,\n",
       " 0,\n",
       " 1,\n",
       " 0,\n",
       " 0,\n",
       " 1,\n",
       " 0,\n",
       " 0,\n",
       " 0,\n",
       " 0,\n",
       " 0,\n",
       " 0,\n",
       " 0,\n",
       " 0,\n",
       " 0,\n",
       " 1,\n",
       " 0,\n",
       " 0,\n",
       " 1,\n",
       " 0,\n",
       " 0,\n",
       " 1,\n",
       " 1,\n",
       " 0,\n",
       " 0,\n",
       " 0,\n",
       " 0,\n",
       " 1,\n",
       " 0,\n",
       " 0,\n",
       " 0,\n",
       " 0,\n",
       " 0,\n",
       " 1,\n",
       " 0,\n",
       " 0,\n",
       " 0,\n",
       " 0,\n",
       " 0,\n",
       " 0,\n",
       " 0,\n",
       " 0,\n",
       " 0,\n",
       " 0,\n",
       " 1,\n",
       " 0,\n",
       " 0,\n",
       " 0,\n",
       " 0,\n",
       " 0,\n",
       " 0,\n",
       " 1,\n",
       " 0,\n",
       " 0,\n",
       " 0,\n",
       " 0,\n",
       " 1,\n",
       " 1,\n",
       " 1,\n",
       " 0,\n",
       " 0,\n",
       " 0,\n",
       " 0,\n",
       " 0,\n",
       " 0,\n",
       " 0,\n",
       " 0,\n",
       " 0,\n",
       " 0,\n",
       " 0,\n",
       " 0,\n",
       " 0,\n",
       " 0,\n",
       " 1,\n",
       " 0,\n",
       " 0,\n",
       " 0,\n",
       " 1,\n",
       " 0,\n",
       " 0,\n",
       " 0,\n",
       " 0,\n",
       " 0,\n",
       " 0,\n",
       " 0,\n",
       " 0,\n",
       " 0,\n",
       " 0,\n",
       " 0,\n",
       " 0,\n",
       " 0,\n",
       " 0,\n",
       " 0,\n",
       " 0,\n",
       " 0,\n",
       " 0,\n",
       " 1,\n",
       " 0,\n",
       " 0,\n",
       " 0,\n",
       " 0,\n",
       " 0,\n",
       " 0,\n",
       " 0,\n",
       " 0,\n",
       " 0,\n",
       " 1,\n",
       " 0,\n",
       " 0,\n",
       " 0,\n",
       " 0,\n",
       " 0,\n",
       " 0,\n",
       " 0,\n",
       " 1,\n",
       " 0,\n",
       " 0,\n",
       " 0,\n",
       " 0,\n",
       " 0,\n",
       " 0,\n",
       " 0,\n",
       " 0,\n",
       " 0,\n",
       " 0,\n",
       " 0,\n",
       " 0,\n",
       " 0,\n",
       " 0,\n",
       " 0,\n",
       " 0,\n",
       " 1,\n",
       " 0,\n",
       " 0,\n",
       " 0,\n",
       " 0,\n",
       " 0,\n",
       " 0,\n",
       " 0,\n",
       " 0,\n",
       " 0,\n",
       " 0,\n",
       " 0,\n",
       " 0,\n",
       " 0,\n",
       " 0,\n",
       " 0,\n",
       " 0,\n",
       " 0,\n",
       " 0,\n",
       " 0,\n",
       " 0,\n",
       " 0,\n",
       " 0,\n",
       " 1,\n",
       " 0,\n",
       " 0,\n",
       " 0,\n",
       " 0,\n",
       " 0,\n",
       " 0,\n",
       " 0,\n",
       " 0,\n",
       " 0,\n",
       " 0,\n",
       " 0,\n",
       " 0,\n",
       " 0,\n",
       " 0,\n",
       " 0,\n",
       " 0,\n",
       " 0,\n",
       " 0,\n",
       " 0,\n",
       " 0,\n",
       " 1,\n",
       " 0,\n",
       " 0,\n",
       " 1,\n",
       " 0,\n",
       " 0,\n",
       " 0,\n",
       " 0,\n",
       " 0,\n",
       " 0,\n",
       " 0,\n",
       " 0,\n",
       " 0,\n",
       " 0,\n",
       " 0,\n",
       " 0,\n",
       " 1,\n",
       " 0,\n",
       " 0,\n",
       " 0,\n",
       " 0,\n",
       " 0,\n",
       " 0,\n",
       " 0,\n",
       " 0,\n",
       " 1,\n",
       " 0,\n",
       " 0,\n",
       " 0,\n",
       " 0,\n",
       " 0,\n",
       " 0,\n",
       " 0,\n",
       " 0,\n",
       " 0,\n",
       " 0,\n",
       " 0,\n",
       " 0,\n",
       " 0,\n",
       " 0,\n",
       " 1,\n",
       " 0,\n",
       " 0,\n",
       " 0,\n",
       " 0,\n",
       " 0,\n",
       " 0,\n",
       " 0,\n",
       " 0,\n",
       " 0,\n",
       " 0,\n",
       " 0,\n",
       " 0,\n",
       " 0,\n",
       " 1,\n",
       " 0,\n",
       " 0,\n",
       " 0,\n",
       " 0,\n",
       " 0,\n",
       " 0,\n",
       " 0,\n",
       " 1,\n",
       " 0,\n",
       " 0,\n",
       " 0,\n",
       " 0,\n",
       " 0,\n",
       " 0,\n",
       " 0,\n",
       " 0,\n",
       " 1,\n",
       " 0,\n",
       " 0,\n",
       " 0,\n",
       " 0,\n",
       " 0,\n",
       " 0,\n",
       " 0,\n",
       " 0,\n",
       " 0,\n",
       " 0,\n",
       " 0,\n",
       " 0,\n",
       " 0,\n",
       " 0,\n",
       " 0,\n",
       " 0,\n",
       " 0,\n",
       " 0,\n",
       " 0,\n",
       " 0,\n",
       " 0,\n",
       " 0,\n",
       " 1,\n",
       " 0,\n",
       " 0,\n",
       " 0,\n",
       " 0,\n",
       " 0,\n",
       " 0,\n",
       " 0,\n",
       " 0,\n",
       " 0,\n",
       " 0,\n",
       " 0,\n",
       " 0,\n",
       " 0,\n",
       " 0,\n",
       " 0,\n",
       " 0,\n",
       " 0,\n",
       " 0,\n",
       " 0,\n",
       " 0,\n",
       " 0,\n",
       " 0,\n",
       " 0,\n",
       " 0,\n",
       " 0,\n",
       " 0,\n",
       " 0,\n",
       " 0,\n",
       " 1,\n",
       " 0,\n",
       " 0,\n",
       " 0,\n",
       " 1,\n",
       " 0,\n",
       " 0,\n",
       " 0,\n",
       " 0,\n",
       " 0,\n",
       " 0,\n",
       " 0,\n",
       " 0,\n",
       " 0,\n",
       " 0,\n",
       " 0,\n",
       " 0,\n",
       " 0,\n",
       " 0,\n",
       " 0,\n",
       " 0,\n",
       " 0,\n",
       " 0,\n",
       " 1,\n",
       " 0,\n",
       " 0,\n",
       " 0,\n",
       " 0,\n",
       " 0,\n",
       " 1,\n",
       " 0,\n",
       " 0,\n",
       " 0,\n",
       " 0,\n",
       " 1,\n",
       " 1,\n",
       " 1,\n",
       " 0,\n",
       " 1,\n",
       " 0,\n",
       " 0,\n",
       " 0,\n",
       " 0,\n",
       " 0,\n",
       " 1,\n",
       " 0,\n",
       " 1,\n",
       " 0,\n",
       " 0,\n",
       " 0,\n",
       " 0,\n",
       " 0,\n",
       " 0,\n",
       " 0,\n",
       " 0,\n",
       " 0,\n",
       " 0,\n",
       " 0,\n",
       " 0,\n",
       " 0,\n",
       " 0,\n",
       " 0,\n",
       " 0,\n",
       " 0,\n",
       " 0,\n",
       " 0,\n",
       " 0,\n",
       " 1,\n",
       " 0,\n",
       " 0,\n",
       " 0,\n",
       " 1,\n",
       " 0,\n",
       " 0,\n",
       " 1,\n",
       " 0,\n",
       " 0,\n",
       " 0,\n",
       " 0,\n",
       " 0,\n",
       " 0,\n",
       " 0,\n",
       " 0,\n",
       " 0,\n",
       " 1,\n",
       " 0,\n",
       " 0,\n",
       " 0,\n",
       " 0,\n",
       " 0,\n",
       " 0,\n",
       " 0,\n",
       " 0,\n",
       " 0,\n",
       " 1,\n",
       " 0,\n",
       " 0,\n",
       " 0,\n",
       " 0,\n",
       " 0,\n",
       " 0,\n",
       " 1,\n",
       " 0,\n",
       " 0,\n",
       " 0,\n",
       " 0,\n",
       " 0,\n",
       " 0,\n",
       " 0,\n",
       " 0,\n",
       " 0,\n",
       " 0,\n",
       " 0,\n",
       " 0,\n",
       " 0,\n",
       " 0,\n",
       " 0,\n",
       " 0,\n",
       " 0,\n",
       " 0,\n",
       " 0,\n",
       " 0,\n",
       " 1,\n",
       " 0,\n",
       " 0,\n",
       " 0,\n",
       " 0,\n",
       " 0,\n",
       " 0,\n",
       " 1,\n",
       " 0,\n",
       " 0,\n",
       " 0,\n",
       " 0,\n",
       " 0,\n",
       " 0,\n",
       " 0,\n",
       " 0,\n",
       " 1,\n",
       " 0,\n",
       " 0,\n",
       " 0,\n",
       " 0,\n",
       " 0]"
      ]
     },
     "execution_count": 109,
     "metadata": {},
     "output_type": "execute_result"
    }
   ],
   "source": [
    "# as y-pred is float we i need to make a range and then split each value into 0 or 1\n",
    "y_predd = []\n",
    "for i in y_pred:\n",
    "    if (i < 0.5):\n",
    "        y_predd.append(0)\n",
    "    else:\n",
    "        y_predd.append(1)\n",
    "y_predd       "
   ]
  },
  {
   "cell_type": "code",
   "execution_count": 110,
   "id": "fa2a4e77-ea54-43d3-98c2-0c94bee4ab8c",
   "metadata": {},
   "outputs": [
    {
     "data": {
      "text/plain": [
       "array([0, 0, 0, 0, 0, 1, 0, 0, 0, 1, 0, 0, 0, 0, 0, 0, 0, 0, 0, 0, 0, 0,\n",
       "       0, 0, 0, 0, 0, 0, 0, 0, 0, 0, 0, 0, 0, 0, 0, 0, 0, 0, 0, 0, 0, 0,\n",
       "       0, 0, 0, 0, 1, 0, 1, 0, 0, 0, 0, 0, 0, 0, 1, 0, 0, 0, 0, 0, 0, 1,\n",
       "       0, 0, 0, 1, 1, 0, 0, 1, 0, 0, 1, 0, 0, 0, 1, 0, 0, 0, 1, 0, 0, 0,\n",
       "       1, 0, 0, 0, 0, 1, 0, 0, 0, 0, 0, 0, 0, 0, 0, 0, 0, 0, 0, 0, 0, 0,\n",
       "       0, 1, 0, 0, 0, 0, 0, 0, 0, 0, 0, 0, 0, 0, 0, 0, 0, 0, 0, 0, 0, 0,\n",
       "       0, 0, 0, 0, 0, 1, 0, 0, 0, 0, 1, 0, 0, 0, 0, 1, 0, 1, 0, 0, 0, 0,\n",
       "       1, 0, 0, 0, 0, 0, 0, 0, 0, 0, 0, 0, 0, 0, 0, 0, 0, 0, 0, 0, 0, 0,\n",
       "       0, 0, 0, 0, 0, 0, 1, 0, 0, 0, 0, 0, 0, 0, 0, 0, 0, 0, 0, 0, 0, 1,\n",
       "       0, 0, 0, 0, 0, 0, 0, 0, 0, 1, 0, 0, 0, 0, 0, 1, 0, 0, 0, 0, 0, 0,\n",
       "       0, 0, 0, 0, 0, 0, 0, 0, 0, 0, 0, 0, 0, 0, 0, 0, 0, 0, 0, 0, 0, 0,\n",
       "       0, 0, 0, 0, 0, 0, 0, 0, 0, 1, 0, 0, 0, 0, 0, 0, 0, 0, 0, 0, 0, 0,\n",
       "       0, 0, 0, 0, 0, 0, 0, 0, 0, 1, 0, 0, 0, 0, 0, 1, 0, 0, 0, 0, 0, 0,\n",
       "       0, 0, 0, 0, 0, 0, 0, 0, 0, 0, 0, 0, 0, 0, 0, 0, 0, 0, 0, 0, 0, 0,\n",
       "       1, 0, 0, 0, 0, 0, 0, 0, 0, 0, 1, 0, 1, 0, 0, 1, 0, 0, 0, 0, 0, 0,\n",
       "       0, 0, 0, 0, 0, 0, 0, 0, 0, 0, 0, 1, 0, 0, 0, 0, 0, 0, 0, 0, 0, 0,\n",
       "       0, 1, 0, 1, 0, 0, 0, 0, 0, 0, 0, 0, 0, 1, 0, 0, 0, 0, 0, 0, 0, 0,\n",
       "       0, 0, 0, 1, 0, 0, 0, 0, 0, 0, 0, 0, 0, 1, 1, 0, 0, 0, 0, 0, 0, 0,\n",
       "       0, 0, 0, 0, 0, 0, 0, 0, 0, 1, 0, 0, 0, 0, 0, 0, 0, 0, 0, 0, 0, 0,\n",
       "       1, 0, 0, 0, 0, 0, 0, 0, 0, 0, 0, 0, 0, 0, 1, 0, 1, 0, 0, 0, 0, 0,\n",
       "       0, 0, 0, 0, 0, 0, 0, 0, 0, 0, 0, 0, 1, 0, 0, 0, 0, 0, 0, 0, 0, 0,\n",
       "       0, 0, 0, 1, 0, 1, 0, 0, 0, 0, 0, 0, 0, 0, 0, 0, 0, 0, 0, 1, 0, 0,\n",
       "       0, 0, 0, 0, 0, 0, 1, 1, 0, 0, 0, 0, 0, 0, 0, 0, 0, 0, 1, 1, 0, 0,\n",
       "       0, 0, 0, 0, 0, 0, 0, 1, 0, 0, 0, 0, 0, 0, 0, 0, 0, 0, 0, 0, 0, 0,\n",
       "       0, 0, 0, 0, 0, 0, 0, 0, 0, 0, 0, 0, 0, 0, 0, 0, 0, 0, 0, 0, 0, 0,\n",
       "       0, 1, 0, 0, 0, 0, 0, 0, 0, 0, 1, 0, 0, 1, 0, 0, 0, 0, 0, 0, 0, 0,\n",
       "       0, 1, 0, 0, 1, 0, 0, 1, 1, 0, 0, 0, 0, 1, 0, 0, 0, 0, 0, 1, 0, 0,\n",
       "       0, 0, 0, 0, 0, 0, 0, 0, 1, 0, 0, 0, 0, 0, 0, 1, 0, 0, 0, 0, 1, 1,\n",
       "       1, 0, 0, 0, 0, 0, 0, 0, 0, 0, 0, 0, 0, 0, 0, 1, 0, 0, 0, 1, 0, 0,\n",
       "       0, 0, 0, 0, 0, 0, 0, 0, 0, 0, 0, 0, 0, 0, 0, 0, 1, 0, 0, 0, 0, 0,\n",
       "       0, 0, 0, 0, 1, 0, 0, 0, 0, 0, 0, 0, 1, 0, 0, 0, 0, 0, 0, 0, 0, 0,\n",
       "       0, 0, 0, 0, 0, 0, 0, 1, 0, 0, 0, 0, 0, 0, 0, 0, 0, 0, 0, 0, 0, 0,\n",
       "       0, 0, 0, 0, 0, 0, 0, 0, 1, 0, 0, 0, 0, 0, 0, 0, 0, 0, 0, 0, 0, 0,\n",
       "       0, 0, 0, 0, 0, 0, 0, 1, 0, 0, 1, 0, 0, 0, 0, 0, 0, 0, 0, 0, 0, 0,\n",
       "       0, 1, 0, 0, 0, 0, 0, 0, 0, 0, 1, 0, 0, 0, 0, 0, 0, 0, 0, 0, 0, 0,\n",
       "       0, 0, 0, 1, 0, 0, 0, 0, 0, 0, 0, 0, 0, 0, 0, 0, 0, 1, 0, 0, 0, 0,\n",
       "       0, 0, 0, 1, 0, 0, 0, 0, 0, 0, 0, 0, 1, 0, 0, 0, 0, 0, 0, 0, 0, 0,\n",
       "       0, 0, 0, 0, 0, 0, 0, 0, 0, 0, 0, 0, 0, 1, 0, 0, 0, 0, 0, 0, 0, 0,\n",
       "       0, 0, 0, 0, 0, 0, 0, 0, 0, 0, 0, 0, 0, 0, 0, 0, 0, 0, 0, 0, 1, 0,\n",
       "       0, 0, 1, 0, 0, 0, 0, 0, 0, 0, 0, 0, 0, 0, 0, 0, 0, 0, 0, 0, 0, 1,\n",
       "       0, 0, 0, 0, 0, 1, 0, 0, 0, 0, 1, 1, 1, 0, 1, 0, 0, 0, 0, 0, 1, 0,\n",
       "       1, 0, 0, 0, 0, 0, 0, 0, 0, 0, 0, 0, 0, 0, 0, 0, 0, 0, 0, 0, 0, 1,\n",
       "       0, 0, 0, 1, 0, 0, 1, 0, 0, 0, 0, 0, 0, 0, 0, 0, 1, 0, 0, 0, 0, 0,\n",
       "       0, 0, 0, 0, 1, 0, 0, 0, 0, 0, 0, 1, 0, 0, 0, 0, 0, 0, 0, 0, 0, 0,\n",
       "       0, 0, 0, 0, 0, 0, 0, 0, 0, 0, 1, 0, 0, 0, 0, 0, 0, 1, 0, 0, 0, 0,\n",
       "       0, 0, 0, 0, 1, 0, 0, 0, 0, 0])"
      ]
     },
     "execution_count": 110,
     "metadata": {},
     "output_type": "execute_result"
    }
   ],
   "source": [
    "\n",
    "y_pred = np.array(y_predd)\n",
    "y_pred"
   ]
  },
  {
   "cell_type": "code",
   "execution_count": 111,
   "id": "c56097ce-b180-446d-8131-3828290f5ef8",
   "metadata": {},
   "outputs": [
    {
     "data": {
      "text/plain": [
       "9394    0\n",
       "898     1\n",
       "2398    0\n",
       "5906    0\n",
       "2343    0\n",
       "       ..\n",
       "9319    0\n",
       "2662    1\n",
       "6925    0\n",
       "8070    0\n",
       "3651    0\n",
       "Name: Exited, Length: 1000, dtype: int64"
      ]
     },
     "execution_count": 111,
     "metadata": {},
     "output_type": "execute_result"
    }
   ],
   "source": [
    "y_test"
   ]
  },
  {
   "cell_type": "code",
   "execution_count": 112,
   "id": "bf86b252-12d6-4fbc-bee6-24254b3e66e3",
   "metadata": {},
   "outputs": [
    {
     "data": {
      "text/plain": [
       "0.852"
      ]
     },
     "execution_count": 112,
     "metadata": {},
     "output_type": "execute_result"
    }
   ],
   "source": [
    "accuracy_score(y_pred, y_test)"
   ]
  },
  {
   "cell_type": "markdown",
   "id": "8737c7e3-49ee-44aa-82ea-d8dedda0e066",
   "metadata": {},
   "source": [
    "# Hyperparameter Tuning"
   ]
  },
  {
   "cell_type": "code",
   "execution_count": 117,
   "id": "5b114f6c-75a4-4b31-84bf-38706f05d3c5",
   "metadata": {},
   "outputs": [],
   "source": [
    "# define function\n",
    "def tuning(hp):\n",
    "\n",
    "    # define model\n",
    "    model1 = Sequential()\n",
    "\n",
    "    # input layer\n",
    "    model1.add(Dense(units = 10, input_dim = 10, input_shape = (10, ), kernel_initializer = 'uniform'))\n",
    "\n",
    "    # declare units\n",
    "    units = hp.Int('units', min_value = 10, max_value = 128, step = 8)\n",
    "\n",
    "    # declare optimizers\n",
    "    optimizer = hp.Choice('optimizer', values = ['adam', 'adadelta', 'rmsprop', 'sgd'])\n",
    "\n",
    "    # declare activation functions\n",
    "    activation = hp.Choice('activation', values = ['relu', 'tanh', 'sigmoid', 'softmax'])\n",
    "\n",
    "    # for loop for layers\n",
    "    for i in range(hp.Int('num_layers', min_value = 1, max_value = 10)):\n",
    "        model1.add(Dense(units = units, activation = activation, kernel_initializer = 'uniform'))\n",
    "\n",
    "    # ouput layer\n",
    "    model1.add(Dense(units = 1, activation = 'sigmoid', kernel_initializer = 'uniform'))\n",
    "\n",
    "    # compile model\n",
    "    model1.compile(optimizer = optimizer, loss = 'BinaryCrossentropy', metrics = ['accuracy'])\n",
    "\n",
    "    return model1"
   ]
  },
  {
   "cell_type": "code",
   "execution_count": 118,
   "id": "1990c19b-3bf0-45ff-b774-70de0bca6762",
   "metadata": {},
   "outputs": [],
   "source": [
    "tuner1 = kt.RandomSearch(tuning, objective = 'val_accuracy', max_trials = 2800, directory = 'tuning')"
   ]
  },
  {
   "cell_type": "code",
   "execution_count": 119,
   "id": "df6c560d-c079-49c7-a003-af9d25cdafae",
   "metadata": {},
   "outputs": [
    {
     "name": "stdout",
     "output_type": "stream",
     "text": [
      "Trial 2050 Complete [00h 00m 06s]\n",
      "val_accuracy: 0.7940000295639038\n",
      "\n",
      "Best val_accuracy So Far: 0.871999979019165\n",
      "Total elapsed time: 04h 59m 24s\n"
     ]
    }
   ],
   "source": [
    "tuner1.search(x_train, y_train, epochs = 5, validation_data = (x_test, y_test))"
   ]
  },
  {
   "cell_type": "code",
   "execution_count": 120,
   "id": "4d6c25cc-818c-4d8b-b37f-9284749f9f5c",
   "metadata": {},
   "outputs": [
    {
     "data": {
      "text/plain": [
       "{'units': 106, 'optimizer': 'adam', 'activation': 'relu', 'num_layers': 6}"
      ]
     },
     "execution_count": 120,
     "metadata": {},
     "output_type": "execute_result"
    }
   ],
   "source": [
    "# find best parametersac\n",
    "tuner1.get_best_hyperparameters()[0].values"
   ]
  },
  {
   "cell_type": "code",
   "execution_count": 121,
   "id": "baf81cd9-a6e5-403f-941e-06483bfb626f",
   "metadata": {},
   "outputs": [
    {
     "data": {
      "text/plain": [
       "{'units': 106, 'optimizer': 'adam', 'activation': 'relu', 'num_layers': 6}"
      ]
     },
     "execution_count": 121,
     "metadata": {},
     "output_type": "execute_result"
    }
   ],
   "source": [
    "# find best parametersac\n",
    "tuner1.get_best_hyperparameters()[0].values"
   ]
  },
  {
   "cell_type": "code",
   "execution_count": 122,
   "id": "8954d834-78ad-4996-98a4-d47cfeef0eb6",
   "metadata": {},
   "outputs": [
    {
     "name": "stdout",
     "output_type": "stream",
     "text": [
      "10\n",
      "18\n",
      "26\n",
      "34\n",
      "42\n",
      "50\n",
      "58\n",
      "66\n",
      "74\n",
      "82\n",
      "90\n",
      "98\n",
      "106\n",
      "114\n",
      "122\n"
     ]
    }
   ],
   "source": [
    "for i in range(10, 128, 8):\n",
    "    print(i)"
   ]
  },
  {
   "cell_type": "code",
   "execution_count": null,
   "id": "7835c80e-e9a9-4a12-9313-10ffb3ff815f",
   "metadata": {},
   "outputs": [],
   "source": []
  }
 ],
 "metadata": {
  "kernelspec": {
   "display_name": "Python 3 (ipykernel)",
   "language": "python",
   "name": "python3"
  },
  "language_info": {
   "codemirror_mode": {
    "name": "ipython",
    "version": 3
   },
   "file_extension": ".py",
   "mimetype": "text/x-python",
   "name": "python",
   "nbconvert_exporter": "python",
   "pygments_lexer": "ipython3",
   "version": "3.11.4"
  }
 },
 "nbformat": 4,
 "nbformat_minor": 5
}
