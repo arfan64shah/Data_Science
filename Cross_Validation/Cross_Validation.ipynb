{
 "cells": [
  {
   "cell_type": "code",
   "execution_count": 32,
   "id": "cbff8aff-04d5-444a-a4ea-144467675b0f",
   "metadata": {},
   "outputs": [],
   "source": [
    "# import required libraries\n",
    "import pandas as pd\n",
    "import numpy as np\n",
    "from sklearn.tree import DecisionTreeClassifier\n",
    "from sklearn.metrics import accuracy_score\n",
    "from sklearn.svm import SVC\n",
    "from sklearn.ensemble import RandomForestClassifier\n",
    "from sklearn.neighbors import KNeighborsClassifier\n",
    "from sklearn.linear_model import LogisticRegression"
   ]
  },
  {
   "cell_type": "code",
   "execution_count": 10,
   "id": "cba9029e-9ee5-499c-9d04-d8a407fed0f9",
   "metadata": {},
   "outputs": [
    {
     "data": {
      "text/html": [
       "<div>\n",
       "<style scoped>\n",
       "    .dataframe tbody tr th:only-of-type {\n",
       "        vertical-align: middle;\n",
       "    }\n",
       "\n",
       "    .dataframe tbody tr th {\n",
       "        vertical-align: top;\n",
       "    }\n",
       "\n",
       "    .dataframe thead th {\n",
       "        text-align: right;\n",
       "    }\n",
       "</style>\n",
       "<table border=\"1\" class=\"dataframe\">\n",
       "  <thead>\n",
       "    <tr style=\"text-align: right;\">\n",
       "      <th></th>\n",
       "      <th>ID</th>\n",
       "      <th>Gender</th>\n",
       "      <th>Own_car</th>\n",
       "      <th>Own_property</th>\n",
       "      <th>Work_phone</th>\n",
       "      <th>Phone</th>\n",
       "      <th>Email</th>\n",
       "      <th>Unemployed</th>\n",
       "      <th>Num_children</th>\n",
       "      <th>Num_family</th>\n",
       "      <th>Account_length</th>\n",
       "      <th>Total_income</th>\n",
       "      <th>Age</th>\n",
       "      <th>Years_employed</th>\n",
       "      <th>Income_type</th>\n",
       "      <th>Education_type</th>\n",
       "      <th>Family_status</th>\n",
       "      <th>Housing_type</th>\n",
       "      <th>Occupation_type</th>\n",
       "      <th>Target</th>\n",
       "    </tr>\n",
       "  </thead>\n",
       "  <tbody>\n",
       "    <tr>\n",
       "      <th>0</th>\n",
       "      <td>5008804</td>\n",
       "      <td>1</td>\n",
       "      <td>1</td>\n",
       "      <td>1</td>\n",
       "      <td>1</td>\n",
       "      <td>0</td>\n",
       "      <td>0</td>\n",
       "      <td>0</td>\n",
       "      <td>0</td>\n",
       "      <td>2</td>\n",
       "      <td>15</td>\n",
       "      <td>427500.0</td>\n",
       "      <td>32.868574</td>\n",
       "      <td>12.435574</td>\n",
       "      <td>Working</td>\n",
       "      <td>Higher education</td>\n",
       "      <td>Civil marriage</td>\n",
       "      <td>Rented apartment</td>\n",
       "      <td>Other</td>\n",
       "      <td>1</td>\n",
       "    </tr>\n",
       "    <tr>\n",
       "      <th>1</th>\n",
       "      <td>5008806</td>\n",
       "      <td>1</td>\n",
       "      <td>1</td>\n",
       "      <td>1</td>\n",
       "      <td>0</td>\n",
       "      <td>0</td>\n",
       "      <td>0</td>\n",
       "      <td>0</td>\n",
       "      <td>0</td>\n",
       "      <td>2</td>\n",
       "      <td>29</td>\n",
       "      <td>112500.0</td>\n",
       "      <td>58.793815</td>\n",
       "      <td>3.104787</td>\n",
       "      <td>Working</td>\n",
       "      <td>Secondary / secondary special</td>\n",
       "      <td>Married</td>\n",
       "      <td>House / apartment</td>\n",
       "      <td>Security staff</td>\n",
       "      <td>0</td>\n",
       "    </tr>\n",
       "    <tr>\n",
       "      <th>2</th>\n",
       "      <td>5008808</td>\n",
       "      <td>0</td>\n",
       "      <td>0</td>\n",
       "      <td>1</td>\n",
       "      <td>0</td>\n",
       "      <td>1</td>\n",
       "      <td>1</td>\n",
       "      <td>0</td>\n",
       "      <td>0</td>\n",
       "      <td>1</td>\n",
       "      <td>4</td>\n",
       "      <td>270000.0</td>\n",
       "      <td>52.321403</td>\n",
       "      <td>8.353354</td>\n",
       "      <td>Commercial associate</td>\n",
       "      <td>Secondary / secondary special</td>\n",
       "      <td>Single / not married</td>\n",
       "      <td>House / apartment</td>\n",
       "      <td>Sales staff</td>\n",
       "      <td>0</td>\n",
       "    </tr>\n",
       "    <tr>\n",
       "      <th>3</th>\n",
       "      <td>5008812</td>\n",
       "      <td>0</td>\n",
       "      <td>0</td>\n",
       "      <td>1</td>\n",
       "      <td>0</td>\n",
       "      <td>0</td>\n",
       "      <td>0</td>\n",
       "      <td>1</td>\n",
       "      <td>0</td>\n",
       "      <td>1</td>\n",
       "      <td>20</td>\n",
       "      <td>283500.0</td>\n",
       "      <td>61.504343</td>\n",
       "      <td>0.000000</td>\n",
       "      <td>Pensioner</td>\n",
       "      <td>Higher education</td>\n",
       "      <td>Separated</td>\n",
       "      <td>House / apartment</td>\n",
       "      <td>Other</td>\n",
       "      <td>0</td>\n",
       "    </tr>\n",
       "    <tr>\n",
       "      <th>4</th>\n",
       "      <td>5008815</td>\n",
       "      <td>1</td>\n",
       "      <td>1</td>\n",
       "      <td>1</td>\n",
       "      <td>1</td>\n",
       "      <td>1</td>\n",
       "      <td>1</td>\n",
       "      <td>0</td>\n",
       "      <td>0</td>\n",
       "      <td>2</td>\n",
       "      <td>5</td>\n",
       "      <td>270000.0</td>\n",
       "      <td>46.193967</td>\n",
       "      <td>2.105450</td>\n",
       "      <td>Working</td>\n",
       "      <td>Higher education</td>\n",
       "      <td>Married</td>\n",
       "      <td>House / apartment</td>\n",
       "      <td>Accountants</td>\n",
       "      <td>0</td>\n",
       "    </tr>\n",
       "  </tbody>\n",
       "</table>\n",
       "</div>"
      ],
      "text/plain": [
       "        ID  Gender  Own_car  Own_property  Work_phone  Phone  Email  \\\n",
       "0  5008804       1        1             1           1      0      0   \n",
       "1  5008806       1        1             1           0      0      0   \n",
       "2  5008808       0        0             1           0      1      1   \n",
       "3  5008812       0        0             1           0      0      0   \n",
       "4  5008815       1        1             1           1      1      1   \n",
       "\n",
       "   Unemployed  Num_children  Num_family  Account_length  Total_income  \\\n",
       "0           0             0           2              15      427500.0   \n",
       "1           0             0           2              29      112500.0   \n",
       "2           0             0           1               4      270000.0   \n",
       "3           1             0           1              20      283500.0   \n",
       "4           0             0           2               5      270000.0   \n",
       "\n",
       "         Age  Years_employed           Income_type  \\\n",
       "0  32.868574       12.435574               Working   \n",
       "1  58.793815        3.104787               Working   \n",
       "2  52.321403        8.353354  Commercial associate   \n",
       "3  61.504343        0.000000             Pensioner   \n",
       "4  46.193967        2.105450               Working   \n",
       "\n",
       "                  Education_type         Family_status       Housing_type  \\\n",
       "0               Higher education        Civil marriage   Rented apartment   \n",
       "1  Secondary / secondary special               Married  House / apartment   \n",
       "2  Secondary / secondary special  Single / not married  House / apartment   \n",
       "3               Higher education             Separated  House / apartment   \n",
       "4               Higher education               Married  House / apartment   \n",
       "\n",
       "  Occupation_type  Target  \n",
       "0           Other       1  \n",
       "1  Security staff       0  \n",
       "2     Sales staff       0  \n",
       "3           Other       0  \n",
       "4     Accountants       0  "
      ]
     },
     "execution_count": 10,
     "metadata": {},
     "output_type": "execute_result"
    }
   ],
   "source": [
    "# load and read dataset\n",
    "dataset = pd.read_csv('clean_data.csv')\n",
    "dataset.head()"
   ]
  },
  {
   "cell_type": "code",
   "execution_count": 11,
   "id": "4d034c25-d4f9-429f-8c7a-982940d51a27",
   "metadata": {},
   "outputs": [
    {
     "data": {
      "text/plain": [
       "Index(['ID', 'Gender', 'Own_car', 'Own_property', 'Work_phone', 'Phone',\n",
       "       'Email', 'Unemployed', 'Num_children', 'Num_family', 'Account_length',\n",
       "       'Total_income', 'Age', 'Years_employed', 'Income_type',\n",
       "       'Education_type', 'Family_status', 'Housing_type', 'Occupation_type',\n",
       "       'Target'],\n",
       "      dtype='object')"
      ]
     },
     "execution_count": 11,
     "metadata": {},
     "output_type": "execute_result"
    }
   ],
   "source": [
    "# columns\n",
    "dataset.columns"
   ]
  },
  {
   "cell_type": "code",
   "execution_count": 12,
   "id": "bfce5ce4-e7bf-4b4d-bfda-db7119a56077",
   "metadata": {},
   "outputs": [
    {
     "data": {
      "text/html": [
       "<div>\n",
       "<style scoped>\n",
       "    .dataframe tbody tr th:only-of-type {\n",
       "        vertical-align: middle;\n",
       "    }\n",
       "\n",
       "    .dataframe tbody tr th {\n",
       "        vertical-align: top;\n",
       "    }\n",
       "\n",
       "    .dataframe thead th {\n",
       "        text-align: right;\n",
       "    }\n",
       "</style>\n",
       "<table border=\"1\" class=\"dataframe\">\n",
       "  <thead>\n",
       "    <tr style=\"text-align: right;\">\n",
       "      <th></th>\n",
       "      <th>Gender</th>\n",
       "      <th>Own_car</th>\n",
       "      <th>Own_property</th>\n",
       "      <th>Work_phone</th>\n",
       "      <th>Phone</th>\n",
       "      <th>Email</th>\n",
       "      <th>Unemployed</th>\n",
       "      <th>Num_children</th>\n",
       "      <th>Num_family</th>\n",
       "      <th>Account_length</th>\n",
       "      <th>Total_income</th>\n",
       "      <th>Age</th>\n",
       "      <th>Years_employed</th>\n",
       "      <th>Target</th>\n",
       "    </tr>\n",
       "  </thead>\n",
       "  <tbody>\n",
       "    <tr>\n",
       "      <th>0</th>\n",
       "      <td>1</td>\n",
       "      <td>1</td>\n",
       "      <td>1</td>\n",
       "      <td>1</td>\n",
       "      <td>0</td>\n",
       "      <td>0</td>\n",
       "      <td>0</td>\n",
       "      <td>0</td>\n",
       "      <td>2</td>\n",
       "      <td>15</td>\n",
       "      <td>427500.0</td>\n",
       "      <td>32.868574</td>\n",
       "      <td>12.435574</td>\n",
       "      <td>1</td>\n",
       "    </tr>\n",
       "    <tr>\n",
       "      <th>1</th>\n",
       "      <td>1</td>\n",
       "      <td>1</td>\n",
       "      <td>1</td>\n",
       "      <td>0</td>\n",
       "      <td>0</td>\n",
       "      <td>0</td>\n",
       "      <td>0</td>\n",
       "      <td>0</td>\n",
       "      <td>2</td>\n",
       "      <td>29</td>\n",
       "      <td>112500.0</td>\n",
       "      <td>58.793815</td>\n",
       "      <td>3.104787</td>\n",
       "      <td>0</td>\n",
       "    </tr>\n",
       "    <tr>\n",
       "      <th>2</th>\n",
       "      <td>0</td>\n",
       "      <td>0</td>\n",
       "      <td>1</td>\n",
       "      <td>0</td>\n",
       "      <td>1</td>\n",
       "      <td>1</td>\n",
       "      <td>0</td>\n",
       "      <td>0</td>\n",
       "      <td>1</td>\n",
       "      <td>4</td>\n",
       "      <td>270000.0</td>\n",
       "      <td>52.321403</td>\n",
       "      <td>8.353354</td>\n",
       "      <td>0</td>\n",
       "    </tr>\n",
       "    <tr>\n",
       "      <th>3</th>\n",
       "      <td>0</td>\n",
       "      <td>0</td>\n",
       "      <td>1</td>\n",
       "      <td>0</td>\n",
       "      <td>0</td>\n",
       "      <td>0</td>\n",
       "      <td>1</td>\n",
       "      <td>0</td>\n",
       "      <td>1</td>\n",
       "      <td>20</td>\n",
       "      <td>283500.0</td>\n",
       "      <td>61.504343</td>\n",
       "      <td>0.000000</td>\n",
       "      <td>0</td>\n",
       "    </tr>\n",
       "    <tr>\n",
       "      <th>4</th>\n",
       "      <td>1</td>\n",
       "      <td>1</td>\n",
       "      <td>1</td>\n",
       "      <td>1</td>\n",
       "      <td>1</td>\n",
       "      <td>1</td>\n",
       "      <td>0</td>\n",
       "      <td>0</td>\n",
       "      <td>2</td>\n",
       "      <td>5</td>\n",
       "      <td>270000.0</td>\n",
       "      <td>46.193967</td>\n",
       "      <td>2.105450</td>\n",
       "      <td>0</td>\n",
       "    </tr>\n",
       "  </tbody>\n",
       "</table>\n",
       "</div>"
      ],
      "text/plain": [
       "   Gender  Own_car  Own_property  Work_phone  Phone  Email  Unemployed  \\\n",
       "0       1        1             1           1      0      0           0   \n",
       "1       1        1             1           0      0      0           0   \n",
       "2       0        0             1           0      1      1           0   \n",
       "3       0        0             1           0      0      0           1   \n",
       "4       1        1             1           1      1      1           0   \n",
       "\n",
       "   Num_children  Num_family  Account_length  Total_income        Age  \\\n",
       "0             0           2              15      427500.0  32.868574   \n",
       "1             0           2              29      112500.0  58.793815   \n",
       "2             0           1               4      270000.0  52.321403   \n",
       "3             0           1              20      283500.0  61.504343   \n",
       "4             0           2               5      270000.0  46.193967   \n",
       "\n",
       "   Years_employed  Target  \n",
       "0       12.435574       1  \n",
       "1        3.104787       0  \n",
       "2        8.353354       0  \n",
       "3        0.000000       0  \n",
       "4        2.105450       0  "
      ]
     },
     "execution_count": 12,
     "metadata": {},
     "output_type": "execute_result"
    }
   ],
   "source": [
    "dataset = dataset.drop(columns = ['ID', 'Income_type', 'Education_type', 'Family_status', 'Housing_type', 'Occupation_type'], axis = 1)\n",
    "dataset.head()"
   ]
  },
  {
   "cell_type": "code",
   "execution_count": 13,
   "id": "4477f6b8-a814-41dc-b56d-38fc8fb92e03",
   "metadata": {},
   "outputs": [
    {
     "data": {
      "text/plain": [
       "Gender            0\n",
       "Own_car           0\n",
       "Own_property      0\n",
       "Work_phone        0\n",
       "Phone             0\n",
       "Email             0\n",
       "Unemployed        0\n",
       "Num_children      0\n",
       "Num_family        0\n",
       "Account_length    0\n",
       "Total_income      0\n",
       "Age               0\n",
       "Years_employed    0\n",
       "Target            0\n",
       "dtype: int64"
      ]
     },
     "execution_count": 13,
     "metadata": {},
     "output_type": "execute_result"
    }
   ],
   "source": [
    "dataset.isnull().sum()"
   ]
  },
  {
   "cell_type": "code",
   "execution_count": 15,
   "id": "5df26828-e011-451c-b4e4-0a8b4078b7c3",
   "metadata": {},
   "outputs": [
    {
     "data": {
      "text/plain": [
       "0    1\n",
       "1    0\n",
       "2    0\n",
       "3    0\n",
       "4    0\n",
       "Name: Target, dtype: int64"
      ]
     },
     "execution_count": 15,
     "metadata": {},
     "output_type": "execute_result"
    }
   ],
   "source": [
    "# split data into dependent and independent sets\n",
    "x = dataset.iloc[ : , :-1]\n",
    "y = dataset.iloc[ : , -1]\n",
    "y.head()"
   ]
  },
  {
   "cell_type": "code",
   "execution_count": 18,
   "id": "08244a50-c215-4a2a-8665-88e70e7a3652",
   "metadata": {},
   "outputs": [
    {
     "data": {
      "text/plain": [
       "(1457, 13)"
      ]
     },
     "execution_count": 18,
     "metadata": {},
     "output_type": "execute_result"
    }
   ],
   "source": [
    "# now split x and y into training and testing sets\n",
    "train_size = int(len(dataset)*0.85)\n",
    "\n",
    "x_train = x.iloc[ : train_size, :]\n",
    "x_test = x.iloc[train_size : , : ]\n",
    "x_test.shape"
   ]
  },
  {
   "cell_type": "code",
   "execution_count": 20,
   "id": "d8fd3b4a-1e93-4743-953d-7c3a6e60bda0",
   "metadata": {},
   "outputs": [
    {
     "data": {
      "text/plain": [
       "(1457,)"
      ]
     },
     "execution_count": 20,
     "metadata": {},
     "output_type": "execute_result"
    }
   ],
   "source": [
    "# now split y\n",
    "y_train = y[ : train_size]\n",
    "y_test = y[train_size: ]\n",
    "y_test.shape"
   ]
  },
  {
   "cell_type": "code",
   "execution_count": 25,
   "id": "a365fd74-9a11-4d35-98e5-ebbf06a8a579",
   "metadata": {},
   "outputs": [],
   "source": [
    "# now write a function which should compare the performance of various models\n",
    "def best_model(model, x_train, x_test, y_train, y_test):\n",
    "    model.fit(x_train, y_train)\n",
    "\n",
    "    y_pred = model.predict(x_test)\n",
    "    \n",
    "    return accuracy_score(y_test, y_pred)\n",
    "    "
   ]
  },
  {
   "cell_type": "code",
   "execution_count": 26,
   "id": "64e52b4c-8bc3-4f74-bb20-5bb225a7b017",
   "metadata": {},
   "outputs": [
    {
     "data": {
      "text/plain": [
       "0.7192862045298559"
      ]
     },
     "execution_count": 26,
     "metadata": {},
     "output_type": "execute_result"
    }
   ],
   "source": [
    "best_model(DecisionTreeClassifier(), x_train, x_test, y_train, y_test)"
   ]
  },
  {
   "cell_type": "code",
   "execution_count": 28,
   "id": "19fcd535-83cb-462d-bb7e-91e8e5f3dfce",
   "metadata": {},
   "outputs": [
    {
     "data": {
      "text/plain": [
       "0.8057652711050103"
      ]
     },
     "execution_count": 28,
     "metadata": {},
     "output_type": "execute_result"
    }
   ],
   "source": [
    "best_model(SVC(), x_train, x_test, y_train, y_test)"
   ]
  },
  {
   "cell_type": "code",
   "execution_count": 29,
   "id": "5aaf165b-94f0-40ad-8268-711677389637",
   "metadata": {},
   "outputs": [
    {
     "data": {
      "text/plain": [
       "0.8043925875085792"
      ]
     },
     "execution_count": 29,
     "metadata": {},
     "output_type": "execute_result"
    }
   ],
   "source": [
    "best_model(RandomForestClassifier(), x_train, x_test, y_train, y_test)"
   ]
  },
  {
   "cell_type": "code",
   "execution_count": 31,
   "id": "98ee4918-0f13-4f6a-b4e2-e181b523e912",
   "metadata": {},
   "outputs": [
    {
     "data": {
      "text/plain": [
       "0.7982155113246396"
      ]
     },
     "execution_count": 31,
     "metadata": {},
     "output_type": "execute_result"
    }
   ],
   "source": [
    "best_model(KNeighborsClassifier(), x_train, x_test, y_train, y_test)"
   ]
  },
  {
   "cell_type": "code",
   "execution_count": 33,
   "id": "cd2f809d-8de2-4962-8545-16edc9f0a6cb",
   "metadata": {},
   "outputs": [
    {
     "data": {
      "text/plain": [
       "0.8057652711050103"
      ]
     },
     "execution_count": 33,
     "metadata": {},
     "output_type": "execute_result"
    }
   ],
   "source": [
    "best_model(LogisticRegression(), x_train, x_test, y_train, y_test)"
   ]
  },
  {
   "cell_type": "code",
   "execution_count": null,
   "id": "4a0b8b7d-2f85-4b4f-bbe2-0b1c265de667",
   "metadata": {},
   "outputs": [],
   "source": [
    "# now apply k fold cross validation\n",
    "ds_score = []\n",
    "svc_score = []\n",
    "rf_score = []\n",
    "knn_score = []\n",
    "lr_score = []\n",
    "\n",
    "for train_index, test_index in kf.split(dataset)"
   ]
  }
 ],
 "metadata": {
  "kernelspec": {
   "display_name": "Python 3 (ipykernel)",
   "language": "python",
   "name": "python3"
  },
  "language_info": {
   "codemirror_mode": {
    "name": "ipython",
    "version": 3
   },
   "file_extension": ".py",
   "mimetype": "text/x-python",
   "name": "python",
   "nbconvert_exporter": "python",
   "pygments_lexer": "ipython3",
   "version": "3.11.7"
  }
 },
 "nbformat": 4,
 "nbformat_minor": 5
}
