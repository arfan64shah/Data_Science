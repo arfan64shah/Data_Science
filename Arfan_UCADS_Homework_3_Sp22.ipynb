{
 "cells": [
  {
   "cell_type": "markdown",
   "metadata": {},
   "source": [
    "# Introduction to Data Science\n",
    "## Homework 3"
   ]
  },
  {
   "cell_type": "markdown",
   "metadata": {},
   "source": [
    "Student Name: Arfan Shah\n",
    "\n",
    "Student Netid:\n",
    "***"
   ]
  },
  {
   "cell_type": "markdown",
   "metadata": {},
   "source": [
    "### Part 1 - Preparing a Training Set and Training a Decision Tree (Total 10 Points)\n",
    "This is a hands-on task where we build a predictive model using Decision Trees. For this part, we will be using the data in `cell2cell_data.csv`.\n",
    "\n",
    "These historical data consist of 39,859 customers: 19,901 customers that churned (i.e., left the company) and 19,958 that did not churn (see the `\"churndep\"` variable). Here are the dataset's 11 possible predictor variables for churning behavior: \n",
    "\n",
    "```\n",
    "Pos.  Var. Name  Var. Description\n",
    "----- ---------- --------------------------------------------------------------\n",
    "1     revenue    Mean monthly revenue in dollars\n",
    "2     outcalls   Mean number of outbound voice calls\n",
    "3     incalls    Mean number of inbound voice calls\n",
    "4     months     Months in Service\n",
    "5     eqpdays    Number of days the customer has had his/her current equipment\n",
    "6     webcap     Handset is web capable\n",
    "7     marryyes   Married (1=Yes; 0=No)\n",
    "8     travel     Has traveled to non-US country (1=Yes; 0=No)\n",
    "9     pcown      Owns a personal computer (1=Yes; 0=No)\n",
    "10    creditcd   Possesses a credit card (1=Yes; 0=No)\n",
    "11    retcalls   Number of calls previously made to retention team\n",
    "```\n",
    "\n",
    "The 12th column, the dependent variable `\"churndep\"`, equals 1 if the customer churned, and 0 otherwise. "
   ]
  },
  {
   "cell_type": "markdown",
   "metadata": {},
   "source": [
    "1\\. Load the data and prepare it for modeling. Note that the features are already processed for you, so the only thing needed here is to split the data into training and testing. Use pandas to create two data frames: train_df and test_df, where train_df has 80% of the data chosen uniformly at random without replacement (test_df should have the other 20%). Also, make sure to write your own code to do the splits. You may use any random() function from numpy but do not use the data splitting functions from Sklearn.<br><br>\n",
    "\n",
    "(2 Points)"
   ]
  },
  {
   "cell_type": "code",
   "execution_count": 6,
   "metadata": {},
   "outputs": [],
   "source": [
    "import pandas as pd\n",
    "import numpy as np\n",
    "import matplotlib.pyplot as plt\n",
    "from sklearn.tree import DecisionTreeClassifier\n",
    "from sklearn.metrics import accuracy_score\n",
    "from sklearn import tree\n",
    "\n",
    "dataset = pd.read_csv('/home/uca/Desktop/UCA_Undergrad/8th Semester/Data Science/cell2cell_data.csv')\n",
    "\n",
    "x = dataset.iloc[:, : -1].values\n",
    "y = dataset.iloc[:, -1].values\n",
    "\n",
    "index = np.random.rand(len(dataset)) <= 0.8\n",
    "train_df = dataset[index]\n",
    "test_df = dataset[~index]\n"
   ]
  },
  {
   "cell_type": "code",
   "execution_count": 10,
   "metadata": {},
   "outputs": [],
   "source": [
    "#preprocessing (missingg data + date column drop as it is not affecting predicted variable) + instances+ refernces + which and why algorithms\n",
    "train_x =  dataset.iloc[:, : -1].values\n",
    "train_y = dataset.iloc[:, -1].values"
   ]
  },
  {
   "cell_type": "markdown",
   "metadata": {},
   "source": [
    "2\\. Now build and train a decision tree classifier using `DecisionTreeClassifier()` [(manual page)](http://scikit-learn.org/stable/modules/generated/sklearn.tree.DecisionTreeClassifier.html) on train_df to predict the `\"churndep\"` target variable. Make sure to use `criterion='entropy'` when instantiating an instance of `DecisionTreeClassifier()`. For all other settings you should use all of the default options.\n",
    "\n",
    "(1 Point)"
   ]
  },
  {
   "cell_type": "code",
   "execution_count": 22,
   "metadata": {},
   "outputs": [],
   "source": [
    "from sklearn.tree import DecisionTreeClassifier\n",
    "training_features = train_df.iloc[:, : -1]\n",
    "training_target = train_df.iloc[:, -1]\n",
    "classifer = DecisionTreeClassifier(criterion='entropy', random_state=0)\n",
    "trainedData = classifer.fit(train_x, train_y)"
   ]
  },
  {
   "cell_type": "markdown",
   "metadata": {},
   "source": [
    "3\\. Using the resulting model from 2.2, show a bar plot of feature names and their feature importance (hint: check the attributes of the `DecisionTreeClassifier()` object directly in IPython or check the manual!).\n",
    "\n",
    "(3 Points)"
   ]
  },
  {
   "cell_type": "code",
   "execution_count": 31,
   "metadata": {},
   "outputs": [
    {
     "data": {
      "image/png": "[encoded data removed]",
      "text/plain": [
       "<Figure size 864x432 with 1 Axes>"
      ]
     },
     "metadata": {
      "needs_background": "light"
     },
     "output_type": "display_data"
    }
   ],
   "source": [
    "x_length = np.arange(len(list(training_features)))\n",
    "names = list(training_features)\n",
    "importance = pd.DataFrame({\"Features\":list(training_features),\"Importance\":trainedData.feature_importances_})\n",
    "importance.sort_values(by = 'Importance',ascending = False,inplace = True)\n",
    "\n",
    "plt.figure(figsize = (12,6))\n",
    "plt.title(\"Feature Importance Graph\")\n",
    "\n",
    "plt.bar(x_length,importance[\"Importance\"],align=\"center\",color=\"green\")\n",
    "plt.xticks(x_length,importance[\"Features\"],rotation=\"70\")\n",
    "plt.xlabel('Features')\n",
    "plt.ylabel('Importance')\n",
    "\n",
    "plt.show()"
   ]
  },
  {
   "cell_type": "markdown",
   "metadata": {},
   "source": [
    "4\\. Is the relationship between the top 3 most important features (as measured here) negative or positive? If your marketing director asked you to explain the top 3 drivers of churn, how would you interpret the relationship between these 3 features and the churn outcome?  What \"real-life\" connection can you draw between each variable and churn?\n",
    "\n",
    "(2 Points)"
   ]
  },
  {
   "cell_type": "code",
   "execution_count": 33,
   "metadata": {},
   "outputs": [
    {
     "data": {
      "text/html": [
       "<div>\n",
       "<style scoped>\n",
       "    .dataframe tbody tr th:only-of-type {\n",
       "        vertical-align: middle;\n",
       "    }\n",
       "\n",
       "    .dataframe tbody tr th {\n",
       "        vertical-align: top;\n",
       "    }\n",
       "\n",
       "    .dataframe thead th {\n",
       "        text-align: right;\n",
       "    }\n",
       "</style>\n",
       "<table border=\"1\" class=\"dataframe\">\n",
       "  <thead>\n",
       "    <tr style=\"text-align: right;\">\n",
       "      <th></th>\n",
       "      <th>revenue</th>\n",
       "      <th>eqpdays</th>\n",
       "      <th>outcalls</th>\n",
       "      <th>churndep</th>\n",
       "    </tr>\n",
       "  </thead>\n",
       "  <tbody>\n",
       "    <tr>\n",
       "      <th>revenue</th>\n",
       "      <td>1.000000</td>\n",
       "      <td>-0.222074</td>\n",
       "      <td>0.500709</td>\n",
       "      <td>-0.013370</td>\n",
       "    </tr>\n",
       "    <tr>\n",
       "      <th>eqpdays</th>\n",
       "      <td>-0.222074</td>\n",
       "      <td>1.000000</td>\n",
       "      <td>-0.244112</td>\n",
       "      <td>0.112821</td>\n",
       "    </tr>\n",
       "    <tr>\n",
       "      <th>outcalls</th>\n",
       "      <td>0.500709</td>\n",
       "      <td>-0.244112</td>\n",
       "      <td>1.000000</td>\n",
       "      <td>-0.037071</td>\n",
       "    </tr>\n",
       "    <tr>\n",
       "      <th>churndep</th>\n",
       "      <td>-0.013370</td>\n",
       "      <td>0.112821</td>\n",
       "      <td>-0.037071</td>\n",
       "      <td>1.000000</td>\n",
       "    </tr>\n",
       "  </tbody>\n",
       "</table>\n",
       "</div>"
      ],
      "text/plain": [
       "           revenue   eqpdays  outcalls  churndep\n",
       "revenue   1.000000 -0.222074  0.500709 -0.013370\n",
       "eqpdays  -0.222074  1.000000 -0.244112  0.112821\n",
       "outcalls  0.500709 -0.244112  1.000000 -0.037071\n",
       "churndep -0.013370  0.112821 -0.037071  1.000000"
      ]
     },
     "execution_count": 33,
     "metadata": {},
     "output_type": "execute_result"
    }
   ],
   "source": [
    "columns = list(dataset[importance[:3][\"Features\"]])\n",
    "columns.extend([\"churndep\"])\n",
    "dataset[columns].corr()"
   ]
  },
  {
   "cell_type": "markdown",
   "metadata": {},
   "source": [
    "<p>\n",
    "<span style=\"color:blue\">\n",
    "Top three features are revenue, eqpdays, and outcalls.\n",
    "    Revenue and Eqpdays have a negative relationship. This means that as revenue rises somewhat, eqpdays fall. This type of relationship is weak. We may deduce that the company's revenues will increase marginally if the client stops using the current equipment and starts using the new, company-provided equipment.\n",
    "    \n",
    "    With moderate strength, revenue and outcalls are positively connected. This means that when a customer's quantity of outgoing calls grows, so does the company's revenue.\n",
    "    \n",
    "    The link between eqpdays and outcalls is poor. We may deduce that when the number of outgoing calls from consumers grows, the eqpdays, or the number of days the customer has their present equipment, decreases slightly. Customers that make more outgoing calls are more inclined to purchase new equipment from the company rather than continue to utilize their old equipment.\n",
    "    \n",
    "Monthly revenue (revenue), the number of days a client has had his or her current equipment (eqpdays), and the average number of outbound voice calls are the top three factors that influence churn.\n",
    "    \n",
    "    The less likely they are to churn as our revenue per client increases, i.e. the more they pay, the less likely they are to churn. This can be ascribed to customers being satisfied with our services and voluntarily using more of them. Although, revenue has a minor and minimal impact on churn.\n",
    "    \n",
    "    Our clients are more likely to churn the longer they utilize their current equipment. In order to lock-in the client and increase customer stickiness, we must ensure that the consumer acquires equipments from us.\n",
    "    \n",
    "    The more outgoing calls our clients make, the less likely they are to churn. More outbound calls suggest that our services are being used successfully and willingly. Customers who are satisfied are less likely to leave. This relationship, like revenue, is weak and nearly non-existent.\n",
    "    \n",
    "</span>\n",
    "</p>"
   ]
  },
  {
   "cell_type": "markdown",
   "metadata": {},
   "source": [
    "5\\. Using the classifier built in 2.2, try predicting `\"churndep\"` on both the train_df and test_df data sets. What is the accuracy on each? Remember: accuracy is the fraction of predictions whose labels were gotten right by the model. What conclusions can you derive from this?\n",
    "\n",
    "(2 Points)"
   ]
  },
  {
   "cell_type": "code",
   "execution_count": 34,
   "metadata": {},
   "outputs": [
    {
     "name": "stdout",
     "output_type": "stream",
     "text": [
      "Accuracy for the test dataset is 99.987% and accuracy for the training dataset is 99.978%\n"
     ]
    },
    {
     "name": "stderr",
     "output_type": "stream",
     "text": [
      "/home/uca/.local/lib/python3.8/site-packages/sklearn/base.py:438: UserWarning: X has feature names, but DecisionTreeClassifier was fitted without feature names\n",
      "  warnings.warn(\n",
      "/home/uca/.local/lib/python3.8/site-packages/sklearn/base.py:438: UserWarning: X has feature names, but DecisionTreeClassifier was fitted without feature names\n",
      "  warnings.warn(\n"
     ]
    }
   ],
   "source": [
    "# Splitting test dataset into target and features\n",
    "testing_features = test_df.iloc[:, : -1]\n",
    "testing_target = test_df.iloc[:, -1]\n",
    "\n",
    "#  Predicting target for train and test dataset\n",
    "test_result = trainedData.predict(testing_features)\n",
    "train_result = trainedData.predict(training_features)\n",
    "\n",
    "test_accuracy = accuracy_score(testing_target,test_result)\n",
    "train_accuracy=accuracy_score(training_target,train_result)\n",
    "print(\"Accuracy for the testing dataset is %.4f%% and accuracy for the training dataset is %.4f%%\" %(test_accuracy*100,train_accuracy*100))"
   ]
  },
  {
   "cell_type": "markdown",
   "metadata": {},
   "source": [
    "### Part 2 - Finding a Good Decision Tree (Total 10 Points)\n",
    "The default options for your decision tree may not be optimal. We need to analyze whether tuning the parameters can improve the accuracy of the classifier.  For the following options `min_samples_split` and `min_samples_leaf`:"
   ]
  },
  {
   "cell_type": "markdown",
   "metadata": {},
   "source": [
    "1\\. Generate a list of 10 values of each for the parameters min_samples_split and min_samples_leaf. \n",
    "\n",
    "(1 Point)"
   ]
  },
  {
   "cell_type": "code",
   "execution_count": 36,
   "metadata": {},
   "outputs": [],
   "source": [
    "splits = np.arange(10,1000,100)\n",
    "leafnodes = np.arange(10,1000,100)"
   ]
  },
  {
   "cell_type": "markdown",
   "metadata": {},
   "source": [
    "2\\. Explain what your reasoning was for choosing the above ranges.\n",
    "\n",
    "(1 Points)"
   ]
  },
  {
   "cell_type": "markdown",
   "metadata": {},
   "source": [
    "<p>\n",
    "<span style=\"color:blue\">\n",
    "We increase min samples split because the default value of 2 is too low and causes our model to overfit on the training data. We choose greater numbers since the data set is too huge.\n",
    "    \n",
    "We choose a higher min_samples_leaf as the default value of 1 is too low. However, we don't want the value to be too high as it can result in the model to demonstrate low variance and high bias.\n",
    "    \n",
    "For each combination of values in 3.1 (there should be 100), build a new classifier and check the classifier's accuracy on the test data. Plot the test set accuracy for these options. Use the values of min_samples_split as the x-axis and generate a new series (line) for each of min_samples_leaf.\n",
    "</span>\n",
    "</p>"
   ]
  },
  {
   "cell_type": "markdown",
   "metadata": {},
   "source": [
    "3\\. For each combination of values in 3.1 (there should be 100), build a new classifier and check the classifier's accuracy on the test data. Plot the test set accuracy for these options. Use the values of `min_samples_split` as the x-axis and generate a new series (line) for each of `min_samples_leaf`.\n",
    "\n",
    "(5 Points)"
   ]
  },
  {
   "cell_type": "code",
   "execution_count": 43,
   "metadata": {},
   "outputs": [
    {
     "name": "stdout",
     "output_type": "stream",
     "text": [
      "Optimal Sample Split Size is 910 and Optimal Leaf Samples are 210.And best accuracy is 59.2867%\n"
     ]
    },
    {
     "data": {
      "image/png": "[encoded data removed]",
      "text/plain": [
       "<Figure size 720x360 with 1 Axes>"
      ]
     },
     "metadata": {
      "needs_background": "light"
     },
     "output_type": "display_data"
    }
   ],
   "source": [
    "def DtreeIter(train_features,train_target,test_features,test_target,samplesplit,sampleleaf):\n",
    "    treeOpt=DecisionTreeClassifier(criterion=\"entropy\",min_samples_split=samplesplit,min_samples_leaf=sampleleaf)\n",
    "    treeOpt=treeOpt.fit(train_features,train_target)\n",
    "    result_Opt=treeOpt.predict(test_features)\n",
    "    return accuracy_score(test_target,result_Opt)\n",
    "\n",
    "result_optimise=dict()\n",
    "for values in splits:\n",
    "    result_optimise[values]=list()\n",
    "\n",
    "for values in splits:\n",
    "    for nodes in leafnodes:\n",
    "        result_optimise[values].append([DtreeIter(training_features,training_target,testing_features,testing_target,values,nodes)])\n",
    "\n",
    "      \n",
    "        \n",
    "#To find out best parameters        \n",
    "optimal_split=max(result_optimise, key=lambda x: result_optimise[x][1])\n",
    "optimal_accuracy=max(result_optimise[optimal_split])\n",
    "optimal_leaf=leafnodes[list(result_optimise[optimal_split]).index(optimal_accuracy)]\n",
    "print(\"Optimal Sample Split Size is %d and Optimal Leaf Samples are %d.And best accuracy is %.4f%%\" %(optimal_split,optimal_leaf,optimal_accuracy[0]*100))\n",
    "\n",
    "\n",
    "plt.figure(figsize=(10,5))\n",
    "plt.plot(splits,result_optimise[leafnodes[0]],'b',label='Leaf={}'.format(leafnodes[0]))\n",
    "plt.plot(splits,result_optimise[leafnodes[1]],'r',label='Leaf={}'.format(leafnodes[1]))\n",
    "plt.plot(splits,result_optimise[leafnodes[2]],'y',label='Leaf={}'.format(leafnodes[2]))\n",
    "plt.plot(splits,result_optimise[leafnodes[3]],'g',label='Leaf={}'.format(leafnodes[3]))\n",
    "plt.plot(splits,result_optimise[leafnodes[4]],'c',label='Leaf={}'.format(leafnodes[4]))\n",
    "plt.plot(splits,result_optimise[leafnodes[5]],'m',label='Leaf={}'.format(leafnodes[5]))\n",
    "plt.plot(splits,result_optimise[leafnodes[6]],'k',label='Leaf={}'.format(leafnodes[6]))\n",
    "plt.plot(splits,result_optimise[leafnodes[7]],'b',label='Leaf={}'.format(leafnodes[7]))\n",
    "plt.plot(splits,result_optimise[leafnodes[8]],'r',label='Leaf={}'.format(leafnodes[8]))\n",
    "plt.plot(splits,result_optimise[leafnodes[9]],'y',label='Leaf={}'.format(leafnodes[9]))\n",
    "plt.legend(loc=4)\n",
    "plt.xlabel('Minimum Sample Splits')\n",
    "plt.ylabel('Accuracy')\n",
    "plt.title('Classifier Accuracy')\n",
    "plt.show()"
   ]
  },
  {
   "cell_type": "markdown",
   "metadata": {},
   "source": [
    "4\\. Which configuration returns the best accuracy? What is this accuracy? (Note, if you don't see much variation in the test set accuracy across values of min_samples_split or min_samples_leaf, try redoing the above steps with a different range of values).\n",
    "\n",
    "(1 Point)"
   ]
  },
  {
   "cell_type": "markdown",
   "metadata": {
    "collapsed": true
   },
   "source": [
    "<p>\n",
    "<span style=\"color:blue\">\n",
    "If we set the Sample Split size to 910 and the Optimal Leaf Samples to 210, we get the best accuracy of 59.2867% This accuracy represents the percentage of times our model predicts the correct output. Values predicted by the model are compared with actual value in the test data set to determine this metric.\n",
    "</span>\n",
    "</p>"
   ]
  },
  {
   "cell_type": "markdown",
   "metadata": {},
   "source": [
    "5\\. If you were working for a marketing department, how would you use your churn production model in a real business environment? Explain why churn prediction might be good for the business and how one might improve churn by using this model.\n",
    "\n",
    "(2 Points)"
   ]
  },
  {
   "cell_type": "markdown",
   "metadata": {},
   "source": [
    "<p>\n",
    "<span style=\"color:blue\">\n",
    "Churn prediction is a critical activity for every business. Churn in the marketing sector might include both high-performing salespeople and customers.\n",
    "\n",
    "By analysing customer churn, a company can take reasonable steps to retain the existing customer. Losing a customer will not only cost the company in lost revenue, but the company will also incur additional cost to bring in a new customer which often results in higher costs due to extra advertising or onboarding benefits. Customer acquisition is 5-40 times more expensive than customer retention and it makes economic sense for the company to keep existing customers happy. Doing so may also result in an increase in profits due to increased engagement with customers.\n",
    "\n",
    "Because the salesman is frequently the face of the firm during negotiations, a company can retain its high-performing personnel by analyzing employee churn and compensating them with bonuses and rewards. The loss of a high-performing employee will result in a decline in revenue, as well as a shift in loyalty among existing customers linked with that salesperson.\n",
    "    \n",
    "By referring to the churn prediction model, the company can take decisive steps to pursue its employees and customers.\n",
    "    Example: A model-identified consumer may be rewarded with a free discount voucher, a free trial of an exclusive service, or other industry-relevant and personally satisfying offerings. As a result, the client may feel more connected to the company, which may lead to increased use of associated products and services.\n",
    "    \n",
    "    Example: To improve the employee's association with the company, a high-performing salesman identified by the model can be rewarded with a free vacation package, a free phone, or more personally satisfying products and services.\n",
    "</span>\n",
    "</p>"
   ]
  },
  {
   "cell_type": "markdown",
   "metadata": {
    "collapsed": true
   },
   "source": [
    "### Part 3: Model selection with cross-validation (Optional)\n",
    "In this part, we will focus on cross-validation to find a good value for parameter `max_depth`.\n"
   ]
  },
  {
   "cell_type": "markdown",
   "metadata": {},
   "source": [
    "1\\. Write a cross-validation function that does the following:\n",
    "- Takes as inputs a dataset, a label name, # of splits/folds (`k`), and a sequence of values for the maximum depth of the tree (`max_depth`). \n",
    "- Shuffles the data.\n",
    "- Splits the data into `k` folds according to the cross-validation logic\n",
    "- Performs two loops\n",
    "  - Outer Loop: `for each f in range(k)`:\n",
    "    - Inner Loop: `for each value in max_depth_sequence`:\n",
    "      - Trains a Decision Tree on the training split with the `max_depth=value` (USE criterion='entropy' BUT DO NOT ALTER THE OTHER PARAMETERS)\n",
    "      - Computes accuracy_value_f on test split\n",
    "      - Stores accuracy_value_f in a  dictionary of values\n",
    "- Returns a dictionary, where each key-value pair is: `value:[accuracy_value_1,...,accuracy_value_k]`\n",
    "\n",
    "(2 Points)"
   ]
  },
  {
   "cell_type": "code",
   "execution_count": 4,
   "metadata": {},
   "outputs": [],
   "source": [
    "#Place your code here\n",
    "#Uncomment line below\n",
    "#def xValDecisionTree(dataset, label_name, k, max_depth_sequence):"
   ]
  },
  {
   "cell_type": "markdown",
   "metadata": {},
   "source": [
    "2\\. Using the function written above, do the following:\n",
    "- Generate a sequence `max_depth_sequence = [None, 2, 4, 8, 16, 32, 128, 256, 512]` (Note that None is the default value for this parameter).\n",
    "2.\tCall accs = xValDecisionTree(dataset, 'churndep', 10, `max_depth_sequence`)\n",
    "3.  For each value in accs.keys(), calculate mean(accs[value]). What value is associated with the highest accuracy mean?\n",
    "4.  For each value in accs.keys(), calculate the ranges mean(accs[value]) +/- std(accs[value]). Do the ranges associated with the value that has the highest mean(accs[value]) overlap with ranges for other values? What may this suggest and what are the limitations of a standard deviation based analysis in this scenario?\n",
    "\n",
    "5.  Which depth value would you pick, if any, and why?\n",
    "\n",
    "(3 Points)"
   ]
  },
  {
   "cell_type": "code",
   "execution_count": 5,
   "metadata": {},
   "outputs": [],
   "source": [
    "#Place your code and answers here. You can create more cells if you want."
   ]
  }
 ],
 "metadata": {
  "kernelspec": {
   "display_name": "Python 3 (ipykernel)",
   "language": "python",
   "name": "python3"
  },
  "language_info": {
   "codemirror_mode": {
    "name": "ipython",
    "version": 3
   },
   "file_extension": ".py",
   "mimetype": "text/x-python",
   "name": "python",
   "nbconvert_exporter": "python",
   "pygments_lexer": "ipython3",
   "version": "3.8.10"
  }
 },
 "nbformat": 4,
 "nbformat_minor": 1
}
